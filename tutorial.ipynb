{
 "cells": [
  {
   "cell_type": "markdown",
   "id": "26f306d0",
   "metadata": {},
   "source": [
    "# TestingThings"
   ]
  },
  {
   "cell_type": "code",
   "execution_count": 1,
   "id": "eef308d3",
   "metadata": {},
   "outputs": [
    {
     "data": {
      "application/vnd.jupyter.widget-view+json": {
       "model_id": "379d9a9619a048e48166063c39f7f381",
       "version_major": 2,
       "version_minor": 0
      },
      "text/plain": [
       "HTML(value='<font size=3.5> <b>System Name</b> <br> Select the system on which you want to submit your job. </…"
      ]
     },
     "metadata": {},
     "output_type": "display_data"
    },
    {
     "data": {
      "application/vnd.jupyter.widget-view+json": {
       "model_id": "8ac2de609e0341c78c9bff4ca4e3181b",
       "version_major": 2,
       "version_minor": 0
      },
      "text/plain": [
       "Dropdown(options=('Frontier', 'Summit', 'Andes'), value='Frontier')"
      ]
     },
     "metadata": {},
     "output_type": "display_data"
    },
    {
     "data": {
      "application/vnd.jupyter.widget-view+json": {
       "model_id": "9a1e2caf37bb4dbcbd89926bafd07c3c",
       "version_major": 2,
       "version_minor": 0
      },
      "text/plain": [
       "HTML(value='<font size=3.5> <b>Application Name</b> <br> Specify your application including the full path. </f…"
      ]
     },
     "metadata": {},
     "output_type": "display_data"
    },
    {
     "data": {
      "application/vnd.jupyter.widget-view+json": {
       "model_id": "dedce84c62024a58a704908f9db5707a",
       "version_major": 2,
       "version_minor": 0
      },
      "text/plain": [
       "Text(value='my_app.exe', placeholder='Type something')"
      ]
     },
     "metadata": {},
     "output_type": "display_data"
    },
    {
     "data": {
      "application/vnd.jupyter.widget-view+json": {
       "model_id": "d32df41a1c8946ecaca5a6d03eb97081",
       "version_major": 2,
       "version_minor": 0
      },
      "text/plain": [
       "HTML(value='<font size=3.5> <b>Job Name</b> <br> Specify a name for your job. </font>', placeholder='Some HTML…"
      ]
     },
     "metadata": {},
     "output_type": "display_data"
    },
    {
     "data": {
      "application/vnd.jupyter.widget-view+json": {
       "model_id": "99027b6788c54ae3b23a487abaa3a1e9",
       "version_major": 2,
       "version_minor": 0
      },
      "text/plain": [
       "Text(value='my_job', placeholder='Type something')"
      ]
     },
     "metadata": {},
     "output_type": "display_data"
    },
    {
     "data": {
      "application/vnd.jupyter.widget-view+json": {
       "model_id": "948eca8730524e2b8bbd330f9d44103d",
       "version_major": 2,
       "version_minor": 0
      },
      "text/plain": [
       "HTML(value='<font size=3.5> <b>Email Address</b> <br> Specify your email address to get notified when the job …"
      ]
     },
     "metadata": {},
     "output_type": "display_data"
    },
    {
     "data": {
      "application/vnd.jupyter.widget-view+json": {
       "model_id": "b11a1db5188248fa8a8fe146c12d0f77",
       "version_major": 2,
       "version_minor": 0
      },
      "text/plain": [
       "Text(value='my_email@address.com', placeholder='Type something')"
      ]
     },
     "metadata": {},
     "output_type": "display_data"
    },
    {
     "data": {
      "application/vnd.jupyter.widget-view+json": {
       "model_id": "6c1ac05ccc154b489c10285c70d1fc79",
       "version_major": 2,
       "version_minor": 0
      },
      "text/plain": [
       "HTML(value='<font size=3.5> <b>Wall Clock Time</b> <br> Specify the duration of the job. </font>', placeholder…"
      ]
     },
     "metadata": {},
     "output_type": "display_data"
    },
    {
     "data": {
      "application/vnd.jupyter.widget-view+json": {
       "model_id": "f317edc0edb74d60ac8519ad94e808a0",
       "version_major": 2,
       "version_minor": 0
      },
      "text/plain": [
       "Text(value='00:01:00', placeholder='Type something')"
      ]
     },
     "metadata": {},
     "output_type": "display_data"
    },
    {
     "data": {
      "application/vnd.jupyter.widget-view+json": {
       "model_id": "cd4b5cab63e04595826680c65ef30819",
       "version_major": 2,
       "version_minor": 0
      },
      "text/plain": [
       "HTML(value='<font size=3.5> <b>Nodes</b> <br> How many nodes are used? </font>', placeholder='Some HTML')"
      ]
     },
     "metadata": {},
     "output_type": "display_data"
    },
    {
     "data": {
      "application/vnd.jupyter.widget-view+json": {
       "model_id": "d8f20e6b41504e598b30a257a20b8fe9",
       "version_major": 2,
       "version_minor": 0
      },
      "text/plain": [
       "BoundedIntText(value=7, max=10)"
      ]
     },
     "metadata": {},
     "output_type": "display_data"
    },
    {
     "data": {
      "application/vnd.jupyter.widget-view+json": {
       "model_id": "de48b13f783b4ab59e1f5d6dcddff8aa",
       "version_major": 2,
       "version_minor": 0
      },
      "text/plain": [
       "HTML(value='<font size=3.5> <b>Procs Per Node</b> <br> How many processes, e.g. MPI ranks per node, do you wan…"
      ]
     },
     "metadata": {},
     "output_type": "display_data"
    },
    {
     "data": {
      "application/vnd.jupyter.widget-view+json": {
       "model_id": "58b1f313f55f44dc80adf7367a17b25f",
       "version_major": 2,
       "version_minor": 0
      },
      "text/plain": [
       "BoundedIntText(value=7, max=10)"
      ]
     },
     "metadata": {},
     "output_type": "display_data"
    },
    {
     "data": {
      "application/vnd.jupyter.widget-view+json": {
       "model_id": "4d92ca33008b4d58861e3116d3c95aa3",
       "version_major": 2,
       "version_minor": 0
      },
      "text/plain": [
       "HTML(value='<font size=3.5> <b>Threads Per Proc</b> <br> How many threads per process do you want to use? Note…"
      ]
     },
     "metadata": {},
     "output_type": "display_data"
    },
    {
     "data": {
      "application/vnd.jupyter.widget-view+json": {
       "model_id": "892b6385ab0047dfa69cab407a33cfb1",
       "version_major": 2,
       "version_minor": 0
      },
      "text/plain": [
       "BoundedIntText(value=7, max=10)"
      ]
     },
     "metadata": {},
     "output_type": "display_data"
    },
    {
     "data": {
      "application/vnd.jupyter.widget-view+json": {
       "model_id": "503b9b88527a4164aa4a35a0bb6d3560",
       "version_major": 2,
       "version_minor": 0
      },
      "text/plain": [
       "Button(description='Generate Script', layout=Layout(width='300px'), style=ButtonStyle())"
      ]
     },
     "metadata": {},
     "output_type": "display_data"
    },
    {
     "data": {
      "application/vnd.jupyter.widget-view+json": {
       "model_id": "656739444ffc4d5fa442d933926c978e",
       "version_major": 2,
       "version_minor": 0
      },
      "text/plain": [
       "Output(layout=Layout(border='1px solid black'))"
      ]
     },
     "metadata": {},
     "output_type": "display_data"
    }
   ],
   "source": [
    "import ipywidgets as widgets\n",
    "\n",
    "system_text = widgets.HTML(\n",
    "    value=\"<font size=3.5> <b>System Name</b> <br> Select the system on which you want to submit your job. </font>\",\n",
    "    placeholder='Some HTML'\n",
    "    #description='Some HTML',\n",
    ")\n",
    "\n",
    "system = widgets.Dropdown(\n",
    "    options=['Frontier', 'Summit', 'Andes'],\n",
    "    value='Frontier',\n",
    "    #description='System:',\n",
    "    disabled=False,\n",
    ")\n",
    "\n",
    "appl_text = widgets.HTML(\n",
    "    value=\"<font size=3.5> <b>Application Name</b> <br> Specify your application including the full path. </font>\",\n",
    "    placeholder='Some HTML'\n",
    "    #description='Some HTML',\n",
    ")\n",
    "\n",
    "appl = widgets.Text(\n",
    "    value='my_app.exe',\n",
    "    placeholder='Type something',\n",
    "    #description='Application Name:',\n",
    "    disabled=False\n",
    ")\n",
    "\n",
    "job_text = widgets.HTML(\n",
    "    value=\"<font size=3.5> <b>Job Name</b> <br> Specify a name for your job. </font>\",\n",
    "    placeholder='Some HTML'\n",
    "    #description='Some HTML',\n",
    ")\n",
    "\n",
    "job = widgets.Text(\n",
    "    value='my_job',\n",
    "    placeholder='Type something',\n",
    "    #description='Job Name:',\n",
    "    disabled=False\n",
    ")\n",
    "\n",
    "\n",
    "addr_text = widgets.HTML(\n",
    "    value=\"<font size=3.5> <b>Email Address</b> <br> Specify your email address to get notified when the job enters a certain state. </font>\",\n",
    "    placeholder='Some HTML'\n",
    "    #description='Some HTML',\n",
    ")\n",
    "\n",
    "addr = widgets.Text(\n",
    "    value='my_email@address.com',\n",
    "    placeholder='Type something',\n",
    "    #description='Job Name:',\n",
    "    disabled=False\n",
    ")\n",
    "\n",
    "clock_text = widgets.HTML(\n",
    "    value=\"<font size=3.5> <b>Wall Clock Time</b> <br> Specify the duration of the job. </font>\",\n",
    "    placeholder='Some HTML'\n",
    "    #description='Some HTML',\n",
    ")\n",
    "\n",
    "clock = widgets.Text(\n",
    "    value='00:01:00',\n",
    "    placeholder='Type something',\n",
    "    #description='Job Name:',\n",
    "    disabled=False\n",
    ")\n",
    "\n",
    "node_text = widgets.HTML(\n",
    "    value=\"<font size=3.5> <b>Nodes</b> <br> How many nodes are used? </font>\",\n",
    "    placeholder='Some HTML'\n",
    "    #description='Some HTML',\n",
    ")\n",
    "\n",
    "node = widgets.BoundedIntText(\n",
    "    value=7,\n",
    "    min=0,\n",
    "    max=10,\n",
    "    step=1,\n",
    "    #description='Text:',\n",
    "    disabled=False\n",
    ")\n",
    "\n",
    "proc_text = widgets.HTML(\n",
    "    value=\"<font size=3.5> <b>Procs Per Node</b> <br> How many processes, e.g. MPI ranks per node, do you want to use? </font>\",\n",
    "    placeholder='Some HTML'\n",
    "    #description='Some HTML',\n",
    ")\n",
    "\n",
    "proc = widgets.BoundedIntText(\n",
    "    value=7,\n",
    "    min=0,\n",
    "    max=10,\n",
    "    step=1,\n",
    "    #description='Text:',\n",
    "    disabled=False\n",
    ")\n",
    "\n",
    "thread_text = widgets.HTML(\n",
    "    value=\"<font size=3.5> <b>Threads Per Proc</b> <br> How many threads per process do you want to use? Note that SLURM currently only supports jobs which use the same number of processor per process. </font>\",\n",
    "    placeholder='Some HTML'\n",
    "    #description='Some HTML',\n",
    ")\n",
    "\n",
    "thread = widgets.BoundedIntText(\n",
    "    value=7,\n",
    "    min=0,\n",
    "    max=10,\n",
    "    step=1,\n",
    "    #description='Text:',\n",
    "    disabled=False\n",
    ")\n",
    "\n",
    "\n",
    "debug_view = widgets.Output(layout={'border': '1px solid black'})\n",
    "\n",
    "@debug_view.capture(clear_output=True)\n",
    "def bad_callback(event):\n",
    "    print('#!/bin/bash')\n",
    "    print('#SBATCH -N', node.value)\n",
    "    print('#SBATCH -q debug')\n",
    "    print('#SBATCH -J', job.value)\n",
    "    print('#SBATCH --mail-user=', addr.value)\n",
    "    print('#SBATCH --mail-type=ALL')\n",
    "    print('#SBATCH -t', clock.value)\n",
    "    \n",
    "    print('srun', \\\n",
    "          '-n', proc.value, \\\n",
    "          '-c', thread.value, \\\n",
    "          appl.value)\n",
    "    return\n",
    "\n",
    "button = widgets.Button(\n",
    "    description='Generate Script',\n",
    "    layout={'width': '300px'}\n",
    ")\n",
    "button.on_click(bad_callback)\n",
    "\n",
    "display(system_text,system,appl_text,appl, job_text, \\\n",
    "        job, addr_text,addr,clock_text,clock, \\\n",
    "       node_text,node,proc_text,proc,thread_text,thread,button,debug_view)"
   ]
  },
  {
   "cell_type": "code",
   "execution_count": null,
   "id": "4674f6ab",
   "metadata": {},
   "outputs": [],
   "source": []
  }
 ],
 "metadata": {
  "kernelspec": {
   "display_name": "Python 3 (ipykernel)",
   "language": "python",
   "name": "python3"
  },
  "language_info": {
   "codemirror_mode": {
    "name": "ipython",
    "version": 3
   },
   "file_extension": ".py",
   "mimetype": "text/x-python",
   "name": "python",
   "nbconvert_exporter": "python",
   "pygments_lexer": "ipython3",
   "version": "3.8.12"
  },
  "widgets": {
   "application/vnd.jupyter.widget-state+json": {
    "state": {
     "00359ecadea04117bf1231d68a3b38f4": {
      "model_module": "@jupyter-widgets/controls",
      "model_module_version": "1.5.0",
      "model_name": "DescriptionStyleModel",
      "state": {
       "description_width": ""
      }
     },
     "005eb4b6596a4819a6ba724b8c1e9ba0": {
      "model_module": "@jupyter-widgets/controls",
      "model_module_version": "1.5.0",
      "model_name": "TextModel",
      "state": {
       "layout": "IPY_MODEL_3d80fa9724a344f6a49b51ef9c94f309",
       "placeholder": "Type something",
       "style": "IPY_MODEL_ebf73171173c4aee9c1baa61e4b8c458",
       "value": "my_email@address.com"
      }
     },
     "008bc34429cb4ec6a44b6e4b03644f20": {
      "model_module": "@jupyter-widgets/controls",
      "model_module_version": "1.5.0",
      "model_name": "DescriptionStyleModel",
      "state": {
       "description_width": ""
      }
     },
     "00dd695fb30d4edeba6d8b4b26e05f72": {
      "model_module": "@jupyter-widgets/controls",
      "model_module_version": "1.5.0",
      "model_name": "DescriptionStyleModel",
      "state": {
       "description_width": ""
      }
     },
     "00e892c065ce4bc7907e1fe83756d1d4": {
      "model_module": "@jupyter-widgets/controls",
      "model_module_version": "1.5.0",
      "model_name": "ButtonStyleModel",
      "state": {}
     },
     "0156bfc25b9a4b30b70ee52cfe03b16f": {
      "model_module": "@jupyter-widgets/controls",
      "model_module_version": "1.5.0",
      "model_name": "HTMLModel",
      "state": {
       "layout": "IPY_MODEL_be6c6f8edd7e43f7b036969a2b5d9229",
       "placeholder": "Some HTML",
       "style": "IPY_MODEL_4159f94203644aa4acf8d8c5001cb923",
       "value": "<font size=3.5> <b>Email Address</b> <br> Specify your email address to get notified when the job enters a certain state. </font>"
      }
     },
     "018ec73c59d24e95918c0f15feb0b329": {
      "model_module": "@jupyter-widgets/base",
      "model_module_version": "1.2.0",
      "model_name": "LayoutModel",
      "state": {}
     },
     "01a472875a85418a9bf04bf4be5b08be": {
      "model_module": "@jupyter-widgets/controls",
      "model_module_version": "1.5.0",
      "model_name": "DescriptionStyleModel",
      "state": {
       "description_width": ""
      }
     },
     "01a664f70c8646f596268c470d9ec0ff": {
      "model_module": "@jupyter-widgets/controls",
      "model_module_version": "1.5.0",
      "model_name": "ButtonModel",
      "state": {
       "description": "Generate Script",
       "layout": "IPY_MODEL_79a26adb34e94aa484c0c1e47914fb70",
       "style": "IPY_MODEL_4b1545ccd42644fe92d5e68e859e0abe"
      }
     },
     "02110e1ba3ed407495528ac29373d6a2": {
      "model_module": "@jupyter-widgets/base",
      "model_module_version": "1.2.0",
      "model_name": "LayoutModel",
      "state": {}
     },
     "037c60d1fd9148e593610e642b3dfea2": {
      "model_module": "@jupyter-widgets/controls",
      "model_module_version": "1.5.0",
      "model_name": "DescriptionStyleModel",
      "state": {
       "description_width": ""
      }
     },
     "0405f37023994b84931283876356433f": {
      "model_module": "@jupyter-widgets/base",
      "model_module_version": "1.2.0",
      "model_name": "LayoutModel",
      "state": {}
     },
     "040f1b39fa314539ae6fa71b08f1fe7e": {
      "model_module": "@jupyter-widgets/controls",
      "model_module_version": "1.5.0",
      "model_name": "DescriptionStyleModel",
      "state": {
       "description_width": ""
      }
     },
     "046d2b339192449eb42109ed110fa4cd": {
      "model_module": "@jupyter-widgets/controls",
      "model_module_version": "1.5.0",
      "model_name": "DescriptionStyleModel",
      "state": {
       "description_width": ""
      }
     },
     "0537bacf5fd44e97b5ac5c05b8bee856": {
      "model_module": "@jupyter-widgets/base",
      "model_module_version": "1.2.0",
      "model_name": "LayoutModel",
      "state": {}
     },
     "053d3f9cd3764b658727a7272476d2cb": {
      "model_module": "@jupyter-widgets/controls",
      "model_module_version": "1.5.0",
      "model_name": "DescriptionStyleModel",
      "state": {
       "description_width": ""
      }
     },
     "0591efe616ce461fa975398d8692afa9": {
      "model_module": "@jupyter-widgets/base",
      "model_module_version": "1.2.0",
      "model_name": "LayoutModel",
      "state": {}
     },
     "06fa79947f8a49e886e27a64e0b95996": {
      "model_module": "@jupyter-widgets/controls",
      "model_module_version": "1.5.0",
      "model_name": "BoundedIntTextModel",
      "state": {
       "layout": "IPY_MODEL_47b0792b3bba448084c86d5e62263899",
       "max": 10,
       "style": "IPY_MODEL_9294d80049764a0abdd895f19b842ffc",
       "value": 7
      }
     },
     "0718fa552d2240dcba3c9f4c1848eb1b": {
      "model_module": "@jupyter-widgets/base",
      "model_module_version": "1.2.0",
      "model_name": "LayoutModel",
      "state": {}
     },
     "072cbd6842d64f9892bfd7fbed4487f7": {
      "model_module": "@jupyter-widgets/base",
      "model_module_version": "1.2.0",
      "model_name": "LayoutModel",
      "state": {
       "width": "300px"
      }
     },
     "0794e85b92fb4f0f8c0372c539ea3876": {
      "model_module": "@jupyter-widgets/base",
      "model_module_version": "1.2.0",
      "model_name": "LayoutModel",
      "state": {}
     },
     "07a33dcb255647c3a7ec27ed73362727": {
      "model_module": "@jupyter-widgets/base",
      "model_module_version": "1.2.0",
      "model_name": "LayoutModel",
      "state": {}
     },
     "07e1f7739d9a4e21b625cd76095e6048": {
      "model_module": "@jupyter-widgets/base",
      "model_module_version": "1.2.0",
      "model_name": "LayoutModel",
      "state": {}
     },
     "085eef56e4c34261944bf94d8d395240": {
      "model_module": "@jupyter-widgets/base",
      "model_module_version": "1.2.0",
      "model_name": "LayoutModel",
      "state": {}
     },
     "08c7c2f3e70f41cb9705ff050e74a190": {
      "model_module": "@jupyter-widgets/controls",
      "model_module_version": "1.5.0",
      "model_name": "DescriptionStyleModel",
      "state": {
       "description_width": ""
      }
     },
     "09365435c51949509c0f87348e9f1017": {
      "model_module": "@jupyter-widgets/base",
      "model_module_version": "1.2.0",
      "model_name": "LayoutModel",
      "state": {}
     },
     "098a71212ac24facb0c335e19cf3502c": {
      "model_module": "@jupyter-widgets/controls",
      "model_module_version": "1.5.0",
      "model_name": "DescriptionStyleModel",
      "state": {
       "description_width": ""
      }
     },
     "09ec637597f54ebea18f2f39d8e44b88": {
      "model_module": "@jupyter-widgets/base",
      "model_module_version": "1.2.0",
      "model_name": "LayoutModel",
      "state": {}
     },
     "09f4ec9bee0b4cdca4cc5f63524fe9dc": {
      "model_module": "@jupyter-widgets/controls",
      "model_module_version": "1.5.0",
      "model_name": "DescriptionStyleModel",
      "state": {
       "description_width": ""
      }
     },
     "0a3d62dc9d554f3ca727c5ca0d62516a": {
      "model_module": "@jupyter-widgets/controls",
      "model_module_version": "1.5.0",
      "model_name": "TextModel",
      "state": {
       "layout": "IPY_MODEL_0c6aba70f542495c9a827a5f8e253ce5",
       "placeholder": "Type something",
       "style": "IPY_MODEL_93dde7d747644be1940ce751c06ddefc",
       "value": "my_email@address.com"
      }
     },
     "0a4891ade0fc40ea98506771126990ff": {
      "model_module": "@jupyter-widgets/controls",
      "model_module_version": "1.5.0",
      "model_name": "DescriptionStyleModel",
      "state": {
       "description_width": ""
      }
     },
     "0a57b7ce0ca043269243b37bc9a5d533": {
      "model_module": "@jupyter-widgets/controls",
      "model_module_version": "1.5.0",
      "model_name": "DescriptionStyleModel",
      "state": {
       "description_width": ""
      }
     },
     "0a737e2895b74a0099b989d01415f3ec": {
      "model_module": "@jupyter-widgets/controls",
      "model_module_version": "1.5.0",
      "model_name": "DescriptionStyleModel",
      "state": {
       "description_width": ""
      }
     },
     "0aef88d9906645258100b9c22d9f6b88": {
      "model_module": "@jupyter-widgets/controls",
      "model_module_version": "1.5.0",
      "model_name": "HTMLModel",
      "state": {
       "layout": "IPY_MODEL_65d4b498091647dcb4c94fe0ebc0feb4",
       "placeholder": "Some HTML",
       "style": "IPY_MODEL_d670508e2d6745a1a2c4fc16d99ff03a",
       "value": "<font size=3.5> <b>Email Address</b> <br> Specify your email address to get notified when the job enters a certain state. </font>"
      }
     },
     "0b2ad391699d4dbb8eb2b512ef696b44": {
      "model_module": "@jupyter-widgets/controls",
      "model_module_version": "1.5.0",
      "model_name": "DescriptionStyleModel",
      "state": {
       "description_width": ""
      }
     },
     "0b484ee97b354d3198fe06130aaec2c8": {
      "model_module": "@jupyter-widgets/controls",
      "model_module_version": "1.5.0",
      "model_name": "DescriptionStyleModel",
      "state": {
       "description_width": ""
      }
     },
     "0b5ab6d503da43839959aeeff55ea727": {
      "model_module": "@jupyter-widgets/controls",
      "model_module_version": "1.5.0",
      "model_name": "BoundedIntTextModel",
      "state": {
       "layout": "IPY_MODEL_57274869fc1c4620b748edf220e91d46",
       "max": 10,
       "style": "IPY_MODEL_626ac61bd9f6458f90bcfa8899627202",
       "value": 7
      }
     },
     "0b73b001c8ee4c319a708ed3ed76cffc": {
      "model_module": "@jupyter-widgets/base",
      "model_module_version": "1.2.0",
      "model_name": "LayoutModel",
      "state": {}
     },
     "0b94d08181b54b6298d3d11e53038000": {
      "model_module": "@jupyter-widgets/base",
      "model_module_version": "1.2.0",
      "model_name": "LayoutModel",
      "state": {}
     },
     "0bea0b4d62e040a794125902997073d9": {
      "model_module": "@jupyter-widgets/base",
      "model_module_version": "1.2.0",
      "model_name": "LayoutModel",
      "state": {}
     },
     "0c0d9635d37c4acc8086300a9eb3abaa": {
      "model_module": "@jupyter-widgets/base",
      "model_module_version": "1.2.0",
      "model_name": "LayoutModel",
      "state": {}
     },
     "0c58ed88467d477fbf3ef76b91254fc0": {
      "model_module": "@jupyter-widgets/controls",
      "model_module_version": "1.5.0",
      "model_name": "DescriptionStyleModel",
      "state": {
       "description_width": ""
      }
     },
     "0c5be5e1ff864eafa80a5a4d6d667feb": {
      "model_module": "@jupyter-widgets/base",
      "model_module_version": "1.2.0",
      "model_name": "LayoutModel",
      "state": {
       "border": "1px solid black"
      }
     },
     "0c6aba70f542495c9a827a5f8e253ce5": {
      "model_module": "@jupyter-widgets/base",
      "model_module_version": "1.2.0",
      "model_name": "LayoutModel",
      "state": {}
     },
     "0c72cd2e740f4de899364f22c333ac3e": {
      "model_module": "@jupyter-widgets/base",
      "model_module_version": "1.2.0",
      "model_name": "LayoutModel",
      "state": {
       "width": "300px"
      }
     },
     "0c86c234f26c45329ed11a3b3de98664": {
      "model_module": "@jupyter-widgets/controls",
      "model_module_version": "1.5.0",
      "model_name": "DescriptionStyleModel",
      "state": {
       "description_width": ""
      }
     },
     "0d20b19fa2384906b51a61173fbe37e6": {
      "model_module": "@jupyter-widgets/controls",
      "model_module_version": "1.5.0",
      "model_name": "BoundedIntTextModel",
      "state": {
       "layout": "IPY_MODEL_3a8a562159ce4a16aaa2125278da54ab",
       "max": 10,
       "style": "IPY_MODEL_60f85cd3381a4389991fdbacb1a8f691",
       "value": 7
      }
     },
     "0d4dcc7408384ec1a9e63f46bc9f2db2": {
      "model_module": "@jupyter-widgets/controls",
      "model_module_version": "1.5.0",
      "model_name": "HTMLModel",
      "state": {
       "layout": "IPY_MODEL_d06903e6498f474ebd44dd566e29f986",
       "placeholder": "Some HTML",
       "style": "IPY_MODEL_6218316f2b65410cbf4a665ebc7bc971",
       "value": "<font size=3.5> <b>Procs Per Node</b> <br> How many processes, e.g. MPI ranks per node, do you want to use? </font>"
      }
     },
     "0da3e35a5ed143afb07bd0b63e1b25d9": {
      "model_module": "@jupyter-widgets/controls",
      "model_module_version": "1.5.0",
      "model_name": "HTMLModel",
      "state": {
       "layout": "IPY_MODEL_20df9f218d8f4296b254958a8343367f",
       "placeholder": "Some HTML",
       "style": "IPY_MODEL_296ea7f2fe794dc3bd8cda708f92a6b0",
       "value": "<font size=3.5> <b>System Name</b> <br> Select the system on which you want to submit your job. </font>"
      }
     },
     "0e464fa4967d435d9f802e4f2421556b": {
      "model_module": "@jupyter-widgets/controls",
      "model_module_version": "1.5.0",
      "model_name": "DescriptionStyleModel",
      "state": {
       "description_width": ""
      }
     },
     "0ef3de44528846a0a4f7ebbb66181229": {
      "model_module": "@jupyter-widgets/controls",
      "model_module_version": "1.5.0",
      "model_name": "DescriptionStyleModel",
      "state": {
       "description_width": ""
      }
     },
     "0f13137b989b4dc6ba659bb2f1ead7a2": {
      "model_module": "@jupyter-widgets/controls",
      "model_module_version": "1.5.0",
      "model_name": "DescriptionStyleModel",
      "state": {
       "description_width": ""
      }
     },
     "1000c6d3f2f5431d943113cdbe1d0bac": {
      "model_module": "@jupyter-widgets/controls",
      "model_module_version": "1.5.0",
      "model_name": "DescriptionStyleModel",
      "state": {
       "description_width": ""
      }
     },
     "1008865628bf4555b44d1397e2b7b091": {
      "model_module": "@jupyter-widgets/base",
      "model_module_version": "1.2.0",
      "model_name": "LayoutModel",
      "state": {}
     },
     "102424d6cb634c0cb29f595292a6422b": {
      "model_module": "@jupyter-widgets/controls",
      "model_module_version": "1.5.0",
      "model_name": "DescriptionStyleModel",
      "state": {
       "description_width": ""
      }
     },
     "10ce1c143fad42bcbcb68e82ccff9c9d": {
      "model_module": "@jupyter-widgets/controls",
      "model_module_version": "1.5.0",
      "model_name": "DescriptionStyleModel",
      "state": {
       "description_width": ""
      }
     },
     "10f56a1e287a4d0680e68a81fbd619bb": {
      "model_module": "@jupyter-widgets/base",
      "model_module_version": "1.2.0",
      "model_name": "LayoutModel",
      "state": {}
     },
     "11115a77c0864305a423b0df377fd8db": {
      "model_module": "@jupyter-widgets/base",
      "model_module_version": "1.2.0",
      "model_name": "LayoutModel",
      "state": {}
     },
     "118b125976be4e0e87c5d3ae4ee274b9": {
      "model_module": "@jupyter-widgets/controls",
      "model_module_version": "1.5.0",
      "model_name": "TextModel",
      "state": {
       "layout": "IPY_MODEL_10f56a1e287a4d0680e68a81fbd619bb",
       "placeholder": "Type something",
       "style": "IPY_MODEL_0ef3de44528846a0a4f7ebbb66181229",
       "value": "my_job"
      }
     },
     "124ffbdd89b947f0a44bb3964d969f92": {
      "model_module": "@jupyter-widgets/controls",
      "model_module_version": "1.5.0",
      "model_name": "DescriptionStyleModel",
      "state": {
       "description_width": ""
      }
     },
     "129b82dcd8514dc4a50b2310853e22a6": {
      "model_module": "@jupyter-widgets/controls",
      "model_module_version": "1.5.0",
      "model_name": "HTMLModel",
      "state": {
       "layout": "IPY_MODEL_52154797912c4754b511ce36e6efd082",
       "placeholder": "Some HTML",
       "style": "IPY_MODEL_19cb5eaaf6c04864b54de92828b0b459",
       "value": "<font size=3.5> <b>Nodes</b> <br> How many nodes are used? </font>"
      }
     },
     "12a01ea1bb88406a96874418c82273b8": {
      "model_module": "@jupyter-widgets/controls",
      "model_module_version": "1.5.0",
      "model_name": "HTMLModel",
      "state": {
       "layout": "IPY_MODEL_5e1005ca5a3e4f9683c4a0930716840b",
       "placeholder": "Some HTML",
       "style": "IPY_MODEL_69fd23f626cc4df8b18100d8535b447d",
       "value": "<font size=3.5> <b>Nodes</b> <br> How many nodes are used? </font>"
      }
     },
     "12e463cfe1914026a31e7f961881c7e8": {
      "model_module": "@jupyter-widgets/controls",
      "model_module_version": "1.5.0",
      "model_name": "DescriptionStyleModel",
      "state": {
       "description_width": ""
      }
     },
     "130d4da528034f2e91fd68e6a50eb193": {
      "model_module": "@jupyter-widgets/base",
      "model_module_version": "1.2.0",
      "model_name": "LayoutModel",
      "state": {}
     },
     "13c1343d6a0d449288560b720fce9ee8": {
      "model_module": "@jupyter-widgets/controls",
      "model_module_version": "1.5.0",
      "model_name": "TextModel",
      "state": {
       "layout": "IPY_MODEL_0b73b001c8ee4c319a708ed3ed76cffc",
       "placeholder": "Type something",
       "style": "IPY_MODEL_3f8b00066b084a379573f81344d89416",
       "value": "my_email@address.com"
      }
     },
     "1400d749e30d4eb7969c2ff98c7f5686": {
      "model_module": "@jupyter-widgets/controls",
      "model_module_version": "1.5.0",
      "model_name": "HTMLModel",
      "state": {
       "layout": "IPY_MODEL_4b5ac15b159e454a8c32f1b68234dca1",
       "placeholder": "Some HTML",
       "style": "IPY_MODEL_b5b2143d209946209e6c462669d22df4",
       "value": "<font size=3.5> <b>Job Name</b> <br> Specify a name for your job. </font>"
      }
     },
     "1423ddc086aa41b9bfeb4c598aa78f0f": {
      "model_module": "@jupyter-widgets/base",
      "model_module_version": "1.2.0",
      "model_name": "LayoutModel",
      "state": {}
     },
     "14510effcff9460e8601bb56eaee47e9": {
      "model_module": "@jupyter-widgets/base",
      "model_module_version": "1.2.0",
      "model_name": "LayoutModel",
      "state": {}
     },
     "14ba02b20a91468f8f512d6698385ff8": {
      "model_module": "@jupyter-widgets/base",
      "model_module_version": "1.2.0",
      "model_name": "LayoutModel",
      "state": {
       "width": "300px"
      }
     },
     "1598784259094139a92429b1451de6cd": {
      "model_module": "@jupyter-widgets/controls",
      "model_module_version": "1.5.0",
      "model_name": "HTMLModel",
      "state": {
       "layout": "IPY_MODEL_a4adb1555d6f46e18d2289cc8a6bd82d",
       "placeholder": "Some HTML",
       "style": "IPY_MODEL_8485428ca38041cf93afd546aacd41cf",
       "value": "<font size=3.5> <b>Wall Clock Time</b> <br> Specify the duration of the job. </font>"
      }
     },
     "16058de52b1c478e93f0f848a83fdbad": {
      "model_module": "@jupyter-widgets/base",
      "model_module_version": "1.2.0",
      "model_name": "LayoutModel",
      "state": {}
     },
     "1669f2a68e9b427a8937644e9ed8809c": {
      "model_module": "@jupyter-widgets/controls",
      "model_module_version": "1.5.0",
      "model_name": "DescriptionStyleModel",
      "state": {
       "description_width": ""
      }
     },
     "171586f119ed48b2a2ba92aa7c456600": {
      "model_module": "@jupyter-widgets/base",
      "model_module_version": "1.2.0",
      "model_name": "LayoutModel",
      "state": {
       "width": "300px"
      }
     },
     "17d5989bbdf746ac8638a33e3be94143": {
      "model_module": "@jupyter-widgets/controls",
      "model_module_version": "1.5.0",
      "model_name": "BoundedIntTextModel",
      "state": {
       "layout": "IPY_MODEL_0794e85b92fb4f0f8c0372c539ea3876",
       "max": 10,
       "style": "IPY_MODEL_39f2d156db18471299c385632691b229",
       "value": 7
      }
     },
     "18419588e32d4138bfaa4c61576dba76": {
      "model_module": "@jupyter-widgets/controls",
      "model_module_version": "1.5.0",
      "model_name": "DescriptionStyleModel",
      "state": {
       "description_width": ""
      }
     },
     "199d9b6c8fd2477ca463d7c11cc84723": {
      "model_module": "@jupyter-widgets/controls",
      "model_module_version": "1.5.0",
      "model_name": "DescriptionStyleModel",
      "state": {
       "description_width": ""
      }
     },
     "19cb5eaaf6c04864b54de92828b0b459": {
      "model_module": "@jupyter-widgets/controls",
      "model_module_version": "1.5.0",
      "model_name": "DescriptionStyleModel",
      "state": {
       "description_width": ""
      }
     },
     "1a00f7be85f043eb89f773d6da290074": {
      "model_module": "@jupyter-widgets/base",
      "model_module_version": "1.2.0",
      "model_name": "LayoutModel",
      "state": {}
     },
     "1a602d13c7544cb994e880787358fdcd": {
      "model_module": "@jupyter-widgets/controls",
      "model_module_version": "1.5.0",
      "model_name": "DescriptionStyleModel",
      "state": {
       "description_width": ""
      }
     },
     "1b598123b7e1440b8803887eb4e60d09": {
      "model_module": "@jupyter-widgets/base",
      "model_module_version": "1.2.0",
      "model_name": "LayoutModel",
      "state": {
       "border": "1px solid black"
      }
     },
     "1baa947fbda64c9e855ce1143ba45757": {
      "model_module": "@jupyter-widgets/controls",
      "model_module_version": "1.5.0",
      "model_name": "DescriptionStyleModel",
      "state": {
       "description_width": ""
      }
     },
     "1bc382455e56446ca9c40696d7711869": {
      "model_module": "@jupyter-widgets/base",
      "model_module_version": "1.2.0",
      "model_name": "LayoutModel",
      "state": {
       "border": "1px solid black"
      }
     },
     "1c389b98d9d94689aebd762399f043d9": {
      "model_module": "@jupyter-widgets/base",
      "model_module_version": "1.2.0",
      "model_name": "LayoutModel",
      "state": {}
     },
     "1dba0e79cd9d4787816e5c000d6e0ee3": {
      "model_module": "@jupyter-widgets/controls",
      "model_module_version": "1.5.0",
      "model_name": "HTMLModel",
      "state": {
       "layout": "IPY_MODEL_f2d9c4002a9944c6b4f2b755323c5268",
       "placeholder": "Some HTML",
       "style": "IPY_MODEL_f960584291224893b6b5ef397978f21e",
       "value": "<font size=3.5> <b>Email Address</b> <br> Specify your email address to get notified when the job enters a certain state. </font>"
      }
     },
     "1dc7f22996904bff99470b0ffe39581a": {
      "model_module": "@jupyter-widgets/base",
      "model_module_version": "1.2.0",
      "model_name": "LayoutModel",
      "state": {}
     },
     "1ec02ff543904763b37cd9ecb8ee51fb": {
      "model_module": "@jupyter-widgets/controls",
      "model_module_version": "1.5.0",
      "model_name": "ButtonStyleModel",
      "state": {}
     },
     "1f5676b1926849048f23e8e3960b0f03": {
      "model_module": "@jupyter-widgets/controls",
      "model_module_version": "1.5.0",
      "model_name": "TextModel",
      "state": {
       "layout": "IPY_MODEL_e236e7fc2af74b079173eda184f5faec",
       "placeholder": "Type something",
       "style": "IPY_MODEL_48e3e63833544813bc85304ea8dfe3da",
       "value": "my_email@address.com"
      }
     },
     "1fb664c8977d455bbe631597e04cfc16": {
      "model_module": "@jupyter-widgets/controls",
      "model_module_version": "1.5.0",
      "model_name": "DescriptionStyleModel",
      "state": {
       "description_width": ""
      }
     },
     "20ab1ed814a64328a65437fb6e23d720": {
      "model_module": "@jupyter-widgets/controls",
      "model_module_version": "1.5.0",
      "model_name": "BoundedIntTextModel",
      "state": {
       "layout": "IPY_MODEL_84008da401d649eea95322ac7665397a",
       "max": 10,
       "style": "IPY_MODEL_053d3f9cd3764b658727a7272476d2cb",
       "value": 7
      }
     },
     "20df9f218d8f4296b254958a8343367f": {
      "model_module": "@jupyter-widgets/base",
      "model_module_version": "1.2.0",
      "model_name": "LayoutModel",
      "state": {}
     },
     "20e8d984efd844bdbd2f85c694cd2c3f": {
      "model_module": "@jupyter-widgets/controls",
      "model_module_version": "1.5.0",
      "model_name": "DescriptionStyleModel",
      "state": {
       "description_width": ""
      }
     },
     "212474f46499457488fd3f0bbb491cab": {
      "model_module": "@jupyter-widgets/controls",
      "model_module_version": "1.5.0",
      "model_name": "HTMLModel",
      "state": {
       "layout": "IPY_MODEL_f05f1d60163e426cb3d80fd11c84a342",
       "placeholder": "Some HTML",
       "style": "IPY_MODEL_9b6cb2f3236a4d88b224d6cca4acfa05",
       "value": "<font size=3.5> <b>Application Name</b> <br> Specify your application including the full path. </font>"
      }
     },
     "21943a95caa74a90a14cf3077cab9bf5": {
      "model_module": "@jupyter-widgets/controls",
      "model_module_version": "1.5.0",
      "model_name": "HTMLModel",
      "state": {
       "layout": "IPY_MODEL_7683bd2cc83a45fe80e263a18d744f7b",
       "placeholder": "Some HTML",
       "style": "IPY_MODEL_5f745a446ab346e1929281cbbe31da84",
       "value": "<font size=3.5> <b>Threads Per Proc</b> <br> How many threads per process do you want to use? Note that SLURM currently only supports jobs which use the same number of processor per process. </font>"
      }
     },
     "22bd3f192c8b450bb127bb353bd0e506": {
      "model_module": "@jupyter-widgets/base",
      "model_module_version": "1.2.0",
      "model_name": "LayoutModel",
      "state": {}
     },
     "23d45c81a3ed4f7d9bd1bbcb3085fd8e": {
      "model_module": "@jupyter-widgets/controls",
      "model_module_version": "1.5.0",
      "model_name": "ButtonStyleModel",
      "state": {}
     },
     "24578a6ce30d44bd9af0a5b8fd1200ed": {
      "model_module": "@jupyter-widgets/controls",
      "model_module_version": "1.5.0",
      "model_name": "TextModel",
      "state": {
       "layout": "IPY_MODEL_d435f84036924a48b70965be2af56b1b",
       "placeholder": "Type something",
       "style": "IPY_MODEL_95fa97bb72584cdfb855ec79a27325a2",
       "value": "00:01:00"
      }
     },
     "246ae99a4d20463d806354f7ddbbed67": {
      "model_module": "@jupyter-widgets/controls",
      "model_module_version": "1.5.0",
      "model_name": "DescriptionStyleModel",
      "state": {
       "description_width": ""
      }
     },
     "250ab92b02874c8e8e09e978a77991f7": {
      "model_module": "@jupyter-widgets/controls",
      "model_module_version": "1.5.0",
      "model_name": "HTMLModel",
      "state": {
       "layout": "IPY_MODEL_787f85828ea34b7abf28939b919d3730",
       "placeholder": "Some HTML",
       "style": "IPY_MODEL_b645badced7b49ec8e57e25cace684b8",
       "value": "<font size=3.5> <b>Job Name</b> <br> Specify a name for your job. </font>"
      }
     },
     "255ed4f333fb4603921a6f27f6daa285": {
      "model_module": "@jupyter-widgets/base",
      "model_module_version": "1.2.0",
      "model_name": "LayoutModel",
      "state": {}
     },
     "25ab2c77bef04d34874744c87bbe3fc1": {
      "model_module": "@jupyter-widgets/base",
      "model_module_version": "1.2.0",
      "model_name": "LayoutModel",
      "state": {}
     },
     "261dccb460f64ae3a7364d6b1b03d848": {
      "model_module": "@jupyter-widgets/controls",
      "model_module_version": "1.5.0",
      "model_name": "ButtonStyleModel",
      "state": {}
     },
     "266346ca039e41a98d030521273bb909": {
      "model_module": "@jupyter-widgets/controls",
      "model_module_version": "1.5.0",
      "model_name": "TextModel",
      "state": {
       "layout": "IPY_MODEL_b86ff54101274324bc38aac045fbc032",
       "placeholder": "Type something",
       "style": "IPY_MODEL_b98c9f26eb7047059a20e9d92809f847",
       "value": "my_job"
      }
     },
     "270e96491d1b4eb997de104e48223a61": {
      "model_module": "@jupyter-widgets/base",
      "model_module_version": "1.2.0",
      "model_name": "LayoutModel",
      "state": {}
     },
     "2742a6d3cc19408594b08314eae66e01": {
      "model_module": "@jupyter-widgets/controls",
      "model_module_version": "1.5.0",
      "model_name": "BoundedIntTextModel",
      "state": {
       "layout": "IPY_MODEL_c7f1c258f025467bb886bb3abc9913be",
       "max": 10,
       "style": "IPY_MODEL_18419588e32d4138bfaa4c61576dba76",
       "value": 1
      }
     },
     "274617202229499981e9f581a5030330": {
      "model_module": "@jupyter-widgets/base",
      "model_module_version": "1.2.0",
      "model_name": "LayoutModel",
      "state": {}
     },
     "2757e394f6b3433b8b115bb4b6b82e78": {
      "model_module": "@jupyter-widgets/base",
      "model_module_version": "1.2.0",
      "model_name": "LayoutModel",
      "state": {}
     },
     "27a48fc7b97241518be5570807a10aa2": {
      "model_module": "@jupyter-widgets/controls",
      "model_module_version": "1.5.0",
      "model_name": "BoundedIntTextModel",
      "state": {
       "layout": "IPY_MODEL_3cb719c5e4c34a8395867d6c7fa2fb1d",
       "max": 10,
       "style": "IPY_MODEL_e668e0c231a0408399a8eea0e60c3dd5",
       "value": 7
      }
     },
     "2882e9af7316400688ab39c161144fbb": {
      "model_module": "@jupyter-widgets/base",
      "model_module_version": "1.2.0",
      "model_name": "LayoutModel",
      "state": {}
     },
     "289dc27a356749e684cef06023c743f9": {
      "model_module": "@jupyter-widgets/controls",
      "model_module_version": "1.5.0",
      "model_name": "DescriptionStyleModel",
      "state": {
       "description_width": ""
      }
     },
     "289ffe29fd354b51859ab21f6fae992b": {
      "model_module": "@jupyter-widgets/controls",
      "model_module_version": "1.5.0",
      "model_name": "BoundedIntTextModel",
      "state": {
       "layout": "IPY_MODEL_b3f46a3cd8d742b4afd4419db3f7d61c",
       "max": 10,
       "style": "IPY_MODEL_3e8fdfd1171a4e0a8e51df10c0a96c34",
       "value": 7
      }
     },
     "28cc9690e4d049e49cc0abf84c13627e": {
      "model_module": "@jupyter-widgets/controls",
      "model_module_version": "1.5.0",
      "model_name": "DescriptionStyleModel",
      "state": {
       "description_width": ""
      }
     },
     "295cdab2dc0040b0bcc8b48dffe76038": {
      "model_module": "@jupyter-widgets/controls",
      "model_module_version": "1.5.0",
      "model_name": "TextModel",
      "state": {
       "layout": "IPY_MODEL_4e58a8fc49a446f99e76016da6647890",
       "placeholder": "Type something",
       "style": "IPY_MODEL_332605881e8842f090e1c3d50469a3d1",
       "value": "00:01:00"
      }
     },
     "296ea7f2fe794dc3bd8cda708f92a6b0": {
      "model_module": "@jupyter-widgets/controls",
      "model_module_version": "1.5.0",
      "model_name": "DescriptionStyleModel",
      "state": {
       "description_width": ""
      }
     },
     "29cdd59598204fa49025e95a3a933ac2": {
      "model_module": "@jupyter-widgets/base",
      "model_module_version": "1.2.0",
      "model_name": "LayoutModel",
      "state": {}
     },
     "29fb14fcbc6a4b808322fb42cd78b6d4": {
      "model_module": "@jupyter-widgets/base",
      "model_module_version": "1.2.0",
      "model_name": "LayoutModel",
      "state": {}
     },
     "2a22049f663046b9bb05d6418e0cb7b3": {
      "model_module": "@jupyter-widgets/controls",
      "model_module_version": "1.5.0",
      "model_name": "HTMLModel",
      "state": {
       "layout": "IPY_MODEL_a3cb9700d6ed4ad9bdfdfdc2bffb9837",
       "placeholder": "Some HTML",
       "style": "IPY_MODEL_9c3a39fef7f94d86be7063ed255fdfb0",
       "value": "<font size=3.5> <b>System Name</b> <br> Select the system on which you want to submit your job. </font>"
      }
     },
     "2a5b13859d504dbf82f5471ac662b908": {
      "model_module": "@jupyter-widgets/base",
      "model_module_version": "1.2.0",
      "model_name": "LayoutModel",
      "state": {}
     },
     "2a94c9ec51134f8a9962edeb10dc6b58": {
      "model_module": "@jupyter-widgets/controls",
      "model_module_version": "1.5.0",
      "model_name": "DescriptionStyleModel",
      "state": {
       "description_width": ""
      }
     },
     "2aed22d378ff434a928462a0bc3e2804": {
      "model_module": "@jupyter-widgets/controls",
      "model_module_version": "1.5.0",
      "model_name": "DescriptionStyleModel",
      "state": {
       "description_width": ""
      }
     },
     "2c11acd06c4544ffaae25f2ffedec286": {
      "model_module": "@jupyter-widgets/controls",
      "model_module_version": "1.5.0",
      "model_name": "HTMLModel",
      "state": {
       "layout": "IPY_MODEL_8440ca4596404a6290c30aec2db83eaa",
       "placeholder": "Some HTML",
       "style": "IPY_MODEL_8cacaa2b750442159c12ef0186456629",
       "value": "<font size=3.5> <b>Email Address</b> <br> Specify your email address to get notified when the job enters a certain state. </font>"
      }
     },
     "2d36eda72c6d455da26142b1bf996d9f": {
      "model_module": "@jupyter-widgets/controls",
      "model_module_version": "1.5.0",
      "model_name": "DescriptionStyleModel",
      "state": {
       "description_width": ""
      }
     },
     "2d54fa0c3f004c3f8a4688ab065e9833": {
      "model_module": "@jupyter-widgets/controls",
      "model_module_version": "1.5.0",
      "model_name": "HTMLModel",
      "state": {
       "layout": "IPY_MODEL_e21c9dd11fc84dbd9d0ce35273e02d1d",
       "placeholder": "Some HTML",
       "style": "IPY_MODEL_0b484ee97b354d3198fe06130aaec2c8",
       "value": "<font size=3.5> <b>Threads Per Proc</b> <br> How many threads per process do you want to use? Note that SLURM currently only supports jobs which use the same number of processor per process. </font>"
      }
     },
     "2d9b4065a5be4a7b9868807c1d2935d6": {
      "model_module": "@jupyter-widgets/controls",
      "model_module_version": "1.5.0",
      "model_name": "HTMLModel",
      "state": {
       "layout": "IPY_MODEL_29cdd59598204fa49025e95a3a933ac2",
       "placeholder": "Some HTML",
       "style": "IPY_MODEL_ccbedb41a95a497789cbecbe4c6d6e0b",
       "value": "<font size=3.5> <b>Job Name</b> <br> Specify a name for your job. </font>"
      }
     },
     "2e0fe856cdad472a8177826bc408d493": {
      "model_module": "@jupyter-widgets/controls",
      "model_module_version": "1.5.0",
      "model_name": "BoundedIntTextModel",
      "state": {
       "layout": "IPY_MODEL_3cb6353b8cc04944a1c84e1e57451c75",
       "max": 10,
       "style": "IPY_MODEL_2f14a172dd9e40f994182069e42ad5a5",
       "value": 7
      }
     },
     "2e3900ef11054b9bb2b01a90d6d6925a": {
      "model_module": "@jupyter-widgets/controls",
      "model_module_version": "1.5.0",
      "model_name": "DescriptionStyleModel",
      "state": {
       "description_width": ""
      }
     },
     "2eb29bef17e14364a2161156e24f7529": {
      "model_module": "@jupyter-widgets/controls",
      "model_module_version": "1.5.0",
      "model_name": "DescriptionStyleModel",
      "state": {
       "description_width": ""
      }
     },
     "2ee391527309442fbc5c1ba09390a630": {
      "model_module": "@jupyter-widgets/controls",
      "model_module_version": "1.5.0",
      "model_name": "HTMLModel",
      "state": {
       "layout": "IPY_MODEL_22bd3f192c8b450bb127bb353bd0e506",
       "placeholder": "Some HTML",
       "style": "IPY_MODEL_1baa947fbda64c9e855ce1143ba45757",
       "value": "<font size=3.5> <b>Application Name</b> <br> Specify your application including the full path. </font>"
      }
     },
     "2ee4b935272644a18e75472b3eda44f6": {
      "model_module": "@jupyter-widgets/base",
      "model_module_version": "1.2.0",
      "model_name": "LayoutModel",
      "state": {}
     },
     "2f14a172dd9e40f994182069e42ad5a5": {
      "model_module": "@jupyter-widgets/controls",
      "model_module_version": "1.5.0",
      "model_name": "DescriptionStyleModel",
      "state": {
       "description_width": ""
      }
     },
     "2f7e9f6d99c3489aa97b8bc8fdb3af2a": {
      "model_module": "@jupyter-widgets/controls",
      "model_module_version": "1.5.0",
      "model_name": "HTMLModel",
      "state": {
       "layout": "IPY_MODEL_500f4ce8c5fb4d80977c591d0a639751",
       "placeholder": "Some HTML",
       "style": "IPY_MODEL_2eb29bef17e14364a2161156e24f7529",
       "value": "<font size=3.5> <b>Nodes</b> <br> How many nodes are used? </font>"
      }
     },
     "2f8a7f421e964cd2bf62ed1b6da9bf19": {
      "model_module": "@jupyter-widgets/controls",
      "model_module_version": "1.5.0",
      "model_name": "DescriptionStyleModel",
      "state": {
       "description_width": ""
      }
     },
     "2f8e0e1e1f064bd3b7738028d1b6caf9": {
      "model_module": "@jupyter-widgets/controls",
      "model_module_version": "1.5.0",
      "model_name": "DescriptionStyleModel",
      "state": {
       "description_width": ""
      }
     },
     "3068e8fff78e4506877640922b4f9770": {
      "model_module": "@jupyter-widgets/base",
      "model_module_version": "1.2.0",
      "model_name": "LayoutModel",
      "state": {}
     },
     "316ac926947f45199a0eefe211afaeef": {
      "model_module": "@jupyter-widgets/controls",
      "model_module_version": "1.5.0",
      "model_name": "DescriptionStyleModel",
      "state": {
       "description_width": ""
      }
     },
     "319086a574434fe4b8d28fb062c2e204": {
      "model_module": "@jupyter-widgets/base",
      "model_module_version": "1.2.0",
      "model_name": "LayoutModel",
      "state": {}
     },
     "31a882e28f7f4509b70a09516640ef96": {
      "model_module": "@jupyter-widgets/controls",
      "model_module_version": "1.5.0",
      "model_name": "HTMLModel",
      "state": {
       "layout": "IPY_MODEL_6af2c5c7a63e482ebc2e9ff0470751f2",
       "placeholder": "Some HTML",
       "style": "IPY_MODEL_1000c6d3f2f5431d943113cdbe1d0bac",
       "value": "<font size=3.5> <b>Job Name</b> <br> Specify a name for your job. </font>"
      }
     },
     "31b9376df2d346148adda011cc72c42b": {
      "model_module": "@jupyter-widgets/controls",
      "model_module_version": "1.5.0",
      "model_name": "DescriptionStyleModel",
      "state": {
       "description_width": ""
      }
     },
     "31f4150ac46e4fc1b60a616bbb5009ba": {
      "model_module": "@jupyter-widgets/controls",
      "model_module_version": "1.5.0",
      "model_name": "TextModel",
      "state": {
       "layout": "IPY_MODEL_e541a0698a3549e39c97c0e9ee4fb219",
       "placeholder": "Type something",
       "style": "IPY_MODEL_cd0384249c55440d94d2bac478a20148",
       "value": "my_app.exe"
      }
     },
     "330547ab7b4442a89a6ce93e5eeb930f": {
      "model_module": "@jupyter-widgets/base",
      "model_module_version": "1.2.0",
      "model_name": "LayoutModel",
      "state": {}
     },
     "3308b099c00a4e7cb7f54e265f245b66": {
      "model_module": "@jupyter-widgets/controls",
      "model_module_version": "1.5.0",
      "model_name": "DescriptionStyleModel",
      "state": {
       "description_width": ""
      }
     },
     "332605881e8842f090e1c3d50469a3d1": {
      "model_module": "@jupyter-widgets/controls",
      "model_module_version": "1.5.0",
      "model_name": "DescriptionStyleModel",
      "state": {
       "description_width": ""
      }
     },
     "339ae2f0a8d241659e7ae2704c8d7d9e": {
      "model_module": "@jupyter-widgets/controls",
      "model_module_version": "1.5.0",
      "model_name": "DescriptionStyleModel",
      "state": {
       "description_width": ""
      }
     },
     "34364c058b724607b10022700e72abcd": {
      "model_module": "@jupyter-widgets/base",
      "model_module_version": "1.2.0",
      "model_name": "LayoutModel",
      "state": {}
     },
     "34cf93e144e7453cb57c1f061dc68518": {
      "model_module": "@jupyter-widgets/base",
      "model_module_version": "1.2.0",
      "model_name": "LayoutModel",
      "state": {}
     },
     "3507542a13734cee8ba7941a86c28b9d": {
      "model_module": "@jupyter-widgets/controls",
      "model_module_version": "1.5.0",
      "model_name": "HTMLModel",
      "state": {
       "layout": "IPY_MODEL_cf12576fba4540eaaa1dc1dd0679e27b",
       "placeholder": "Some HTML",
       "style": "IPY_MODEL_49a453bb5c2548acae5f2137d92d1372",
       "value": "<font size=3.5> <b>Job Name</b> <br> Specify a name for your job. </font>"
      }
     },
     "357e385ac58e4f55b0610d16eeb6ba42": {
      "model_module": "@jupyter-widgets/base",
      "model_module_version": "1.2.0",
      "model_name": "LayoutModel",
      "state": {}
     },
     "35ee01fee9324ab98811f872d1aa7013": {
      "model_module": "@jupyter-widgets/base",
      "model_module_version": "1.2.0",
      "model_name": "LayoutModel",
      "state": {}
     },
     "35eeeab925e84e7b970d428b347cd906": {
      "model_module": "@jupyter-widgets/base",
      "model_module_version": "1.2.0",
      "model_name": "LayoutModel",
      "state": {}
     },
     "361208c9475144319029daa27dee08bf": {
      "model_module": "@jupyter-widgets/controls",
      "model_module_version": "1.5.0",
      "model_name": "DropdownModel",
      "state": {
       "_options_labels": [
        "Frontier",
        "Summit",
        "Andes"
       ],
       "index": 0,
       "layout": "IPY_MODEL_ce01ca0644ae47929d87303de74f3edc",
       "style": "IPY_MODEL_246ae99a4d20463d806354f7ddbbed67"
      }
     },
     "3642af307e304e6ea2c7a056df893f94": {
      "model_module": "@jupyter-widgets/base",
      "model_module_version": "1.2.0",
      "model_name": "LayoutModel",
      "state": {
       "border": "1px solid black"
      }
     },
     "36c85d79f5df410799e3966a8b8db45b": {
      "model_module": "@jupyter-widgets/controls",
      "model_module_version": "1.5.0",
      "model_name": "DescriptionStyleModel",
      "state": {
       "description_width": ""
      }
     },
     "37141fd1d05e40dcadb25871cc3b7552": {
      "model_module": "@jupyter-widgets/output",
      "model_module_version": "1.0.0",
      "model_name": "OutputModel",
      "state": {
       "layout": "IPY_MODEL_d82a3fa0d0544f2688f389b37d2ea84d"
      }
     },
     "37b4806ac1714ac39a9c16f6924d1e8a": {
      "model_module": "@jupyter-widgets/base",
      "model_module_version": "1.2.0",
      "model_name": "LayoutModel",
      "state": {}
     },
     "37ead53543ee4b0d8422f6e12df7be7a": {
      "model_module": "@jupyter-widgets/controls",
      "model_module_version": "1.5.0",
      "model_name": "DescriptionStyleModel",
      "state": {
       "description_width": ""
      }
     },
     "38477d15957a460e8e8231ebe595822d": {
      "model_module": "@jupyter-widgets/controls",
      "model_module_version": "1.5.0",
      "model_name": "HTMLModel",
      "state": {
       "layout": "IPY_MODEL_a444e330ff0e4e6d860c8c2efea9ecf4",
       "placeholder": "Some HTML",
       "style": "IPY_MODEL_3308b099c00a4e7cb7f54e265f245b66",
       "value": "<font size=3.5> <b>Wall Clock Time</b> <br> Specify the duration of the job. </font>"
      }
     },
     "392aa06a670c4c2eb83145ce9a2ece7d": {
      "model_module": "@jupyter-widgets/controls",
      "model_module_version": "1.5.0",
      "model_name": "ButtonModel",
      "state": {
       "description": "click me to raise an exception",
       "layout": "IPY_MODEL_14ba02b20a91468f8f512d6698385ff8",
       "style": "IPY_MODEL_8d0749ed62a141a997b69a565d5f82e0"
      }
     },
     "39587c4647bb4cf0be329c06b52e0f9b": {
      "model_module": "@jupyter-widgets/output",
      "model_module_version": "1.0.0",
      "model_name": "OutputModel",
      "state": {
       "layout": "IPY_MODEL_0c5be5e1ff864eafa80a5a4d6d667feb"
      }
     },
     "395f9dd95d084bb991c03955ab23071c": {
      "model_module": "@jupyter-widgets/base",
      "model_module_version": "1.2.0",
      "model_name": "LayoutModel",
      "state": {}
     },
     "39f2d156db18471299c385632691b229": {
      "model_module": "@jupyter-widgets/controls",
      "model_module_version": "1.5.0",
      "model_name": "DescriptionStyleModel",
      "state": {
       "description_width": ""
      }
     },
     "3a024b3d13c44b76bf84cbfb27c26b3d": {
      "model_module": "@jupyter-widgets/controls",
      "model_module_version": "1.5.0",
      "model_name": "DropdownModel",
      "state": {
       "_options_labels": [
        "Frontier",
        "Summit",
        "Andes"
       ],
       "index": 0,
       "layout": "IPY_MODEL_1008865628bf4555b44d1397e2b7b091",
       "style": "IPY_MODEL_2d36eda72c6d455da26142b1bf996d9f"
      }
     },
     "3a25d41a01d741aea2b65137ebf97511": {
      "model_module": "@jupyter-widgets/base",
      "model_module_version": "1.2.0",
      "model_name": "LayoutModel",
      "state": {}
     },
     "3a675749f88947c28722e095d9e412e6": {
      "model_module": "@jupyter-widgets/controls",
      "model_module_version": "1.5.0",
      "model_name": "HTMLModel",
      "state": {
       "layout": "IPY_MODEL_9f1d07b0ff484523bb305c438dbe17a6",
       "placeholder": "Some HTML",
       "style": "IPY_MODEL_09f4ec9bee0b4cdca4cc5f63524fe9dc",
       "value": "<font size=3.5> <b>Wall Clock Time</b> <br> Specify the duration of the job. </font>"
      }
     },
     "3a8a562159ce4a16aaa2125278da54ab": {
      "model_module": "@jupyter-widgets/base",
      "model_module_version": "1.2.0",
      "model_name": "LayoutModel",
      "state": {}
     },
     "3b2a59660f7d4880b4a93c3ce928bcb8": {
      "model_module": "@jupyter-widgets/controls",
      "model_module_version": "1.5.0",
      "model_name": "DescriptionStyleModel",
      "state": {
       "description_width": ""
      }
     },
     "3b7c97548f614a6fa077436905016ec3": {
      "model_module": "@jupyter-widgets/base",
      "model_module_version": "1.2.0",
      "model_name": "LayoutModel",
      "state": {}
     },
     "3bc60281e48041128651f0ef37405623": {
      "model_module": "@jupyter-widgets/base",
      "model_module_version": "1.2.0",
      "model_name": "LayoutModel",
      "state": {}
     },
     "3bc7236d405e4b148ff86adc5277ec3b": {
      "model_module": "@jupyter-widgets/controls",
      "model_module_version": "1.5.0",
      "model_name": "DropdownModel",
      "state": {
       "_options_labels": [
        "Frontier",
        "Summit",
        "Andes"
       ],
       "index": 0,
       "layout": "IPY_MODEL_566e4cbe4d734df5b5f120594adcab89",
       "style": "IPY_MODEL_471bd96c16104c7bb6ad5c7aecf516ee"
      }
     },
     "3c30a95252ee48c9a1af73f52f311e16": {
      "model_module": "@jupyter-widgets/controls",
      "model_module_version": "1.5.0",
      "model_name": "DropdownModel",
      "state": {
       "_options_labels": [
        "Frontier",
        "Summit",
        "Andes"
       ],
       "index": 0,
       "layout": "IPY_MODEL_f7acec783bf648839ac84e746dfccd5d",
       "style": "IPY_MODEL_b789a45bfa75495d8210414c4274a4f2"
      }
     },
     "3c472141071d47eab071c0690aabf84a": {
      "model_module": "@jupyter-widgets/controls",
      "model_module_version": "1.5.0",
      "model_name": "ButtonModel",
      "state": {
       "description": "Generate Script",
       "layout": "IPY_MODEL_96e0ced8d46d47cf8e2738a3d3c814a7",
       "style": "IPY_MODEL_fdd3aaeb0a97488c9588d6227ab01899"
      }
     },
     "3c6ee3a152bd43b1aebed7d87876b5a5": {
      "model_module": "@jupyter-widgets/base",
      "model_module_version": "1.2.0",
      "model_name": "LayoutModel",
      "state": {}
     },
     "3c6f27a423974b00b3fd7cd2ab49200f": {
      "model_module": "@jupyter-widgets/controls",
      "model_module_version": "1.5.0",
      "model_name": "HTMLModel",
      "state": {
       "layout": "IPY_MODEL_e81aaa5736084c498021660515c99a2b",
       "placeholder": "Some HTML",
       "style": "IPY_MODEL_ef610d3aa89d4af592cff29d44c3bcb2",
       "value": "<font size=3.5> <b>Job Name</b> <br> Specify a name for your job. </font>"
      }
     },
     "3cabfa16931b44bb8d335e7ac554904b": {
      "model_module": "@jupyter-widgets/controls",
      "model_module_version": "1.5.0",
      "model_name": "DropdownModel",
      "state": {
       "_options_labels": [
        "Frontier",
        "Summit",
        "Andes"
       ],
       "index": 0,
       "layout": "IPY_MODEL_ca4761690f454d54b36b38675cf43a41",
       "style": "IPY_MODEL_124ffbdd89b947f0a44bb3964d969f92"
      }
     },
     "3cb6353b8cc04944a1c84e1e57451c75": {
      "model_module": "@jupyter-widgets/base",
      "model_module_version": "1.2.0",
      "model_name": "LayoutModel",
      "state": {}
     },
     "3cb719c5e4c34a8395867d6c7fa2fb1d": {
      "model_module": "@jupyter-widgets/base",
      "model_module_version": "1.2.0",
      "model_name": "LayoutModel",
      "state": {}
     },
     "3d034f13545d41309d6cd1dc10c96094": {
      "model_module": "@jupyter-widgets/controls",
      "model_module_version": "1.5.0",
      "model_name": "DescriptionStyleModel",
      "state": {
       "description_width": ""
      }
     },
     "3d80fa9724a344f6a49b51ef9c94f309": {
      "model_module": "@jupyter-widgets/base",
      "model_module_version": "1.2.0",
      "model_name": "LayoutModel",
      "state": {}
     },
     "3d88b18467884bc9b1af5ea3594343cf": {
      "model_module": "@jupyter-widgets/base",
      "model_module_version": "1.2.0",
      "model_name": "LayoutModel",
      "state": {}
     },
     "3e8fdfd1171a4e0a8e51df10c0a96c34": {
      "model_module": "@jupyter-widgets/controls",
      "model_module_version": "1.5.0",
      "model_name": "DescriptionStyleModel",
      "state": {
       "description_width": ""
      }
     },
     "3ebc11c99d31496686f8ce741357f44e": {
      "model_module": "@jupyter-widgets/controls",
      "model_module_version": "1.5.0",
      "model_name": "DescriptionStyleModel",
      "state": {
       "description_width": ""
      }
     },
     "3f309663f90c45b49780c421ee0f7475": {
      "model_module": "@jupyter-widgets/controls",
      "model_module_version": "1.5.0",
      "model_name": "BoundedIntTextModel",
      "state": {
       "layout": "IPY_MODEL_2882e9af7316400688ab39c161144fbb",
       "max": 10,
       "style": "IPY_MODEL_f679f52e48914993b7c7dd030d627042",
       "value": 7
      }
     },
     "3f829433d1db48a492ecbd5ccb87ca00": {
      "model_module": "@jupyter-widgets/controls",
      "model_module_version": "1.5.0",
      "model_name": "HTMLModel",
      "state": {
       "layout": "IPY_MODEL_1dc7f22996904bff99470b0ffe39581a",
       "placeholder": "Some HTML",
       "style": "IPY_MODEL_f5ccc6f8afd74d6cbbb35c3513d07c36",
       "value": "<font size=3.5> <b>Job Name</b> <br> Specify a name for your job. </font>"
      }
     },
     "3f8b00066b084a379573f81344d89416": {
      "model_module": "@jupyter-widgets/controls",
      "model_module_version": "1.5.0",
      "model_name": "DescriptionStyleModel",
      "state": {
       "description_width": ""
      }
     },
     "3fdc2bfdaddf41168b308068a31415f3": {
      "model_module": "@jupyter-widgets/controls",
      "model_module_version": "1.5.0",
      "model_name": "HTMLModel",
      "state": {
       "layout": "IPY_MODEL_f08af21ae12245598958f169976c1af3",
       "placeholder": "Some HTML",
       "style": "IPY_MODEL_2aed22d378ff434a928462a0bc3e2804",
       "value": "<font size=3.5> <b>Job Name</b> <br> Specify a name for your job. </font>"
      }
     },
     "40efa42b6c3f40f394c6c0108a573787": {
      "model_module": "@jupyter-widgets/controls",
      "model_module_version": "1.5.0",
      "model_name": "HTMLModel",
      "state": {
       "layout": "IPY_MODEL_9818defc390a451a808087097d10ff37",
       "placeholder": "Some HTML",
       "style": "IPY_MODEL_2f8a7f421e964cd2bf62ed1b6da9bf19",
       "value": "<font size=3.5> <b>Application Name</b> <br> Specify your application including the full path. </font>"
      }
     },
     "41011aa859804c378bc1cf937c37a05f": {
      "model_module": "@jupyter-widgets/controls",
      "model_module_version": "1.5.0",
      "model_name": "DescriptionStyleModel",
      "state": {
       "description_width": ""
      }
     },
     "41301c16f3d34f9a82886eb819503488": {
      "model_module": "@jupyter-widgets/controls",
      "model_module_version": "1.5.0",
      "model_name": "HTMLModel",
      "state": {
       "layout": "IPY_MODEL_c4637444775e4ff5a4a09ccd3e8786f7",
       "placeholder": "Some HTML",
       "style": "IPY_MODEL_199d9b6c8fd2477ca463d7c11cc84723",
       "value": "<font size=3.5> <b>Application Name</b> <br> Specify your application including the full path. </font>"
      }
     },
     "414e11549c0342b7813941ee904ef18c": {
      "model_module": "@jupyter-widgets/controls",
      "model_module_version": "1.5.0",
      "model_name": "DescriptionStyleModel",
      "state": {
       "description_width": ""
      }
     },
     "4159f8b433244429a2258ce4b52f0004": {
      "model_module": "@jupyter-widgets/controls",
      "model_module_version": "1.5.0",
      "model_name": "DescriptionStyleModel",
      "state": {
       "description_width": ""
      }
     },
     "4159f94203644aa4acf8d8c5001cb923": {
      "model_module": "@jupyter-widgets/controls",
      "model_module_version": "1.5.0",
      "model_name": "DescriptionStyleModel",
      "state": {
       "description_width": ""
      }
     },
     "415bf2cba38548608d79b332a04c8791": {
      "model_module": "@jupyter-widgets/controls",
      "model_module_version": "1.5.0",
      "model_name": "ButtonStyleModel",
      "state": {}
     },
     "419e970414654e30abdca0f423865e06": {
      "model_module": "@jupyter-widgets/controls",
      "model_module_version": "1.5.0",
      "model_name": "DescriptionStyleModel",
      "state": {
       "description_width": ""
      }
     },
     "423aef0e4bd94d8fb6a27e6cb45712d0": {
      "model_module": "@jupyter-widgets/output",
      "model_module_version": "1.0.0",
      "model_name": "OutputModel",
      "state": {
       "layout": "IPY_MODEL_76ed733e50d34b2f98c9a7ec8fb1a1d6",
       "outputs": [
        {
         "name": "stdout",
         "output_type": "stream",
         "text": "This is about to explode\n"
        }
       ]
      }
     },
     "42caf7e601e04e619d5849dcbb86a08e": {
      "model_module": "@jupyter-widgets/controls",
      "model_module_version": "1.5.0",
      "model_name": "DescriptionStyleModel",
      "state": {
       "description_width": ""
      }
     },
     "4341a7e1449d4613a5817f0736f19767": {
      "model_module": "@jupyter-widgets/controls",
      "model_module_version": "1.5.0",
      "model_name": "HTMLModel",
      "state": {
       "layout": "IPY_MODEL_ea754aed25f847fa95c0f65f1577262a",
       "placeholder": "Some HTML",
       "style": "IPY_MODEL_cc59aaa83ed84e7483a2075ed613acb7",
       "value": "<font size=3.5> <b>Nodes</b> <br> How many nodes are used? </font>"
      }
     },
     "437d4373ec844d87b410df7bf023c8d9": {
      "model_module": "@jupyter-widgets/base",
      "model_module_version": "1.2.0",
      "model_name": "LayoutModel",
      "state": {}
     },
     "4386f89096224eaf99cb628d48de1712": {
      "model_module": "@jupyter-widgets/base",
      "model_module_version": "1.2.0",
      "model_name": "LayoutModel",
      "state": {}
     },
     "4396119053d24411a2de524aeedcaf49": {
      "model_module": "@jupyter-widgets/controls",
      "model_module_version": "1.5.0",
      "model_name": "BoundedIntTextModel",
      "state": {
       "layout": "IPY_MODEL_ec55d48406ba4edba357a2111f70702d",
       "max": 10,
       "style": "IPY_MODEL_08c7c2f3e70f41cb9705ff050e74a190",
       "value": 7
      }
     },
     "4428d279d4f440d7a8da79418c88e2fc": {
      "model_module": "@jupyter-widgets/base",
      "model_module_version": "1.2.0",
      "model_name": "LayoutModel",
      "state": {}
     },
     "44e2ea6de0414db1a928c08451bb5846": {
      "model_module": "@jupyter-widgets/controls",
      "model_module_version": "1.5.0",
      "model_name": "DescriptionStyleModel",
      "state": {
       "description_width": ""
      }
     },
     "45e195c8aa954d08a02125a5f629ef5f": {
      "model_module": "@jupyter-widgets/controls",
      "model_module_version": "1.5.0",
      "model_name": "BoundedIntTextModel",
      "state": {
       "layout": "IPY_MODEL_816e779920ae4947a88f83afb16876c8",
       "max": 10,
       "style": "IPY_MODEL_0e464fa4967d435d9f802e4f2421556b",
       "value": 7
      }
     },
     "45f4e9a95f0144d2b0bc6a6a5ac0146c": {
      "model_module": "@jupyter-widgets/base",
      "model_module_version": "1.2.0",
      "model_name": "LayoutModel",
      "state": {}
     },
     "471bd96c16104c7bb6ad5c7aecf516ee": {
      "model_module": "@jupyter-widgets/controls",
      "model_module_version": "1.5.0",
      "model_name": "DescriptionStyleModel",
      "state": {
       "description_width": ""
      }
     },
     "47482a6c8257491d90928d1fad95513f": {
      "model_module": "@jupyter-widgets/controls",
      "model_module_version": "1.5.0",
      "model_name": "BoundedIntTextModel",
      "state": {
       "layout": "IPY_MODEL_9b84c5aa6bc64f87840e9614b1a039e2",
       "max": 10,
       "style": "IPY_MODEL_bd15a5ce8d6e41de9e44c860209703e5",
       "value": 7
      }
     },
     "47b0792b3bba448084c86d5e62263899": {
      "model_module": "@jupyter-widgets/base",
      "model_module_version": "1.2.0",
      "model_name": "LayoutModel",
      "state": {}
     },
     "4828de1f277a4db0ac0c20d939e2601e": {
      "model_module": "@jupyter-widgets/base",
      "model_module_version": "1.2.0",
      "model_name": "LayoutModel",
      "state": {}
     },
     "48a7e9ea9fcc433ab4cdb29138675c90": {
      "model_module": "@jupyter-widgets/controls",
      "model_module_version": "1.5.0",
      "model_name": "TextModel",
      "state": {
       "layout": "IPY_MODEL_809c6b0f8056476583b72fc1c4e4cc7c",
       "placeholder": "Type something",
       "style": "IPY_MODEL_d1d18369e53741f5b84a2fbb0adbac64",
       "value": "my_job"
      }
     },
     "48c61ebf76a44c3da68c1594681f58c6": {
      "model_module": "@jupyter-widgets/controls",
      "model_module_version": "1.5.0",
      "model_name": "HTMLModel",
      "state": {
       "layout": "IPY_MODEL_70d0cdd1fa284c5085749b30af04cf01",
       "placeholder": "Some HTML",
       "style": "IPY_MODEL_a06e82e80d2b477ebcd0ba290d1afb98",
       "value": "<font size=3.5> <b>Email Address</b> <br> Specify your email address to get notified when the job enters a certain state. </font>"
      }
     },
     "48e3d29742d9432db612fbc0d27177f9": {
      "model_module": "@jupyter-widgets/controls",
      "model_module_version": "1.5.0",
      "model_name": "HTMLModel",
      "state": {
       "layout": "IPY_MODEL_437d4373ec844d87b410df7bf023c8d9",
       "placeholder": "Some HTML",
       "style": "IPY_MODEL_61a473ff411a4ff48befd42689918f7e",
       "value": "<font size=3.5> <b>Wall Clock Time</b> <br> Specify the duration of the job. </font>"
      }
     },
     "48e3e63833544813bc85304ea8dfe3da": {
      "model_module": "@jupyter-widgets/controls",
      "model_module_version": "1.5.0",
      "model_name": "DescriptionStyleModel",
      "state": {
       "description_width": ""
      }
     },
     "491c25c0f8e2467f89a7e63e1b993f3f": {
      "model_module": "@jupyter-widgets/controls",
      "model_module_version": "1.5.0",
      "model_name": "DescriptionStyleModel",
      "state": {
       "description_width": ""
      }
     },
     "49a453bb5c2548acae5f2137d92d1372": {
      "model_module": "@jupyter-widgets/controls",
      "model_module_version": "1.5.0",
      "model_name": "DescriptionStyleModel",
      "state": {
       "description_width": ""
      }
     },
     "49cbe52f4c4d4a62a6ddeb48ec2fe234": {
      "model_module": "@jupyter-widgets/controls",
      "model_module_version": "1.5.0",
      "model_name": "DescriptionStyleModel",
      "state": {
       "description_width": ""
      }
     },
     "4b1545ccd42644fe92d5e68e859e0abe": {
      "model_module": "@jupyter-widgets/controls",
      "model_module_version": "1.5.0",
      "model_name": "ButtonStyleModel",
      "state": {}
     },
     "4b1c0cff7a924f09ac3709000120594f": {
      "model_module": "@jupyter-widgets/controls",
      "model_module_version": "1.5.0",
      "model_name": "DescriptionStyleModel",
      "state": {
       "description_width": ""
      }
     },
     "4b5ac15b159e454a8c32f1b68234dca1": {
      "model_module": "@jupyter-widgets/base",
      "model_module_version": "1.2.0",
      "model_name": "LayoutModel",
      "state": {}
     },
     "4d07be26fd054c87a51defd9cb113587": {
      "model_module": "@jupyter-widgets/base",
      "model_module_version": "1.2.0",
      "model_name": "LayoutModel",
      "state": {}
     },
     "4d5d48ff335c41928f72b4020ae7829b": {
      "model_module": "@jupyter-widgets/base",
      "model_module_version": "1.2.0",
      "model_name": "LayoutModel",
      "state": {}
     },
     "4e58a8fc49a446f99e76016da6647890": {
      "model_module": "@jupyter-widgets/base",
      "model_module_version": "1.2.0",
      "model_name": "LayoutModel",
      "state": {}
     },
     "4f491ccf9483475fbae6486e4f7dbe5d": {
      "model_module": "@jupyter-widgets/controls",
      "model_module_version": "1.5.0",
      "model_name": "HTMLModel",
      "state": {
       "layout": "IPY_MODEL_9a20c73254004730ab2573d4e1838b2b",
       "placeholder": "Some HTML",
       "style": "IPY_MODEL_e954f97f20f74dff9222460b5604be21",
       "value": "<font size=3.5> <b>Application Name</b> <br> Specify your application including the full path. </font>"
      }
     },
     "4ff82757335c4b77be18898e7537a57e": {
      "model_module": "@jupyter-widgets/base",
      "model_module_version": "1.2.0",
      "model_name": "LayoutModel",
      "state": {}
     },
     "500d880bd9ed4074983a0bf22eff9758": {
      "model_module": "@jupyter-widgets/base",
      "model_module_version": "1.2.0",
      "model_name": "LayoutModel",
      "state": {}
     },
     "500f4ce8c5fb4d80977c591d0a639751": {
      "model_module": "@jupyter-widgets/base",
      "model_module_version": "1.2.0",
      "model_name": "LayoutModel",
      "state": {}
     },
     "505f7a5c2a60495993afc779a6a66b5a": {
      "model_module": "@jupyter-widgets/controls",
      "model_module_version": "1.5.0",
      "model_name": "DescriptionStyleModel",
      "state": {
       "description_width": ""
      }
     },
     "50e7dec457654c479023e1f41a512411": {
      "model_module": "@jupyter-widgets/base",
      "model_module_version": "1.2.0",
      "model_name": "LayoutModel",
      "state": {
       "border": "1px solid black"
      }
     },
     "52154797912c4754b511ce36e6efd082": {
      "model_module": "@jupyter-widgets/base",
      "model_module_version": "1.2.0",
      "model_name": "LayoutModel",
      "state": {}
     },
     "5246341bb06b44f5be819bcc6b9f2b0a": {
      "model_module": "@jupyter-widgets/controls",
      "model_module_version": "1.5.0",
      "model_name": "TextModel",
      "state": {
       "layout": "IPY_MODEL_1423ddc086aa41b9bfeb4c598aa78f0f",
       "placeholder": "Type something",
       "style": "IPY_MODEL_ae483dbb7cd441b997135f9a4dfcc6c1",
       "value": "my_app.exe"
      }
     },
     "526cc042b5a44fe4a532a02db6a778b8": {
      "model_module": "@jupyter-widgets/controls",
      "model_module_version": "1.5.0",
      "model_name": "DescriptionStyleModel",
      "state": {
       "description_width": ""
      }
     },
     "52aff6af690541e195366c456a8e0871": {
      "model_module": "@jupyter-widgets/controls",
      "model_module_version": "1.5.0",
      "model_name": "HTMLModel",
      "state": {
       "layout": "IPY_MODEL_37b4806ac1714ac39a9c16f6924d1e8a",
       "placeholder": "Some HTML",
       "style": "IPY_MODEL_6388c5f406c848109b61505d7adfea46",
       "value": "<font size=3.5> <b>Wall Clock Time</b> <br> Specify the duration of the job. </font>"
      }
     },
     "53132e784a614d999124817127ccfb19": {
      "model_module": "@jupyter-widgets/base",
      "model_module_version": "1.2.0",
      "model_name": "LayoutModel",
      "state": {}
     },
     "53363896a6f643928418736c35663375": {
      "model_module": "@jupyter-widgets/controls",
      "model_module_version": "1.5.0",
      "model_name": "DescriptionStyleModel",
      "state": {
       "description_width": ""
      }
     },
     "542ad484b4ae4a3a81f9d6bedc9e231b": {
      "model_module": "@jupyter-widgets/base",
      "model_module_version": "1.2.0",
      "model_name": "LayoutModel",
      "state": {}
     },
     "546135adafed43b8a0af9c341417fbf1": {
      "model_module": "@jupyter-widgets/controls",
      "model_module_version": "1.5.0",
      "model_name": "ButtonModel",
      "state": {
       "description": "Generate Script",
       "layout": "IPY_MODEL_dd810041730d489ba730162cfafede0a",
       "style": "IPY_MODEL_c62db7f0b55e4c0998d7739aa13d44ab"
      }
     },
     "5487e04ca9de47079723c5f84441715e": {
      "model_module": "@jupyter-widgets/controls",
      "model_module_version": "1.5.0",
      "model_name": "DescriptionStyleModel",
      "state": {
       "description_width": ""
      }
     },
     "54a9a9374cb940cb9813ffb62d556b05": {
      "model_module": "@jupyter-widgets/controls",
      "model_module_version": "1.5.0",
      "model_name": "DescriptionStyleModel",
      "state": {
       "description_width": ""
      }
     },
     "55124ec9cf2548fe950bf45d89fdf205": {
      "model_module": "@jupyter-widgets/base",
      "model_module_version": "1.2.0",
      "model_name": "LayoutModel",
      "state": {}
     },
     "553ca1190e3f42429967b6674ee9b205": {
      "model_module": "@jupyter-widgets/base",
      "model_module_version": "1.2.0",
      "model_name": "LayoutModel",
      "state": {}
     },
     "55f91640c1154f0499df5dab63425b4c": {
      "model_module": "@jupyter-widgets/controls",
      "model_module_version": "1.5.0",
      "model_name": "DescriptionStyleModel",
      "state": {
       "description_width": ""
      }
     },
     "564bc1d596374b8294d44653dc0abf69": {
      "model_module": "@jupyter-widgets/base",
      "model_module_version": "1.2.0",
      "model_name": "LayoutModel",
      "state": {}
     },
     "566e4cbe4d734df5b5f120594adcab89": {
      "model_module": "@jupyter-widgets/base",
      "model_module_version": "1.2.0",
      "model_name": "LayoutModel",
      "state": {}
     },
     "56f7ecead0244daead7f5537329a7772": {
      "model_module": "@jupyter-widgets/controls",
      "model_module_version": "1.5.0",
      "model_name": "DescriptionStyleModel",
      "state": {
       "description_width": ""
      }
     },
     "5715c0d0ec0a459dbc75dc03e72dc5b9": {
      "model_module": "@jupyter-widgets/controls",
      "model_module_version": "1.5.0",
      "model_name": "DescriptionStyleModel",
      "state": {
       "description_width": ""
      }
     },
     "57274869fc1c4620b748edf220e91d46": {
      "model_module": "@jupyter-widgets/base",
      "model_module_version": "1.2.0",
      "model_name": "LayoutModel",
      "state": {}
     },
     "573af28fab3c41f6b625d5bacd1c3393": {
      "model_module": "@jupyter-widgets/controls",
      "model_module_version": "1.5.0",
      "model_name": "HTMLModel",
      "state": {
       "layout": "IPY_MODEL_a77d8713ea4b4561a21f40fad6da4741",
       "placeholder": "Some HTML",
       "style": "IPY_MODEL_2a94c9ec51134f8a9962edeb10dc6b58",
       "value": "<font size=3.5> <b>Nodes</b> <br> How many nodes are used? </font>"
      }
     },
     "574f0088d5f1425d91f5e3909501631c": {
      "model_module": "@jupyter-widgets/controls",
      "model_module_version": "1.5.0",
      "model_name": "TextModel",
      "state": {
       "layout": "IPY_MODEL_35eeeab925e84e7b970d428b347cd906",
       "placeholder": "Type something",
       "style": "IPY_MODEL_040f1b39fa314539ae6fa71b08f1fe7e",
       "value": "00:01:00"
      }
     },
     "57b0b3fc7f924c1e9607e8d2f74e7b7e": {
      "model_module": "@jupyter-widgets/controls",
      "model_module_version": "1.5.0",
      "model_name": "HTMLModel",
      "state": {
       "layout": "IPY_MODEL_4d07be26fd054c87a51defd9cb113587",
       "placeholder": "Some HTML",
       "style": "IPY_MODEL_0a57b7ce0ca043269243b37bc9a5d533",
       "value": "<font size=3.5> <b>Threads Per Proc</b> <br> How many threads per process do you want to use? Note that SLURM currently only supports jobs which use the same number of processor per process. </font>"
      }
     },
     "58160c3e191746d2861875fa30433a25": {
      "model_module": "@jupyter-widgets/controls",
      "model_module_version": "1.5.0",
      "model_name": "BoundedIntTextModel",
      "state": {
       "layout": "IPY_MODEL_e358f1d80bd74f09a9350b023a8e82be",
       "max": 10,
       "style": "IPY_MODEL_ab4e7c7866ca4ffba1b2273e6641d0fd",
       "value": 4
      }
     },
     "598fae24152e4f8db015cd2fbe38a14d": {
      "model_module": "@jupyter-widgets/controls",
      "model_module_version": "1.5.0",
      "model_name": "HTMLModel",
      "state": {
       "layout": "IPY_MODEL_14510effcff9460e8601bb56eaee47e9",
       "placeholder": "Some HTML",
       "style": "IPY_MODEL_5ff595b75500453db9b0ca8103b92dda",
       "value": "<font size=3.5> <b>Email Address</b> <br> Specify your email address to get notified when the job enters a certain state. </font>"
      }
     },
     "59d292c19c87428fbbee660c4df165c5": {
      "model_module": "@jupyter-widgets/base",
      "model_module_version": "1.2.0",
      "model_name": "LayoutModel",
      "state": {}
     },
     "5a26088f7fd64e10995598a52a5454a4": {
      "model_module": "@jupyter-widgets/base",
      "model_module_version": "1.2.0",
      "model_name": "LayoutModel",
      "state": {}
     },
     "5a501a6c060d47c9846fb992b75bedf5": {
      "model_module": "@jupyter-widgets/controls",
      "model_module_version": "1.5.0",
      "model_name": "HTMLModel",
      "state": {
       "layout": "IPY_MODEL_fa77fd3333084bdbb29f46282981d775",
       "placeholder": "Some HTML",
       "style": "IPY_MODEL_046d2b339192449eb42109ed110fa4cd",
       "value": "<font size=3.5> <b>Threads Per Proc</b> <br> How many threads per process do you want to use? Note that SLURM currently only supports jobs which use the same number of processor per process. </font>"
      }
     },
     "5ab93449600646749c962b7b4fa31b39": {
      "model_module": "@jupyter-widgets/controls",
      "model_module_version": "1.5.0",
      "model_name": "BoundedIntTextModel",
      "state": {
       "layout": "IPY_MODEL_270e96491d1b4eb997de104e48223a61",
       "max": 10,
       "style": "IPY_MODEL_817252cb46a040589e4847d42456eccc",
       "value": 7
      }
     },
     "5ae60960f2d341da858c3bea57209e0b": {
      "model_module": "@jupyter-widgets/base",
      "model_module_version": "1.2.0",
      "model_name": "LayoutModel",
      "state": {}
     },
     "5b28e36aaa294fbc87f348e0681a519b": {
      "model_module": "@jupyter-widgets/base",
      "model_module_version": "1.2.0",
      "model_name": "LayoutModel",
      "state": {}
     },
     "5ba0bac6c44d4c72aab10769a68d71ff": {
      "model_module": "@jupyter-widgets/controls",
      "model_module_version": "1.5.0",
      "model_name": "DescriptionStyleModel",
      "state": {
       "description_width": ""
      }
     },
     "5bcf349890214c22a2d53a162d728f47": {
      "model_module": "@jupyter-widgets/base",
      "model_module_version": "1.2.0",
      "model_name": "LayoutModel",
      "state": {}
     },
     "5be534ccc7f141b88d894a2b5bcd6814": {
      "model_module": "@jupyter-widgets/controls",
      "model_module_version": "1.5.0",
      "model_name": "DescriptionStyleModel",
      "state": {
       "description_width": ""
      }
     },
     "5bea852d63e348268aa118f21a12e48b": {
      "model_module": "@jupyter-widgets/controls",
      "model_module_version": "1.5.0",
      "model_name": "DescriptionStyleModel",
      "state": {
       "description_width": ""
      }
     },
     "5c8a7d97b20a48f4b0e642d50fb0b4b3": {
      "model_module": "@jupyter-widgets/controls",
      "model_module_version": "1.5.0",
      "model_name": "HTMLModel",
      "state": {
       "layout": "IPY_MODEL_f0cb5015b183473a93702d855e81185a",
       "placeholder": "Some HTML",
       "style": "IPY_MODEL_a906ae357c384d8db34ad44d83ec86d1",
       "value": "<font size=3.5> <b>Email Address</b> <br> Specify your email address to get notified when the job enters a certain state. </font>"
      }
     },
     "5d5c3b129a5647cf8ca9b9397e4f4a29": {
      "model_module": "@jupyter-widgets/controls",
      "model_module_version": "1.5.0",
      "model_name": "DescriptionStyleModel",
      "state": {
       "description_width": ""
      }
     },
     "5d961829cc574ad0ad7df90a645b1a4c": {
      "model_module": "@jupyter-widgets/controls",
      "model_module_version": "1.5.0",
      "model_name": "DescriptionStyleModel",
      "state": {
       "description_width": ""
      }
     },
     "5d98f1655a6d4590b5c5d97315678279": {
      "model_module": "@jupyter-widgets/controls",
      "model_module_version": "1.5.0",
      "model_name": "HTMLModel",
      "state": {
       "layout": "IPY_MODEL_3a25d41a01d741aea2b65137ebf97511",
       "placeholder": "Some HTML",
       "style": "IPY_MODEL_0f13137b989b4dc6ba659bb2f1ead7a2",
       "value": "<font size=3.5> <b>Wall Clock Time</b> <br> Specify the duration of the job. </font>"
      }
     },
     "5e1005ca5a3e4f9683c4a0930716840b": {
      "model_module": "@jupyter-widgets/base",
      "model_module_version": "1.2.0",
      "model_name": "LayoutModel",
      "state": {}
     },
     "5e5092fd0f47486c9cbda512b5ca441e": {
      "model_module": "@jupyter-widgets/controls",
      "model_module_version": "1.5.0",
      "model_name": "BoundedIntTextModel",
      "state": {
       "layout": "IPY_MODEL_62a76952af0b43e29cf47030f13cfc19",
       "max": 10,
       "style": "IPY_MODEL_10ce1c143fad42bcbcb68e82ccff9c9d",
       "value": 7
      }
     },
     "5ef0c221c10049d088b5830d554b2bb5": {
      "model_module": "@jupyter-widgets/base",
      "model_module_version": "1.2.0",
      "model_name": "LayoutModel",
      "state": {}
     },
     "5f31f90147bb4da885aed09482d43481": {
      "model_module": "@jupyter-widgets/base",
      "model_module_version": "1.2.0",
      "model_name": "LayoutModel",
      "state": {}
     },
     "5f3ccb5b4ce6476f9cbd481f1930ad1a": {
      "model_module": "@jupyter-widgets/controls",
      "model_module_version": "1.5.0",
      "model_name": "HTMLModel",
      "state": {
       "layout": "IPY_MODEL_c64fa37f1c054bb1b5ba89fba163c09a",
       "placeholder": "Some HTML",
       "style": "IPY_MODEL_00dd695fb30d4edeba6d8b4b26e05f72",
       "value": "<font size=3.5> <b>Procs Per Node</b> <br> How many processes, e.g. MPI ranks per node, do you want to use? </font>"
      }
     },
     "5f745a446ab346e1929281cbbe31da84": {
      "model_module": "@jupyter-widgets/controls",
      "model_module_version": "1.5.0",
      "model_name": "DescriptionStyleModel",
      "state": {
       "description_width": ""
      }
     },
     "5ff595b75500453db9b0ca8103b92dda": {
      "model_module": "@jupyter-widgets/controls",
      "model_module_version": "1.5.0",
      "model_name": "DescriptionStyleModel",
      "state": {
       "description_width": ""
      }
     },
     "60189b35757345b98fa442e34cce1f7c": {
      "model_module": "@jupyter-widgets/controls",
      "model_module_version": "1.5.0",
      "model_name": "TextModel",
      "state": {
       "layout": "IPY_MODEL_5bcf349890214c22a2d53a162d728f47",
       "placeholder": "Type something",
       "style": "IPY_MODEL_55f91640c1154f0499df5dab63425b4c",
       "value": "my_job"
      }
     },
     "60f85cd3381a4389991fdbacb1a8f691": {
      "model_module": "@jupyter-widgets/controls",
      "model_module_version": "1.5.0",
      "model_name": "DescriptionStyleModel",
      "state": {
       "description_width": ""
      }
     },
     "60fb9f5dcdd64e0ab65c8a344b15c629": {
      "model_module": "@jupyter-widgets/base",
      "model_module_version": "1.2.0",
      "model_name": "LayoutModel",
      "state": {
       "width": "300px"
      }
     },
     "612aa156a9e34ab49d4f206247dd2808": {
      "model_module": "@jupyter-widgets/controls",
      "model_module_version": "1.5.0",
      "model_name": "TextModel",
      "state": {
       "layout": "IPY_MODEL_e263205e2f4444148e6968681d71a0f7",
       "placeholder": "Type something",
       "style": "IPY_MODEL_a2e17cfc7ed14bc68d84d97ea6fdbc86",
       "value": "my_job"
      }
     },
     "61a473ff411a4ff48befd42689918f7e": {
      "model_module": "@jupyter-widgets/controls",
      "model_module_version": "1.5.0",
      "model_name": "DescriptionStyleModel",
      "state": {
       "description_width": ""
      }
     },
     "61de4b413fba4b04a2b23a5e72b6e017": {
      "model_module": "@jupyter-widgets/controls",
      "model_module_version": "1.5.0",
      "model_name": "DescriptionStyleModel",
      "state": {
       "description_width": ""
      }
     },
     "6218316f2b65410cbf4a665ebc7bc971": {
      "model_module": "@jupyter-widgets/controls",
      "model_module_version": "1.5.0",
      "model_name": "DescriptionStyleModel",
      "state": {
       "description_width": ""
      }
     },
     "626ac61bd9f6458f90bcfa8899627202": {
      "model_module": "@jupyter-widgets/controls",
      "model_module_version": "1.5.0",
      "model_name": "DescriptionStyleModel",
      "state": {
       "description_width": ""
      }
     },
     "629ab10d5de840689dc11d323859cf2d": {
      "model_module": "@jupyter-widgets/base",
      "model_module_version": "1.2.0",
      "model_name": "LayoutModel",
      "state": {}
     },
     "62a76952af0b43e29cf47030f13cfc19": {
      "model_module": "@jupyter-widgets/base",
      "model_module_version": "1.2.0",
      "model_name": "LayoutModel",
      "state": {}
     },
     "62fe18d0147141abb18f16ce281fd714": {
      "model_module": "@jupyter-widgets/controls",
      "model_module_version": "1.5.0",
      "model_name": "ButtonStyleModel",
      "state": {}
     },
     "6330505245a34b70b571c0e326806b0d": {
      "model_module": "@jupyter-widgets/controls",
      "model_module_version": "1.5.0",
      "model_name": "HTMLModel",
      "state": {
       "layout": "IPY_MODEL_0537bacf5fd44e97b5ac5c05b8bee856",
       "placeholder": "Some HTML",
       "style": "IPY_MODEL_49cbe52f4c4d4a62a6ddeb48ec2fe234",
       "value": "<font size=3.5> <b>Threads Per Proc</b> <br> How many threads per process do you want to use? Note that SLURM currently only supports jobs which use the same number of processor per process. </font>"
      }
     },
     "6388c5f406c848109b61505d7adfea46": {
      "model_module": "@jupyter-widgets/controls",
      "model_module_version": "1.5.0",
      "model_name": "DescriptionStyleModel",
      "state": {
       "description_width": ""
      }
     },
     "63a0abd7ca4c4ab990b9bfe96d5888fb": {
      "model_module": "@jupyter-widgets/controls",
      "model_module_version": "1.5.0",
      "model_name": "DescriptionStyleModel",
      "state": {
       "description_width": ""
      }
     },
     "63ffe09a9b894abba3f49b7315cbeac5": {
      "model_module": "@jupyter-widgets/base",
      "model_module_version": "1.2.0",
      "model_name": "LayoutModel",
      "state": {
       "width": "300px"
      }
     },
     "641dbf6a55ee4960929adba39014725b": {
      "model_module": "@jupyter-widgets/controls",
      "model_module_version": "1.5.0",
      "model_name": "HTMLModel",
      "state": {
       "layout": "IPY_MODEL_90801126d96747b49c46e9f6e2f1b2d8",
       "placeholder": "Some HTML",
       "style": "IPY_MODEL_ce3fec591d3e4af5b63085be22ebc729",
       "value": "<font size=3.5> <b>Job Name</b> <br> Specify a name for your job. </font>"
      }
     },
     "641fa0b239a044098c1c6c5d9ae950ba": {
      "model_module": "@jupyter-widgets/controls",
      "model_module_version": "1.5.0",
      "model_name": "DropdownModel",
      "state": {
       "_options_labels": [
        "Frontier",
        "Summit",
        "Andes"
       ],
       "index": 0,
       "layout": "IPY_MODEL_4d5d48ff335c41928f72b4020ae7829b",
       "style": "IPY_MODEL_5715c0d0ec0a459dbc75dc03e72dc5b9"
      }
     },
     "647e575569074d6d82185fad369cf430": {
      "model_module": "@jupyter-widgets/controls",
      "model_module_version": "1.5.0",
      "model_name": "TextModel",
      "state": {
       "layout": "IPY_MODEL_55124ec9cf2548fe950bf45d89fdf205",
       "placeholder": "Type something",
       "style": "IPY_MODEL_dda02721488e439da04d598d984389f5",
       "value": "00:01:00"
      }
     },
     "6548d4de8c41461ba37b0ba87090eab3": {
      "model_module": "@jupyter-widgets/controls",
      "model_module_version": "1.5.0",
      "model_name": "HTMLModel",
      "state": {
       "layout": "IPY_MODEL_45f4e9a95f0144d2b0bc6a6a5ac0146c",
       "placeholder": "Some HTML",
       "style": "IPY_MODEL_42caf7e601e04e619d5849dcbb86a08e",
       "value": "<font size=3.5> <b>Procs Per Node</b> <br> How many processes, e.g. MPI ranks per node, do you want to use? </font>"
      }
     },
     "6575c277585c46508fd63d52dbb7ab9f": {
      "model_module": "@jupyter-widgets/controls",
      "model_module_version": "1.5.0",
      "model_name": "BoundedIntTextModel",
      "state": {
       "layout": "IPY_MODEL_7649b0a7e4484d06859fd06daeada199",
       "max": 10,
       "style": "IPY_MODEL_2e3900ef11054b9bb2b01a90d6d6925a",
       "value": 7
      }
     },
     "65d4b498091647dcb4c94fe0ebc0feb4": {
      "model_module": "@jupyter-widgets/base",
      "model_module_version": "1.2.0",
      "model_name": "LayoutModel",
      "state": {}
     },
     "6667912e9ea64c498e3e2b13d842ee33": {
      "model_module": "@jupyter-widgets/controls",
      "model_module_version": "1.5.0",
      "model_name": "ButtonModel",
      "state": {
       "description": "click me to raise an exception",
       "layout": "IPY_MODEL_63ffe09a9b894abba3f49b7315cbeac5",
       "style": "IPY_MODEL_1ec02ff543904763b37cd9ecb8ee51fb"
      }
     },
     "67fd6e1c7766419eabcf934885ac8e4a": {
      "model_module": "@jupyter-widgets/controls",
      "model_module_version": "1.5.0",
      "model_name": "HTMLModel",
      "state": {
       "layout": "IPY_MODEL_ad410a3c5fe84bc2aa14570b5458e537",
       "placeholder": "Some HTML",
       "style": "IPY_MODEL_937859d36c7b47c5a255e2f5456bc43b",
       "value": "<font size=3.5> <b>System Name</b> <br> Select the system on which you want to submit your job. </font>"
      }
     },
     "684c973fb56e40f7a1f4a78c0e7682cc": {
      "model_module": "@jupyter-widgets/controls",
      "model_module_version": "1.5.0",
      "model_name": "DescriptionStyleModel",
      "state": {
       "description_width": ""
      }
     },
     "6858cacf3b2f46ea9f0487be19b8815d": {
      "model_module": "@jupyter-widgets/controls",
      "model_module_version": "1.5.0",
      "model_name": "DescriptionStyleModel",
      "state": {
       "description_width": ""
      }
     },
     "685e99ff3465495483e3ae6a3ae38029": {
      "model_module": "@jupyter-widgets/base",
      "model_module_version": "1.2.0",
      "model_name": "LayoutModel",
      "state": {}
     },
     "696af21194a74203abb282eb7e9d15bb": {
      "model_module": "@jupyter-widgets/base",
      "model_module_version": "1.2.0",
      "model_name": "LayoutModel",
      "state": {}
     },
     "69b318fd7ea34d66b0eccf9e41bcd420": {
      "model_module": "@jupyter-widgets/base",
      "model_module_version": "1.2.0",
      "model_name": "LayoutModel",
      "state": {}
     },
     "69d1575673974f1d916cbff672841983": {
      "model_module": "@jupyter-widgets/controls",
      "model_module_version": "1.5.0",
      "model_name": "DescriptionStyleModel",
      "state": {
       "description_width": ""
      }
     },
     "69e1aafc9f7b4c59943a63a845661b87": {
      "model_module": "@jupyter-widgets/controls",
      "model_module_version": "1.5.0",
      "model_name": "DescriptionStyleModel",
      "state": {
       "description_width": ""
      }
     },
     "69fd23f626cc4df8b18100d8535b447d": {
      "model_module": "@jupyter-widgets/controls",
      "model_module_version": "1.5.0",
      "model_name": "DescriptionStyleModel",
      "state": {
       "description_width": ""
      }
     },
     "6a9ce07ce6354f3e83a54db308a66796": {
      "model_module": "@jupyter-widgets/controls",
      "model_module_version": "1.5.0",
      "model_name": "HTMLModel",
      "state": {
       "layout": "IPY_MODEL_95920a8670144d82b1951adf42c2b5ab",
       "placeholder": "Some HTML",
       "style": "IPY_MODEL_83281e5fd74e421988cd1ff2e738eeac",
       "value": "<font size=3.5> <b>Nodes</b> <br> How many nodes are used? </font>"
      }
     },
     "6aacf4c3ae3e41f49b8f8dad82ec8fd3": {
      "model_module": "@jupyter-widgets/controls",
      "model_module_version": "1.5.0",
      "model_name": "TextModel",
      "state": {
       "layout": "IPY_MODEL_a4972141b70d47f9a4e105027719b562",
       "placeholder": "Type something",
       "style": "IPY_MODEL_6b25fc4e95774f3c87766fc684d18584",
       "value": "my_job"
      }
     },
     "6aba8e64d23945ccbf50feaff8148ecd": {
      "model_module": "@jupyter-widgets/controls",
      "model_module_version": "1.5.0",
      "model_name": "TextModel",
      "state": {
       "layout": "IPY_MODEL_4828de1f277a4db0ac0c20d939e2601e",
       "placeholder": "Type something",
       "style": "IPY_MODEL_fba0408b6fb847eb806b3025249b438a",
       "value": "my_app.exe"
      }
     },
     "6af2c5c7a63e482ebc2e9ff0470751f2": {
      "model_module": "@jupyter-widgets/base",
      "model_module_version": "1.2.0",
      "model_name": "LayoutModel",
      "state": {}
     },
     "6b25fc4e95774f3c87766fc684d18584": {
      "model_module": "@jupyter-widgets/controls",
      "model_module_version": "1.5.0",
      "model_name": "DescriptionStyleModel",
      "state": {
       "description_width": ""
      }
     },
     "6ce94f1fd4474a6cb5531707ad813e4a": {
      "model_module": "@jupyter-widgets/base",
      "model_module_version": "1.2.0",
      "model_name": "LayoutModel",
      "state": {}
     },
     "6e39ecc3800742849478b4ae4e5bd4e6": {
      "model_module": "@jupyter-widgets/controls",
      "model_module_version": "1.5.0",
      "model_name": "DropdownModel",
      "state": {
       "_options_labels": [
        "Frontier",
        "Summit",
        "Andes"
       ],
       "index": 0,
       "layout": "IPY_MODEL_255ed4f333fb4603921a6f27f6daa285",
       "style": "IPY_MODEL_102424d6cb634c0cb29f595292a6422b"
      }
     },
     "6e6ddd350c77406aabae5ee893ecec18": {
      "model_module": "@jupyter-widgets/controls",
      "model_module_version": "1.5.0",
      "model_name": "ButtonStyleModel",
      "state": {}
     },
     "6ebadb1d3b484abfbab7a06102dca04f": {
      "model_module": "@jupyter-widgets/controls",
      "model_module_version": "1.5.0",
      "model_name": "DescriptionStyleModel",
      "state": {
       "description_width": ""
      }
     },
     "6fe4b6b6aea94f67a5eafe93c5b2ea48": {
      "model_module": "@jupyter-widgets/base",
      "model_module_version": "1.2.0",
      "model_name": "LayoutModel",
      "state": {
       "border": "1px solid black"
      }
     },
     "6ff94cd46a5040f085b18b77fbfe97c3": {
      "model_module": "@jupyter-widgets/controls",
      "model_module_version": "1.5.0",
      "model_name": "HTMLModel",
      "state": {
       "layout": "IPY_MODEL_971349a5d4314b31a4fe0af65daa6e57",
       "placeholder": "Some HTML",
       "style": "IPY_MODEL_037c60d1fd9148e593610e642b3dfea2",
       "value": "<font size=3.5> <b>Threads Per Proc</b> <br> How many threads per process do you want to use? Note that SLURM currently only supports jobs which use the same number of processor per process. </font>"
      }
     },
     "70d0cdd1fa284c5085749b30af04cf01": {
      "model_module": "@jupyter-widgets/base",
      "model_module_version": "1.2.0",
      "model_name": "LayoutModel",
      "state": {}
     },
     "70e3e73207fc44c1b3903f1d268157da": {
      "model_module": "@jupyter-widgets/controls",
      "model_module_version": "1.5.0",
      "model_name": "TextModel",
      "state": {
       "layout": "IPY_MODEL_c65e3e69006e44ab988dce226b8cfe42",
       "placeholder": "Type something",
       "style": "IPY_MODEL_90bee9972e514d73910c8ee211613112",
       "value": "my_app.exe"
      }
     },
     "7124d4644b9540849aca9ba893ef7154": {
      "model_module": "@jupyter-widgets/controls",
      "model_module_version": "1.5.0",
      "model_name": "BoundedIntTextModel",
      "state": {
       "layout": "IPY_MODEL_629ab10d5de840689dc11d323859cf2d",
       "max": 10,
       "style": "IPY_MODEL_4159f8b433244429a2258ce4b52f0004",
       "value": 7
      }
     },
     "722e5e2b08cb4388a28c6b0318935262": {
      "model_module": "@jupyter-widgets/base",
      "model_module_version": "1.2.0",
      "model_name": "LayoutModel",
      "state": {}
     },
     "72e7bb0bff4b47d193efc48bfe10b085": {
      "model_module": "@jupyter-widgets/controls",
      "model_module_version": "1.5.0",
      "model_name": "DescriptionStyleModel",
      "state": {
       "description_width": ""
      }
     },
     "73396be2a4864a8b803230e0c23a4d34": {
      "model_module": "@jupyter-widgets/controls",
      "model_module_version": "1.5.0",
      "model_name": "TextModel",
      "state": {
       "layout": "IPY_MODEL_11115a77c0864305a423b0df377fd8db",
       "placeholder": "Type something",
       "style": "IPY_MODEL_bdc032a84efb44e288aa34a5d9d9a13f",
       "value": "my_email@address.com"
      }
     },
     "7350b93a433b4f67996ed2908850fe2e": {
      "model_module": "@jupyter-widgets/output",
      "model_module_version": "1.0.0",
      "model_name": "OutputModel",
      "state": {
       "layout": "IPY_MODEL_1bc382455e56446ca9c40696d7711869",
       "outputs": [
        {
         "name": "stdout",
         "output_type": "stream",
         "text": "This is about to explode\nsrun -np 7 -nn 7 my_app.exe\n"
        }
       ]
      }
     },
     "7356161f70a84615962850fa9f942880": {
      "model_module": "@jupyter-widgets/controls",
      "model_module_version": "1.5.0",
      "model_name": "BoundedIntTextModel",
      "state": {
       "layout": "IPY_MODEL_7b993f66e2614fedb9b6952c23126989",
       "max": 10,
       "style": "IPY_MODEL_00359ecadea04117bf1231d68a3b38f4",
       "value": 7
      }
     },
     "74516fab2d9a4c29ba66db69bdd44f6f": {
      "model_module": "@jupyter-widgets/controls",
      "model_module_version": "1.5.0",
      "model_name": "HTMLModel",
      "state": {
       "layout": "IPY_MODEL_c306faffbf7b4ec99e4d861c498a05b2",
       "placeholder": "Some HTML",
       "style": "IPY_MODEL_a559acdd0f044ebaa38b2aa3fc6c1fa4",
       "value": "<font size=3.5> <b>Wall Clock Time</b> <br> Specify the duration of the job. </font>"
      }
     },
     "746de13b32154cb7b2d2a6ee9bcf3740": {
      "model_module": "@jupyter-widgets/base",
      "model_module_version": "1.2.0",
      "model_name": "LayoutModel",
      "state": {}
     },
     "74d8dbc4417b4e639499712972f90034": {
      "model_module": "@jupyter-widgets/controls",
      "model_module_version": "1.5.0",
      "model_name": "TextModel",
      "state": {
       "layout": "IPY_MODEL_7b2a9366eb8145459fb20e9860715ad5",
       "placeholder": "Type something",
       "style": "IPY_MODEL_aef852f950584adcb00c8b5c144ad141",
       "value": "my_email@address.com"
      }
     },
     "7649b0a7e4484d06859fd06daeada199": {
      "model_module": "@jupyter-widgets/base",
      "model_module_version": "1.2.0",
      "model_name": "LayoutModel",
      "state": {}
     },
     "7683bd2cc83a45fe80e263a18d744f7b": {
      "model_module": "@jupyter-widgets/base",
      "model_module_version": "1.2.0",
      "model_name": "LayoutModel",
      "state": {}
     },
     "76e6e04c50a549b2a2f20f203c86cc31": {
      "model_module": "@jupyter-widgets/controls",
      "model_module_version": "1.5.0",
      "model_name": "BoundedIntTextModel",
      "state": {
       "layout": "IPY_MODEL_909ed57efdc549e5a9fb9536135251a9",
       "max": 10,
       "style": "IPY_MODEL_008bc34429cb4ec6a44b6e4b03644f20",
       "value": 7
      }
     },
     "76ed733e50d34b2f98c9a7ec8fb1a1d6": {
      "model_module": "@jupyter-widgets/base",
      "model_module_version": "1.2.0",
      "model_name": "LayoutModel",
      "state": {
       "border": "1px solid black"
      }
     },
     "787f85828ea34b7abf28939b919d3730": {
      "model_module": "@jupyter-widgets/base",
      "model_module_version": "1.2.0",
      "model_name": "LayoutModel",
      "state": {}
     },
     "788c7f9138b94308bc061f5a91e61094": {
      "model_module": "@jupyter-widgets/controls",
      "model_module_version": "1.5.0",
      "model_name": "HTMLModel",
      "state": {
       "layout": "IPY_MODEL_0b94d08181b54b6298d3d11e53038000",
       "placeholder": "Some HTML",
       "style": "IPY_MODEL_6ebadb1d3b484abfbab7a06102dca04f",
       "value": "<font size=3.5> <b>System Name</b> <br> Select the system on which you want to submit your job. </font>"
      }
     },
     "78bc9354deb643e19cc31fd8f1d57912": {
      "model_module": "@jupyter-widgets/output",
      "model_module_version": "1.0.0",
      "model_name": "OutputModel",
      "state": {
       "layout": "IPY_MODEL_3642af307e304e6ea2c7a056df893f94",
       "outputs": [
        {
         "name": "stdout",
         "output_type": "stream",
         "text": "#!/bin/bash\n#SBATCH -N 1\n#SBATCH -q debug\n#SBATCH -J my_job\n#SBATCH --mail-user= my_email@address.com\n#SBATCH --mail-type=ALL\n#SBATCH -t 00:01:00\nsrun -n 1 -c 1 my_app.exe\n"
        }
       ]
      }
     },
     "78cb773f0a5b449187706cafb16d39f9": {
      "model_module": "@jupyter-widgets/controls",
      "model_module_version": "1.5.0",
      "model_name": "BoundedIntTextModel",
      "state": {
       "layout": "IPY_MODEL_564bc1d596374b8294d44653dc0abf69",
       "max": 10,
       "style": "IPY_MODEL_37ead53543ee4b0d8422f6e12df7be7a",
       "value": 7
      }
     },
     "78fad920fe1f4274b433cb763817b1a3": {
      "model_module": "@jupyter-widgets/controls",
      "model_module_version": "1.5.0",
      "model_name": "HTMLModel",
      "state": {
       "layout": "IPY_MODEL_5ef0c221c10049d088b5830d554b2bb5",
       "placeholder": "Some HTML",
       "style": "IPY_MODEL_bc92986895bf497b93da3ac1bd6b0cc8",
       "value": "<font size=3.5> <b>Threads Per Proc</b> <br> How many threads per process do you want to use? Note that SLURM currently only supports jobs which use the same number of processor per process. </font>"
      }
     },
     "791b47ea7ec84dbb8d06cfbc48032a6b": {
      "model_module": "@jupyter-widgets/base",
      "model_module_version": "1.2.0",
      "model_name": "LayoutModel",
      "state": {}
     },
     "7927292792214e47b357b1246e8749a1": {
      "model_module": "@jupyter-widgets/controls",
      "model_module_version": "1.5.0",
      "model_name": "HTMLModel",
      "state": {
       "layout": "IPY_MODEL_5f31f90147bb4da885aed09482d43481",
       "placeholder": "Some HTML",
       "style": "IPY_MODEL_3d034f13545d41309d6cd1dc10c96094",
       "value": "<font size=3.5> <b>Application Name</b> <br> Specify your application including the full path. </font>"
      }
     },
     "7976150a77994d82a90b8958035d28a7": {
      "model_module": "@jupyter-widgets/controls",
      "model_module_version": "1.5.0",
      "model_name": "ButtonModel",
      "state": {
       "description": "click me to raise an exception",
       "layout": "IPY_MODEL_072cbd6842d64f9892bfd7fbed4487f7",
       "style": "IPY_MODEL_261dccb460f64ae3a7364d6b1b03d848"
      }
     },
     "7990cf07170a494481af856b763afbb6": {
      "model_module": "@jupyter-widgets/controls",
      "model_module_version": "1.5.0",
      "model_name": "TextModel",
      "state": {
       "layout": "IPY_MODEL_357e385ac58e4f55b0610d16eeb6ba42",
       "placeholder": "Type something",
       "style": "IPY_MODEL_69e1aafc9f7b4c59943a63a845661b87",
       "value": "my_email@address.com"
      }
     },
     "79a26adb34e94aa484c0c1e47914fb70": {
      "model_module": "@jupyter-widgets/base",
      "model_module_version": "1.2.0",
      "model_name": "LayoutModel",
      "state": {
       "width": "300px"
      }
     },
     "7a519c0f61444b5c850217de4b3d0e14": {
      "model_module": "@jupyter-widgets/output",
      "model_module_version": "1.0.0",
      "model_name": "OutputModel",
      "state": {
       "layout": "IPY_MODEL_1b598123b7e1440b8803887eb4e60d09",
       "outputs": [
        {
         "name": "stdout",
         "output_type": "stream",
         "text": "This is about to explode\n"
        }
       ]
      }
     },
     "7b24f8551cba4ef09676ede68dd27568": {
      "model_module": "@jupyter-widgets/base",
      "model_module_version": "1.2.0",
      "model_name": "LayoutModel",
      "state": {}
     },
     "7b270f2333014401866533bb0580ea24": {
      "model_module": "@jupyter-widgets/controls",
      "model_module_version": "1.5.0",
      "model_name": "HTMLModel",
      "state": {
       "layout": "IPY_MODEL_d1b6dc453fc244538d2718d8d792d2f3",
       "placeholder": "Some HTML",
       "style": "IPY_MODEL_0b2ad391699d4dbb8eb2b512ef696b44",
       "value": "<font size=3.5> <b>System Name</b> <br> Select the system on which you want to submit your job. </font>"
      }
     },
     "7b2a9366eb8145459fb20e9860715ad5": {
      "model_module": "@jupyter-widgets/base",
      "model_module_version": "1.2.0",
      "model_name": "LayoutModel",
      "state": {}
     },
     "7b993f66e2614fedb9b6952c23126989": {
      "model_module": "@jupyter-widgets/base",
      "model_module_version": "1.2.0",
      "model_name": "LayoutModel",
      "state": {}
     },
     "7bf357ee1a044aeb9cb6b5ebb25315b4": {
      "model_module": "@jupyter-widgets/controls",
      "model_module_version": "1.5.0",
      "model_name": "ButtonModel",
      "state": {
       "description": "Click me",
       "icon": "check",
       "layout": "IPY_MODEL_a0171a636ea54236866650cef6696542",
       "style": "IPY_MODEL_62fe18d0147141abb18f16ce281fd714",
       "tooltip": "Description"
      }
     },
     "7c3eb7c186f949bdbf862c40b50203b6": {
      "model_module": "@jupyter-widgets/base",
      "model_module_version": "1.2.0",
      "model_name": "LayoutModel",
      "state": {}
     },
     "7ce1208c15de48ad818d2ea8fbfa1442": {
      "model_module": "@jupyter-widgets/controls",
      "model_module_version": "1.5.0",
      "model_name": "TextModel",
      "state": {
       "layout": "IPY_MODEL_86b34af0ab064fffa2197990d36c8a7b",
       "placeholder": "Type something",
       "style": "IPY_MODEL_2f8e0e1e1f064bd3b7738028d1b6caf9",
       "value": "00:01:00"
      }
     },
     "7d1c7b53d3884771a7702ba76397ace8": {
      "model_module": "@jupyter-widgets/base",
      "model_module_version": "1.2.0",
      "model_name": "LayoutModel",
      "state": {}
     },
     "7defadc1a7db41abb8dd42428af35fa0": {
      "model_module": "@jupyter-widgets/controls",
      "model_module_version": "1.5.0",
      "model_name": "DescriptionStyleModel",
      "state": {
       "description_width": ""
      }
     },
     "7e241d63b44c4c60a5848e76fc45770b": {
      "model_module": "@jupyter-widgets/controls",
      "model_module_version": "1.5.0",
      "model_name": "DropdownModel",
      "state": {
       "_options_labels": [
        "Frontier",
        "Summit",
        "Andes"
       ],
       "index": 0,
       "layout": "IPY_MODEL_9bcba5d9adf547ffb18aee9cbacb2bb5",
       "style": "IPY_MODEL_63a0abd7ca4c4ab990b9bfe96d5888fb"
      }
     },
     "7e69be5aa1c9441581985cb31c9c7936": {
      "model_module": "@jupyter-widgets/controls",
      "model_module_version": "1.5.0",
      "model_name": "HTMLModel",
      "state": {
       "layout": "IPY_MODEL_caaa12f5ee8c4a7498e50b12e2dd7e53",
       "placeholder": "Some HTML",
       "style": "IPY_MODEL_997dd81427b54f5ca64e97406a779dc5",
       "value": "<font size=3.5> <b>System Name</b> <br> Select the system on which you want to submit your job. </font>"
      }
     },
     "7e92717e2d7e4153ab6da768b6cd8d89": {
      "model_module": "@jupyter-widgets/controls",
      "model_module_version": "1.5.0",
      "model_name": "DescriptionStyleModel",
      "state": {
       "description_width": ""
      }
     },
     "7eb6b60bf3db4083a7595fecae1d33d7": {
      "model_module": "@jupyter-widgets/output",
      "model_module_version": "1.0.0",
      "model_name": "OutputModel",
      "state": {
       "layout": "IPY_MODEL_c3bb0eba78b945388a67cc8101a8b55c",
       "outputs": [
        {
         "name": "stdout",
         "output_type": "stream",
         "text": "#!/bin/bash\n#SBATCH -N 7\n#SBATCH -q debug\n#SBATCH -J my_job\n#SBATCH --mail-user= my_email@address.com\n#SBATCH --mail-type=ALL\n#SBATCH -t 00:01:00\nsrun -n 7 -c 4 my_app.exe\n"
        }
       ]
      }
     },
     "7eb7447d8112479b9452e59fdbe49bd5": {
      "model_module": "@jupyter-widgets/base",
      "model_module_version": "1.2.0",
      "model_name": "LayoutModel",
      "state": {}
     },
     "8030bcfb8ab24528b65f995846f2ca93": {
      "model_module": "@jupyter-widgets/controls",
      "model_module_version": "1.5.0",
      "model_name": "BoundedIntTextModel",
      "state": {
       "layout": "IPY_MODEL_35ee01fee9324ab98811f872d1aa7013",
       "max": 10,
       "style": "IPY_MODEL_fe62c6959fc34f5498dfc06a568ff08e",
       "value": 7
      }
     },
     "80568922301842159d9a046817e5fde5": {
      "model_module": "@jupyter-widgets/controls",
      "model_module_version": "1.5.0",
      "model_name": "HTMLModel",
      "state": {
       "layout": "IPY_MODEL_c1e1cbc59a0f409aa5968f7fb95747e5",
       "placeholder": "Some HTML",
       "style": "IPY_MODEL_36c85d79f5df410799e3966a8b8db45b",
       "value": "<font size=3.5> <b>Application Name</b> <br> Specify your application including the full path. </font>"
      }
     },
     "8090290c00cc476d96210fb18687f485": {
      "model_module": "@jupyter-widgets/controls",
      "model_module_version": "1.5.0",
      "model_name": "BoundedIntTextModel",
      "state": {
       "layout": "IPY_MODEL_a6c524e53fbf4635b7e8ce21ce2935c4",
       "max": 10,
       "style": "IPY_MODEL_9e1351029be14756bef546436cbb94ba",
       "value": 7
      }
     },
     "809c6b0f8056476583b72fc1c4e4cc7c": {
      "model_module": "@jupyter-widgets/base",
      "model_module_version": "1.2.0",
      "model_name": "LayoutModel",
      "state": {}
     },
     "80d1296fbf2b47cbbf09db1964087bbf": {
      "model_module": "@jupyter-widgets/controls",
      "model_module_version": "1.5.0",
      "model_name": "TextModel",
      "state": {
       "layout": "IPY_MODEL_02110e1ba3ed407495528ac29373d6a2",
       "placeholder": "Type something",
       "style": "IPY_MODEL_bb25cdd495594e3f91b0b7703a3e5825",
       "value": "my_app.exe"
      }
     },
     "80dd4d94d88b43d59196be574d2108d4": {
      "model_module": "@jupyter-widgets/controls",
      "model_module_version": "1.5.0",
      "model_name": "TextModel",
      "state": {
       "layout": "IPY_MODEL_94d5fd7db6b643168cbbe9083d1debc4",
       "placeholder": "Type something",
       "style": "IPY_MODEL_8acbc049da8641608aa2ab942ce9c5ce",
       "value": "00:01:00"
      }
     },
     "816e779920ae4947a88f83afb16876c8": {
      "model_module": "@jupyter-widgets/base",
      "model_module_version": "1.2.0",
      "model_name": "LayoutModel",
      "state": {}
     },
     "817252cb46a040589e4847d42456eccc": {
      "model_module": "@jupyter-widgets/controls",
      "model_module_version": "1.5.0",
      "model_name": "DescriptionStyleModel",
      "state": {
       "description_width": ""
      }
     },
     "8309e18040354a2998cbb6508b9bcad3": {
      "model_module": "@jupyter-widgets/controls",
      "model_module_version": "1.5.0",
      "model_name": "TextModel",
      "state": {
       "layout": "IPY_MODEL_b4d0ea46009e474eb30ca0e604a9d0d1",
       "placeholder": "Type something",
       "style": "IPY_MODEL_a144822f41a4492d866b926d4809f8b5",
       "value": "my_app.exe"
      }
     },
     "83281e5fd74e421988cd1ff2e738eeac": {
      "model_module": "@jupyter-widgets/controls",
      "model_module_version": "1.5.0",
      "model_name": "DescriptionStyleModel",
      "state": {
       "description_width": ""
      }
     },
     "8328e6c6cbcc4b1c855a245abb3fc417": {
      "model_module": "@jupyter-widgets/base",
      "model_module_version": "1.2.0",
      "model_name": "LayoutModel",
      "state": {}
     },
     "84008da401d649eea95322ac7665397a": {
      "model_module": "@jupyter-widgets/base",
      "model_module_version": "1.2.0",
      "model_name": "LayoutModel",
      "state": {}
     },
     "843373ac2d984de5873ff7db63b20559": {
      "model_module": "@jupyter-widgets/base",
      "model_module_version": "1.2.0",
      "model_name": "LayoutModel",
      "state": {}
     },
     "84405d4ca2ef4b5fb9423a758bdb7bfe": {
      "model_module": "@jupyter-widgets/base",
      "model_module_version": "1.2.0",
      "model_name": "LayoutModel",
      "state": {}
     },
     "8440ca4596404a6290c30aec2db83eaa": {
      "model_module": "@jupyter-widgets/base",
      "model_module_version": "1.2.0",
      "model_name": "LayoutModel",
      "state": {}
     },
     "8467fe07aeea4e45b459622016447481": {
      "model_module": "@jupyter-widgets/controls",
      "model_module_version": "1.5.0",
      "model_name": "DescriptionStyleModel",
      "state": {
       "description_width": ""
      }
     },
     "8485428ca38041cf93afd546aacd41cf": {
      "model_module": "@jupyter-widgets/controls",
      "model_module_version": "1.5.0",
      "model_name": "DescriptionStyleModel",
      "state": {
       "description_width": ""
      }
     },
     "8577e074c587418c82403e95ab52f4f7": {
      "model_module": "@jupyter-widgets/controls",
      "model_module_version": "1.5.0",
      "model_name": "DescriptionStyleModel",
      "state": {
       "description_width": ""
      }
     },
     "85b941bef6624c80809cece672c9de5f": {
      "model_module": "@jupyter-widgets/controls",
      "model_module_version": "1.5.0",
      "model_name": "TextModel",
      "state": {
       "layout": "IPY_MODEL_7b24f8551cba4ef09676ede68dd27568",
       "placeholder": "Type something",
       "style": "IPY_MODEL_df9f39c48d8447ce82c2262ecc75b9b0",
       "value": "my_job"
      }
     },
     "86b34af0ab064fffa2197990d36c8a7b": {
      "model_module": "@jupyter-widgets/base",
      "model_module_version": "1.2.0",
      "model_name": "LayoutModel",
      "state": {}
     },
     "875bea96dec3476099c7b3fe7a9fd06f": {
      "model_module": "@jupyter-widgets/controls",
      "model_module_version": "1.5.0",
      "model_name": "DropdownModel",
      "state": {
       "_options_labels": [
        "Frontier",
        "Summit",
        "Andes"
       ],
       "index": 0,
       "layout": "IPY_MODEL_34364c058b724607b10022700e72abcd",
       "style": "IPY_MODEL_d8f0da292c34422c980f09e5ae45521d"
      }
     },
     "8783164dd14a43eda69322c6206082c9": {
      "model_module": "@jupyter-widgets/controls",
      "model_module_version": "1.5.0",
      "model_name": "DescriptionStyleModel",
      "state": {
       "description_width": ""
      }
     },
     "8840378023554b6582ace2c6b179a97a": {
      "model_module": "@jupyter-widgets/controls",
      "model_module_version": "1.5.0",
      "model_name": "HTMLModel",
      "state": {
       "layout": "IPY_MODEL_3b7c97548f614a6fa077436905016ec3",
       "placeholder": "Some HTML",
       "style": "IPY_MODEL_d29fa864d3f841849e62424d296fa44c",
       "value": "<font size=3.5> <b>Email Address</b> <br> Specify your email address to get notified when the job enters a certain state. </font>"
      }
     },
     "8859a4336b884559bb1ed160281c9c82": {
      "model_module": "@jupyter-widgets/controls",
      "model_module_version": "1.5.0",
      "model_name": "DescriptionStyleModel",
      "state": {
       "description_width": ""
      }
     },
     "88662f6e81b74481b000ba6de7fcc6ab": {
      "model_module": "@jupyter-widgets/base",
      "model_module_version": "1.2.0",
      "model_name": "LayoutModel",
      "state": {}
     },
     "89441e24781945a1b8f6ecdbce3c50a3": {
      "model_module": "@jupyter-widgets/base",
      "model_module_version": "1.2.0",
      "model_name": "LayoutModel",
      "state": {}
     },
     "8a45882e41e34fb5960360f0777f4e3b": {
      "model_module": "@jupyter-widgets/controls",
      "model_module_version": "1.5.0",
      "model_name": "TextModel",
      "state": {
       "layout": "IPY_MODEL_b49f9b8415a14b14871881b6ef1da454",
       "placeholder": "Type something",
       "style": "IPY_MODEL_e4ba155f3a3b48b58a9684d22ccde62a",
       "value": "00:01:00"
      }
     },
     "8acbc049da8641608aa2ab942ce9c5ce": {
      "model_module": "@jupyter-widgets/controls",
      "model_module_version": "1.5.0",
      "model_name": "DescriptionStyleModel",
      "state": {
       "description_width": ""
      }
     },
     "8b000447b5664571a906f4441fc05bda": {
      "model_module": "@jupyter-widgets/base",
      "model_module_version": "1.2.0",
      "model_name": "LayoutModel",
      "state": {}
     },
     "8b028e805ea14dc2b8651f2056a9e010": {
      "model_module": "@jupyter-widgets/controls",
      "model_module_version": "1.5.0",
      "model_name": "ButtonModel",
      "state": {
       "description": "click me to raise an exception",
       "layout": "IPY_MODEL_171586f119ed48b2a2ba92aa7c456600",
       "style": "IPY_MODEL_6e6ddd350c77406aabae5ee893ecec18"
      }
     },
     "8b3ee7b6339741988bc93992090563bb": {
      "model_module": "@jupyter-widgets/base",
      "model_module_version": "1.2.0",
      "model_name": "LayoutModel",
      "state": {
       "border": "1px solid black"
      }
     },
     "8b842d086c6f443299e4aa314bb9d8ee": {
      "model_module": "@jupyter-widgets/controls",
      "model_module_version": "1.5.0",
      "model_name": "TextModel",
      "state": {
       "layout": "IPY_MODEL_c757219020f345b98b4930613cea1727",
       "placeholder": "Type something",
       "style": "IPY_MODEL_44e2ea6de0414db1a928c08451bb5846",
       "value": "my_email@address.com"
      }
     },
     "8bb2d14a84c44360980a510d9388e468": {
      "model_module": "@jupyter-widgets/base",
      "model_module_version": "1.2.0",
      "model_name": "LayoutModel",
      "state": {}
     },
     "8bf773aad251433ea2e83936c991080c": {
      "model_module": "@jupyter-widgets/controls",
      "model_module_version": "1.5.0",
      "model_name": "BoundedIntTextModel",
      "state": {
       "layout": "IPY_MODEL_4386f89096224eaf99cb628d48de1712",
       "max": 10,
       "style": "IPY_MODEL_d01154b33e094a799152ac912f6a9c5b",
       "value": 1
      }
     },
     "8c03e773bdc34e95ba1fc0f2ff235d51": {
      "model_module": "@jupyter-widgets/controls",
      "model_module_version": "1.5.0",
      "model_name": "HTMLModel",
      "state": {
       "layout": "IPY_MODEL_9e35256f6bfa47be9b4d83b1453033a0",
       "placeholder": "Some HTML",
       "style": "IPY_MODEL_a3830a075ad54bed9c7acea6de782040",
       "value": "<font size=3.5> <b>Procs Per Node</b> <br> How many processes, e.g. MPI ranks per node, do you want to use? </font>"
      }
     },
     "8cacaa2b750442159c12ef0186456629": {
      "model_module": "@jupyter-widgets/controls",
      "model_module_version": "1.5.0",
      "model_name": "DescriptionStyleModel",
      "state": {
       "description_width": ""
      }
     },
     "8d0749ed62a141a997b69a565d5f82e0": {
      "model_module": "@jupyter-widgets/controls",
      "model_module_version": "1.5.0",
      "model_name": "ButtonStyleModel",
      "state": {}
     },
     "8e891334b148467eaf5879ba9ddec33d": {
      "model_module": "@jupyter-widgets/controls",
      "model_module_version": "1.5.0",
      "model_name": "DescriptionStyleModel",
      "state": {
       "description_width": ""
      }
     },
     "8ecdbbb8c37642fa9a4cd3f541af0b5c": {
      "model_module": "@jupyter-widgets/controls",
      "model_module_version": "1.5.0",
      "model_name": "DescriptionStyleModel",
      "state": {
       "description_width": ""
      }
     },
     "8fc4418c84db4ba490e2eddafe717a0d": {
      "model_module": "@jupyter-widgets/controls",
      "model_module_version": "1.5.0",
      "model_name": "HTMLModel",
      "state": {
       "layout": "IPY_MODEL_696af21194a74203abb282eb7e9d15bb",
       "placeholder": "Some HTML",
       "style": "IPY_MODEL_8577e074c587418c82403e95ab52f4f7",
       "value": "<font size=3.5> <b>Procs Per Node</b> <br> How many processes, e.g. MPI ranks per node, do you want to use? </font>"
      }
     },
     "90801126d96747b49c46e9f6e2f1b2d8": {
      "model_module": "@jupyter-widgets/base",
      "model_module_version": "1.2.0",
      "model_name": "LayoutModel",
      "state": {}
     },
     "909ed57efdc549e5a9fb9536135251a9": {
      "model_module": "@jupyter-widgets/base",
      "model_module_version": "1.2.0",
      "model_name": "LayoutModel",
      "state": {}
     },
     "90bee9972e514d73910c8ee211613112": {
      "model_module": "@jupyter-widgets/controls",
      "model_module_version": "1.5.0",
      "model_name": "DescriptionStyleModel",
      "state": {
       "description_width": ""
      }
     },
     "90c5d76e98ae4cceaf0d72e763593c0f": {
      "model_module": "@jupyter-widgets/controls",
      "model_module_version": "1.5.0",
      "model_name": "BoundedIntTextModel",
      "state": {
       "layout": "IPY_MODEL_746de13b32154cb7b2d2a6ee9bcf3740",
       "max": 10,
       "style": "IPY_MODEL_5d961829cc574ad0ad7df90a645b1a4c",
       "value": 7
      }
     },
     "90f6992a23d947dea8a818f80013b119": {
      "model_module": "@jupyter-widgets/controls",
      "model_module_version": "1.5.0",
      "model_name": "HTMLModel",
      "state": {
       "layout": "IPY_MODEL_a0b494d973b84f2c8111cb98da2125e1",
       "placeholder": "Some HTML",
       "style": "IPY_MODEL_d7d574d7c3d64c5090950114442d657e",
       "value": "<font size=3.5> <b>Email Address</b> <br> Specify your email address to get notified when the job enters a certain state. </font>"
      }
     },
     "918396a4509649f9a3899abf0c58bd2d": {
      "model_module": "@jupyter-widgets/controls",
      "model_module_version": "1.5.0",
      "model_name": "TextModel",
      "state": {
       "layout": "IPY_MODEL_d135d4afd2df4eb5a23cc99c7ea9e9ee",
       "placeholder": "Type something",
       "style": "IPY_MODEL_eac219fd81284ddc9f63120845ddd6db",
       "value": "00:01:00"
      }
     },
     "91a8915c043b4598a722c65425d98576": {
      "model_module": "@jupyter-widgets/controls",
      "model_module_version": "1.5.0",
      "model_name": "DescriptionStyleModel",
      "state": {
       "description_width": ""
      }
     },
     "92461cdf5ac24385ab01c822fad81179": {
      "model_module": "@jupyter-widgets/base",
      "model_module_version": "1.2.0",
      "model_name": "LayoutModel",
      "state": {}
     },
     "926af2a35e5e4e5fa4159768c6e8644a": {
      "model_module": "@jupyter-widgets/controls",
      "model_module_version": "1.5.0",
      "model_name": "BoundedIntTextModel",
      "state": {
       "layout": "IPY_MODEL_953fbf9ad214456ba7023aa1bde7f2f1",
       "max": 10,
       "style": "IPY_MODEL_e4925efbf4ed4263a84aed5fb95fb7ad",
       "value": 7
      }
     },
     "9294d80049764a0abdd895f19b842ffc": {
      "model_module": "@jupyter-widgets/controls",
      "model_module_version": "1.5.0",
      "model_name": "DescriptionStyleModel",
      "state": {
       "description_width": ""
      }
     },
     "93482ac5cdf34bdcba4be6a0a5f70c35": {
      "model_module": "@jupyter-widgets/controls",
      "model_module_version": "1.5.0",
      "model_name": "ButtonModel",
      "state": {
       "description": "Generate Script",
       "layout": "IPY_MODEL_60fb9f5dcdd64e0ab65c8a344b15c629",
       "style": "IPY_MODEL_00e892c065ce4bc7907e1fe83756d1d4"
      }
     },
     "9375461e9a7c4051aa90d18938f138d5": {
      "model_module": "@jupyter-widgets/controls",
      "model_module_version": "1.5.0",
      "model_name": "HTMLModel",
      "state": {
       "layout": "IPY_MODEL_085eef56e4c34261944bf94d8d395240",
       "placeholder": "Some HTML",
       "style": "IPY_MODEL_0c58ed88467d477fbf3ef76b91254fc0",
       "value": "<font size=3.5> <b>Job Name</b> <br> Specify a name for your job. </font>"
      }
     },
     "937859d36c7b47c5a255e2f5456bc43b": {
      "model_module": "@jupyter-widgets/controls",
      "model_module_version": "1.5.0",
      "model_name": "DescriptionStyleModel",
      "state": {
       "description_width": ""
      }
     },
     "93ad668a13244ba8a8da2f9566eba7cc": {
      "model_module": "@jupyter-widgets/base",
      "model_module_version": "1.2.0",
      "model_name": "LayoutModel",
      "state": {}
     },
     "93dde7d747644be1940ce751c06ddefc": {
      "model_module": "@jupyter-widgets/controls",
      "model_module_version": "1.5.0",
      "model_name": "DescriptionStyleModel",
      "state": {
       "description_width": ""
      }
     },
     "94d5fd7db6b643168cbbe9083d1debc4": {
      "model_module": "@jupyter-widgets/base",
      "model_module_version": "1.2.0",
      "model_name": "LayoutModel",
      "state": {}
     },
     "953fbf9ad214456ba7023aa1bde7f2f1": {
      "model_module": "@jupyter-widgets/base",
      "model_module_version": "1.2.0",
      "model_name": "LayoutModel",
      "state": {}
     },
     "9550527669e1443ebc5317a6fbab2d3a": {
      "model_module": "@jupyter-widgets/controls",
      "model_module_version": "1.5.0",
      "model_name": "DescriptionStyleModel",
      "state": {
       "description_width": ""
      }
     },
     "957c0467ce174d67b6afb8748b5343bb": {
      "model_module": "@jupyter-widgets/controls",
      "model_module_version": "1.5.0",
      "model_name": "DescriptionStyleModel",
      "state": {
       "description_width": ""
      }
     },
     "95920a8670144d82b1951adf42c2b5ab": {
      "model_module": "@jupyter-widgets/base",
      "model_module_version": "1.2.0",
      "model_name": "LayoutModel",
      "state": {}
     },
     "95fa97bb72584cdfb855ec79a27325a2": {
      "model_module": "@jupyter-widgets/controls",
      "model_module_version": "1.5.0",
      "model_name": "DescriptionStyleModel",
      "state": {
       "description_width": ""
      }
     },
     "963246b328a44ceda80c3e462310533a": {
      "model_module": "@jupyter-widgets/controls",
      "model_module_version": "1.5.0",
      "model_name": "HTMLModel",
      "state": {
       "layout": "IPY_MODEL_018ec73c59d24e95918c0f15feb0b329",
       "placeholder": "Some HTML",
       "style": "IPY_MODEL_d7cef4c6f6ea4d97a404f5acb75d0cd7",
       "value": "<font size=3.5> <b>Email Address</b> <br> Specify your email address to get notified when the job enters a certain state. </font>"
      }
     },
     "9663e62ab5cc475db8540884a9e2aebe": {
      "model_module": "@jupyter-widgets/base",
      "model_module_version": "1.2.0",
      "model_name": "LayoutModel",
      "state": {
       "width": "300px"
      }
     },
     "967cfedc580c46b0b6cce28651bdce8a": {
      "model_module": "@jupyter-widgets/base",
      "model_module_version": "1.2.0",
      "model_name": "LayoutModel",
      "state": {}
     },
     "96a2b3f3df0b479c88a2cb0f20bdfa16": {
      "model_module": "@jupyter-widgets/controls",
      "model_module_version": "1.5.0",
      "model_name": "HTMLModel",
      "state": {
       "layout": "IPY_MODEL_3c6ee3a152bd43b1aebed7d87876b5a5",
       "placeholder": "Some HTML",
       "style": "IPY_MODEL_4b1c0cff7a924f09ac3709000120594f",
       "value": "<font size=3.5> <b>Wall Clock Time</b> <br> Specify the duration of the job. </font>"
      }
     },
     "96d3782b041f48578a573a285ea757fc": {
      "model_module": "@jupyter-widgets/base",
      "model_module_version": "1.2.0",
      "model_name": "LayoutModel",
      "state": {}
     },
     "96e0ced8d46d47cf8e2738a3d3c814a7": {
      "model_module": "@jupyter-widgets/base",
      "model_module_version": "1.2.0",
      "model_name": "LayoutModel",
      "state": {
       "width": "300px"
      }
     },
     "971349a5d4314b31a4fe0af65daa6e57": {
      "model_module": "@jupyter-widgets/base",
      "model_module_version": "1.2.0",
      "model_name": "LayoutModel",
      "state": {}
     },
     "97c0849e888e4c9785abe4ec9e26531f": {
      "model_module": "@jupyter-widgets/controls",
      "model_module_version": "1.5.0",
      "model_name": "HTMLModel",
      "state": {
       "layout": "IPY_MODEL_ffd19155669743cb815e1a729883d37e",
       "placeholder": "Some HTML",
       "style": "IPY_MODEL_c23e1a6b6012497da54fab417ae0e665",
       "value": "<font size=3.5> <b>Wall Clock Time</b> <br> Specify the duration of the job. </font>"
      }
     },
     "97f218ba5e634b14b82363ddb5182b97": {
      "model_module": "@jupyter-widgets/controls",
      "model_module_version": "1.5.0",
      "model_name": "HTMLModel",
      "state": {
       "layout": "IPY_MODEL_dd3d74f023c84b1aa67aafe12d1c2142",
       "placeholder": "Some HTML",
       "style": "IPY_MODEL_3ebc11c99d31496686f8ce741357f44e",
       "value": "<font size=3.5> <b>Application Name</b> <br> Specify your application including the full path. </font>"
      }
     },
     "9818defc390a451a808087097d10ff37": {
      "model_module": "@jupyter-widgets/base",
      "model_module_version": "1.2.0",
      "model_name": "LayoutModel",
      "state": {}
     },
     "9830acafc45e457bba01cbc41d5009a4": {
      "model_module": "@jupyter-widgets/controls",
      "model_module_version": "1.5.0",
      "model_name": "DescriptionStyleModel",
      "state": {
       "description_width": ""
      }
     },
     "9894231fe70947a29c15599095c0fb47": {
      "model_module": "@jupyter-widgets/output",
      "model_module_version": "1.0.0",
      "model_name": "OutputModel",
      "state": {
       "layout": "IPY_MODEL_6fe4b6b6aea94f67a5eafe93c5b2ea48",
       "outputs": [
        {
         "name": "stdout",
         "output_type": "stream",
         "text": "This is about to explode\n"
        }
       ]
      }
     },
     "98e9d4e38427409ca338339559d20441": {
      "model_module": "@jupyter-widgets/controls",
      "model_module_version": "1.5.0",
      "model_name": "BoundedIntTextModel",
      "state": {
       "layout": "IPY_MODEL_8328e6c6cbcc4b1c855a245abb3fc417",
       "max": 10,
       "style": "IPY_MODEL_b7f19a892cb44c75bab1640a8f68e048",
       "value": 7
      }
     },
     "997dd81427b54f5ca64e97406a779dc5": {
      "model_module": "@jupyter-widgets/controls",
      "model_module_version": "1.5.0",
      "model_name": "DescriptionStyleModel",
      "state": {
       "description_width": ""
      }
     },
     "9a20c73254004730ab2573d4e1838b2b": {
      "model_module": "@jupyter-widgets/base",
      "model_module_version": "1.2.0",
      "model_name": "LayoutModel",
      "state": {}
     },
     "9a6aebbd95f8455abe6b4f5a49fb378f": {
      "model_module": "@jupyter-widgets/controls",
      "model_module_version": "1.5.0",
      "model_name": "DescriptionStyleModel",
      "state": {
       "description_width": ""
      }
     },
     "9aa82c3c4b16475cb8515c6ee000bc22": {
      "model_module": "@jupyter-widgets/controls",
      "model_module_version": "1.5.0",
      "model_name": "DescriptionStyleModel",
      "state": {
       "description_width": ""
      }
     },
     "9abe66b58d8b4b3f851c39a546dc6ca7": {
      "model_module": "@jupyter-widgets/base",
      "model_module_version": "1.2.0",
      "model_name": "LayoutModel",
      "state": {}
     },
     "9b6cb2f3236a4d88b224d6cca4acfa05": {
      "model_module": "@jupyter-widgets/controls",
      "model_module_version": "1.5.0",
      "model_name": "DescriptionStyleModel",
      "state": {
       "description_width": ""
      }
     },
     "9b84c5aa6bc64f87840e9614b1a039e2": {
      "model_module": "@jupyter-widgets/base",
      "model_module_version": "1.2.0",
      "model_name": "LayoutModel",
      "state": {}
     },
     "9bcba5d9adf547ffb18aee9cbacb2bb5": {
      "model_module": "@jupyter-widgets/base",
      "model_module_version": "1.2.0",
      "model_name": "LayoutModel",
      "state": {}
     },
     "9c3a39fef7f94d86be7063ed255fdfb0": {
      "model_module": "@jupyter-widgets/controls",
      "model_module_version": "1.5.0",
      "model_name": "DescriptionStyleModel",
      "state": {
       "description_width": ""
      }
     },
     "9c468c6bd792463d81e78c85b6af623e": {
      "model_module": "@jupyter-widgets/controls",
      "model_module_version": "1.5.0",
      "model_name": "HTMLModel",
      "state": {
       "layout": "IPY_MODEL_3d88b18467884bc9b1af5ea3594343cf",
       "placeholder": "Some HTML",
       "style": "IPY_MODEL_b3b7d3da9a5047e8ab4324221e507dc6",
       "value": "<font size=3.5> <b>System Name</b> <br> Select the system on which you want to submit your job. </font>"
      }
     },
     "9dca5556b1514870a58268e673e1f52a": {
      "model_module": "@jupyter-widgets/controls",
      "model_module_version": "1.5.0",
      "model_name": "BoundedIntTextModel",
      "state": {
       "layout": "IPY_MODEL_274617202229499981e9f581a5030330",
       "max": 10,
       "style": "IPY_MODEL_5be534ccc7f141b88d894a2b5bcd6814",
       "value": 7
      }
     },
     "9e1351029be14756bef546436cbb94ba": {
      "model_module": "@jupyter-widgets/controls",
      "model_module_version": "1.5.0",
      "model_name": "DescriptionStyleModel",
      "state": {
       "description_width": ""
      }
     },
     "9e2def1869a142c0b9bd6b700231870f": {
      "model_module": "@jupyter-widgets/base",
      "model_module_version": "1.2.0",
      "model_name": "LayoutModel",
      "state": {}
     },
     "9e35256f6bfa47be9b4d83b1453033a0": {
      "model_module": "@jupyter-widgets/base",
      "model_module_version": "1.2.0",
      "model_name": "LayoutModel",
      "state": {}
     },
     "9e6a8f5392a74207843383b8b0ba1a77": {
      "model_module": "@jupyter-widgets/controls",
      "model_module_version": "1.5.0",
      "model_name": "DescriptionStyleModel",
      "state": {
       "description_width": ""
      }
     },
     "9f1d07b0ff484523bb305c438dbe17a6": {
      "model_module": "@jupyter-widgets/base",
      "model_module_version": "1.2.0",
      "model_name": "LayoutModel",
      "state": {}
     },
     "9f82ddd7fbee4f8ebef72f1d971bd1fa": {
      "model_module": "@jupyter-widgets/controls",
      "model_module_version": "1.5.0",
      "model_name": "HTMLModel",
      "state": {
       "layout": "IPY_MODEL_5a26088f7fd64e10995598a52a5454a4",
       "placeholder": "Some HTML",
       "style": "IPY_MODEL_d212b637f22546428382400e81d417ca",
       "value": "<font size=3.5> <b>Procs Per Node</b> <br> How many processes, e.g. MPI ranks per node, do you want to use? </font>"
      }
     },
     "9f8f076cf34b4aaf94bb229060711f56": {
      "model_module": "@jupyter-widgets/base",
      "model_module_version": "1.2.0",
      "model_name": "LayoutModel",
      "state": {}
     },
     "9ff6457d46d64e93891758e422996024": {
      "model_module": "@jupyter-widgets/controls",
      "model_module_version": "1.5.0",
      "model_name": "HTMLModel",
      "state": {
       "layout": "IPY_MODEL_88662f6e81b74481b000ba6de7fcc6ab",
       "placeholder": "Some HTML",
       "style": "IPY_MODEL_12e463cfe1914026a31e7f961881c7e8",
       "value": "<font size=3.5> <b>Wall Clock Time</b> <br> Specify the duration of the job. </font>"
      }
     },
     "a0171a636ea54236866650cef6696542": {
      "model_module": "@jupyter-widgets/base",
      "model_module_version": "1.2.0",
      "model_name": "LayoutModel",
      "state": {}
     },
     "a037da719fdc4deaaea41b61fb896491": {
      "model_module": "@jupyter-widgets/controls",
      "model_module_version": "1.5.0",
      "model_name": "TextModel",
      "state": {
       "layout": "IPY_MODEL_d690a203858642239e03b1ef4d9054c0",
       "placeholder": "Type something",
       "style": "IPY_MODEL_dae259846050455dba9696d19a4a6c97",
       "value": "my_email@address.com"
      }
     },
     "a04f636a891a4b178cd2dfaaaa283975": {
      "model_module": "@jupyter-widgets/controls",
      "model_module_version": "1.5.0",
      "model_name": "DescriptionStyleModel",
      "state": {
       "description_width": ""
      }
     },
     "a06e82e80d2b477ebcd0ba290d1afb98": {
      "model_module": "@jupyter-widgets/controls",
      "model_module_version": "1.5.0",
      "model_name": "DescriptionStyleModel",
      "state": {
       "description_width": ""
      }
     },
     "a0b494d973b84f2c8111cb98da2125e1": {
      "model_module": "@jupyter-widgets/base",
      "model_module_version": "1.2.0",
      "model_name": "LayoutModel",
      "state": {}
     },
     "a144822f41a4492d866b926d4809f8b5": {
      "model_module": "@jupyter-widgets/controls",
      "model_module_version": "1.5.0",
      "model_name": "DescriptionStyleModel",
      "state": {
       "description_width": ""
      }
     },
     "a1b3a50136b54cfb814e6c277c3fa6ae": {
      "model_module": "@jupyter-widgets/controls",
      "model_module_version": "1.5.0",
      "model_name": "HTMLModel",
      "state": {
       "layout": "IPY_MODEL_25ab2c77bef04d34874744c87bbe3fc1",
       "placeholder": "Some HTML",
       "style": "IPY_MODEL_df321cea08974ee3890328c52734cb10",
       "value": "<font size=3.5> <b>System Name</b> <br> Select the system on which you want to submit your job. </font>"
      }
     },
     "a1c02cbdbbbb46bfa7a0f6f6963d305a": {
      "model_module": "@jupyter-widgets/controls",
      "model_module_version": "1.5.0",
      "model_name": "HTMLModel",
      "state": {
       "layout": "IPY_MODEL_791b47ea7ec84dbb8d06cfbc48032a6b",
       "placeholder": "Some HTML",
       "style": "IPY_MODEL_9830acafc45e457bba01cbc41d5009a4",
       "value": "<font size=3.5> <b>Application Name</b> <br> Specify your application including the full path. </font>"
      }
     },
     "a2b50fa401cf40f49c0fe158a17324ea": {
      "model_module": "@jupyter-widgets/controls",
      "model_module_version": "1.5.0",
      "model_name": "TextModel",
      "state": {
       "layout": "IPY_MODEL_eed4517c6fca40e2a0206ad86b4df78f",
       "placeholder": "Type something",
       "style": "IPY_MODEL_f1847229a34d4d448be11dea361306b7",
       "value": "my_app.exe"
      }
     },
     "a2e17cfc7ed14bc68d84d97ea6fdbc86": {
      "model_module": "@jupyter-widgets/controls",
      "model_module_version": "1.5.0",
      "model_name": "DescriptionStyleModel",
      "state": {
       "description_width": ""
      }
     },
     "a342749f129647318d69256044688b47": {
      "model_module": "@jupyter-widgets/controls",
      "model_module_version": "1.5.0",
      "model_name": "ButtonStyleModel",
      "state": {}
     },
     "a3830a075ad54bed9c7acea6de782040": {
      "model_module": "@jupyter-widgets/controls",
      "model_module_version": "1.5.0",
      "model_name": "DescriptionStyleModel",
      "state": {
       "description_width": ""
      }
     },
     "a3cb9700d6ed4ad9bdfdfdc2bffb9837": {
      "model_module": "@jupyter-widgets/base",
      "model_module_version": "1.2.0",
      "model_name": "LayoutModel",
      "state": {}
     },
     "a3f190b5d6374ce79a5d8d2bf9e5473b": {
      "model_module": "@jupyter-widgets/controls",
      "model_module_version": "1.5.0",
      "model_name": "HTMLModel",
      "state": {
       "layout": "IPY_MODEL_c1115e2ee90f4fb192d0a708a21d7d2f",
       "placeholder": "Some HTML",
       "style": "IPY_MODEL_8e891334b148467eaf5879ba9ddec33d",
       "value": "<font size=3.5> <b>Job Name</b> <br> Specify a name for your job. </font>"
      }
     },
     "a444e330ff0e4e6d860c8c2efea9ecf4": {
      "model_module": "@jupyter-widgets/base",
      "model_module_version": "1.2.0",
      "model_name": "LayoutModel",
      "state": {}
     },
     "a4972141b70d47f9a4e105027719b562": {
      "model_module": "@jupyter-widgets/base",
      "model_module_version": "1.2.0",
      "model_name": "LayoutModel",
      "state": {}
     },
     "a499a92232304116b0637573ac6820e6": {
      "model_module": "@jupyter-widgets/controls",
      "model_module_version": "1.5.0",
      "model_name": "DescriptionStyleModel",
      "state": {
       "description_width": ""
      }
     },
     "a4adb1555d6f46e18d2289cc8a6bd82d": {
      "model_module": "@jupyter-widgets/base",
      "model_module_version": "1.2.0",
      "model_name": "LayoutModel",
      "state": {}
     },
     "a559acdd0f044ebaa38b2aa3fc6c1fa4": {
      "model_module": "@jupyter-widgets/controls",
      "model_module_version": "1.5.0",
      "model_name": "DescriptionStyleModel",
      "state": {
       "description_width": ""
      }
     },
     "a5d43462de20469a97f2fc9991d23b4d": {
      "model_module": "@jupyter-widgets/controls",
      "model_module_version": "1.5.0",
      "model_name": "HTMLModel",
      "state": {
       "layout": "IPY_MODEL_f42b41aa019b40f680b8a9a1b8395a1e",
       "placeholder": "Some HTML",
       "style": "IPY_MODEL_a5fdef58de414fbf8d3a7a5482df0437",
       "value": "<font size=3.5> <b>Threads Per Proc</b> <br> How many threads per process do you want to use? Note that SLURM currently only supports jobs which use the same number of processor per process. </font>"
      }
     },
     "a5fdef58de414fbf8d3a7a5482df0437": {
      "model_module": "@jupyter-widgets/controls",
      "model_module_version": "1.5.0",
      "model_name": "DescriptionStyleModel",
      "state": {
       "description_width": ""
      }
     },
     "a60933fcab8f439cbd83c2424ea630ff": {
      "model_module": "@jupyter-widgets/controls",
      "model_module_version": "1.5.0",
      "model_name": "HTMLModel",
      "state": {
       "layout": "IPY_MODEL_330547ab7b4442a89a6ce93e5eeb930f",
       "placeholder": "Some HTML",
       "style": "IPY_MODEL_f4983df30bb24c4cb6c5a1e8b0c3fc7f",
       "value": "<font size=3.5> <b>Application Name</b> <br> Specify your application including the full path. </font>"
      }
     },
     "a6551d5682b348d698eca3ec9eca9358": {
      "model_module": "@jupyter-widgets/controls",
      "model_module_version": "1.5.0",
      "model_name": "DescriptionStyleModel",
      "state": {
       "description_width": ""
      }
     },
     "a6c524e53fbf4635b7e8ce21ce2935c4": {
      "model_module": "@jupyter-widgets/base",
      "model_module_version": "1.2.0",
      "model_name": "LayoutModel",
      "state": {}
     },
     "a6d548e499854acaa68c0a33d61d59e9": {
      "model_module": "@jupyter-widgets/controls",
      "model_module_version": "1.5.0",
      "model_name": "HTMLModel",
      "state": {
       "layout": "IPY_MODEL_8bb2d14a84c44360980a510d9388e468",
       "placeholder": "Some HTML",
       "style": "IPY_MODEL_098a71212ac24facb0c335e19cf3502c",
       "value": "<font size=3.5> <b>System Name</b> <br> Select the system on which you want to submit your job. </font>"
      }
     },
     "a6d65c84adba4986b7064cdbb1b5c47e": {
      "model_module": "@jupyter-widgets/controls",
      "model_module_version": "1.5.0",
      "model_name": "HTMLModel",
      "state": {
       "layout": "IPY_MODEL_34cf93e144e7453cb57c1f061dc68518",
       "placeholder": "Some HTML",
       "style": "IPY_MODEL_5487e04ca9de47079723c5f84441715e",
       "value": "<font size=3.5> <b>Application Name</b> <br> Specify your application including the full path. </font>"
      }
     },
     "a7085982accf4819affbc9947d6f72ba": {
      "model_module": "@jupyter-widgets/base",
      "model_module_version": "1.2.0",
      "model_name": "LayoutModel",
      "state": {}
     },
     "a77d8713ea4b4561a21f40fad6da4741": {
      "model_module": "@jupyter-widgets/base",
      "model_module_version": "1.2.0",
      "model_name": "LayoutModel",
      "state": {}
     },
     "a906ae357c384d8db34ad44d83ec86d1": {
      "model_module": "@jupyter-widgets/controls",
      "model_module_version": "1.5.0",
      "model_name": "DescriptionStyleModel",
      "state": {
       "description_width": ""
      }
     },
     "a925380e41ff42b99b4f13766f1138a8": {
      "model_module": "@jupyter-widgets/controls",
      "model_module_version": "1.5.0",
      "model_name": "BoundedIntTextModel",
      "state": {
       "layout": "IPY_MODEL_b1d0c19407084f26a50fd4654665052d",
       "max": 10,
       "style": "IPY_MODEL_61de4b413fba4b04a2b23a5e72b6e017",
       "value": 7
      }
     },
     "a9c82d07925a4e01abc30b1c88e156d7": {
      "model_module": "@jupyter-widgets/controls",
      "model_module_version": "1.5.0",
      "model_name": "TextModel",
      "state": {
       "layout": "IPY_MODEL_a7085982accf4819affbc9947d6f72ba",
       "placeholder": "Type something",
       "style": "IPY_MODEL_d17698f9bf4542d8a6a18d41da0edab8",
       "value": "00:01:00"
      }
     },
     "aa5d2ea9108549f89e44e25f55a37ca5": {
      "model_module": "@jupyter-widgets/controls",
      "model_module_version": "1.5.0",
      "model_name": "TextModel",
      "state": {
       "layout": "IPY_MODEL_afcebd2309d4453b8b361394f963fec0",
       "placeholder": "Type something",
       "style": "IPY_MODEL_54a9a9374cb940cb9813ffb62d556b05",
       "value": "my_app.exe"
      }
     },
     "ab4e7c7866ca4ffba1b2273e6641d0fd": {
      "model_module": "@jupyter-widgets/controls",
      "model_module_version": "1.5.0",
      "model_name": "DescriptionStyleModel",
      "state": {
       "description_width": ""
      }
     },
     "ab8e049f415e4f1a93b7068d7d3f9512": {
      "model_module": "@jupyter-widgets/controls",
      "model_module_version": "1.5.0",
      "model_name": "TextModel",
      "state": {
       "layout": "IPY_MODEL_2a5b13859d504dbf82f5471ac662b908",
       "placeholder": "Type something",
       "style": "IPY_MODEL_414e11549c0342b7813941ee904ef18c",
       "value": "my_app.exe"
      }
     },
     "abaf61e643314488859fe15663526851": {
      "model_module": "@jupyter-widgets/controls",
      "model_module_version": "1.5.0",
      "model_name": "DropdownModel",
      "state": {
       "_options_labels": [
        "Frontier",
        "Summit",
        "Andes"
       ],
       "index": 0,
       "layout": "IPY_MODEL_93ad668a13244ba8a8da2f9566eba7cc",
       "style": "IPY_MODEL_1a602d13c7544cb994e880787358fdcd"
      }
     },
     "ac294c5fcfa84196a1aaa11bff8edd5f": {
      "model_module": "@jupyter-widgets/controls",
      "model_module_version": "1.5.0",
      "model_name": "HTMLModel",
      "state": {
       "layout": "IPY_MODEL_d3f7b53686c1478499b6fc23765cde11",
       "placeholder": "Some HTML",
       "style": "IPY_MODEL_5ba0bac6c44d4c72aab10769a68d71ff",
       "value": "<font size=3.5> <b>Threads Per Proc</b> <br> How many threads per process do you want to use? Note that SLURM currently only supports jobs which use the same number of processor per process. </font>"
      }
     },
     "ad1b1a4cd6c84e39a29494e750e8dc89": {
      "model_module": "@jupyter-widgets/controls",
      "model_module_version": "1.5.0",
      "model_name": "HTMLModel",
      "state": {
       "layout": "IPY_MODEL_8b000447b5664571a906f4441fc05bda",
       "placeholder": "Some HTML",
       "style": "IPY_MODEL_cf69e8d4d75d4355be50939de81df288",
       "value": "<font size=3.5> <b>System Name</b> <br> Select the system on which you want to submit your job. </font>"
      }
     },
     "ad410a3c5fe84bc2aa14570b5458e537": {
      "model_module": "@jupyter-widgets/base",
      "model_module_version": "1.2.0",
      "model_name": "LayoutModel",
      "state": {}
     },
     "adb64cacba1c48e7aca8746701aa95de": {
      "model_module": "@jupyter-widgets/controls",
      "model_module_version": "1.5.0",
      "model_name": "HTMLModel",
      "state": {
       "layout": "IPY_MODEL_29fb14fcbc6a4b808322fb42cd78b6d4",
       "placeholder": "Some HTML",
       "style": "IPY_MODEL_8467fe07aeea4e45b459622016447481",
       "value": "<font size=3.5> <b>Job Name</b> <br> Specify a name for your job. </font>"
      }
     },
     "add45b9c2d114a4b8a031407dedcc3c6": {
      "model_module": "@jupyter-widgets/controls",
      "model_module_version": "1.5.0",
      "model_name": "DescriptionStyleModel",
      "state": {
       "description_width": ""
      }
     },
     "adf0d6e1317e4812ab942b8bcd6376c5": {
      "model_module": "@jupyter-widgets/controls",
      "model_module_version": "1.5.0",
      "model_name": "HTMLModel",
      "state": {
       "layout": "IPY_MODEL_c2fcc4a3a6254b64bf0482ef422f86c7",
       "placeholder": "Some HTML",
       "style": "IPY_MODEL_20e8d984efd844bdbd2f85c694cd2c3f",
       "value": "<font size=3.5> <b>Application Name</b> <br> Specify your application including the full path. </font>"
      }
     },
     "ae483dbb7cd441b997135f9a4dfcc6c1": {
      "model_module": "@jupyter-widgets/controls",
      "model_module_version": "1.5.0",
      "model_name": "DescriptionStyleModel",
      "state": {
       "description_width": ""
      }
     },
     "aef852f950584adcb00c8b5c144ad141": {
      "model_module": "@jupyter-widgets/controls",
      "model_module_version": "1.5.0",
      "model_name": "DescriptionStyleModel",
      "state": {
       "description_width": ""
      }
     },
     "af30dd0b40e84f18b3ab1981f5365d23": {
      "model_module": "@jupyter-widgets/controls",
      "model_module_version": "1.5.0",
      "model_name": "DescriptionStyleModel",
      "state": {
       "description_width": ""
      }
     },
     "afa990b947e44f92864c180c6191727d": {
      "model_module": "@jupyter-widgets/controls",
      "model_module_version": "1.5.0",
      "model_name": "BoundedIntTextModel",
      "state": {
       "layout": "IPY_MODEL_542ad484b4ae4a3a81f9d6bedc9e231b",
       "max": 10,
       "style": "IPY_MODEL_6858cacf3b2f46ea9f0487be19b8815d",
       "value": 7
      }
     },
     "afcebd2309d4453b8b361394f963fec0": {
      "model_module": "@jupyter-widgets/base",
      "model_module_version": "1.2.0",
      "model_name": "LayoutModel",
      "state": {}
     },
     "afd8553946c54f52a6233aed9a72343e": {
      "model_module": "@jupyter-widgets/controls",
      "model_module_version": "1.5.0",
      "model_name": "TextModel",
      "state": {
       "layout": "IPY_MODEL_c88b7384e9da4880bbf82a91c9fa029d",
       "placeholder": "Type something",
       "style": "IPY_MODEL_f44c25a6c5854d728bc613a834e30847",
       "value": "my_job"
      }
     },
     "b02fb3f80c71465290e8a2380662e2a8": {
      "model_module": "@jupyter-widgets/controls",
      "model_module_version": "1.5.0",
      "model_name": "HTMLModel",
      "state": {
       "layout": "IPY_MODEL_0c0d9635d37c4acc8086300a9eb3abaa",
       "placeholder": "Some HTML",
       "style": "IPY_MODEL_d4dbd934cb09410a84f51f46a744b873",
       "value": "<font size=3.5> <b>Nodes</b> <br> How many nodes are used? </font>"
      }
     },
     "b1096b2f196b4781b8564b42d24ad33e": {
      "model_module": "@jupyter-widgets/controls",
      "model_module_version": "1.5.0",
      "model_name": "ButtonModel",
      "state": {
       "description": "click me to raise an exception",
       "layout": "IPY_MODEL_0c72cd2e740f4de899364f22c333ac3e",
       "style": "IPY_MODEL_a342749f129647318d69256044688b47"
      }
     },
     "b1894b13bafe40babdefc54454782f55": {
      "model_module": "@jupyter-widgets/controls",
      "model_module_version": "1.5.0",
      "model_name": "DropdownModel",
      "state": {
       "_options_labels": [
        "Frontier",
        "Summit",
        "Andes"
       ],
       "index": 0,
       "layout": "IPY_MODEL_685e99ff3465495483e3ae6a3ae38029",
       "style": "IPY_MODEL_72e7bb0bff4b47d193efc48bfe10b085"
      }
     },
     "b1d0c19407084f26a50fd4654665052d": {
      "model_module": "@jupyter-widgets/base",
      "model_module_version": "1.2.0",
      "model_name": "LayoutModel",
      "state": {}
     },
     "b24cae235fad40a0ade546a02ffa7e25": {
      "model_module": "@jupyter-widgets/controls",
      "model_module_version": "1.5.0",
      "model_name": "HTMLModel",
      "state": {
       "layout": "IPY_MODEL_500d880bd9ed4074983a0bf22eff9758",
       "placeholder": "Some HTML",
       "style": "IPY_MODEL_ecd01eeb749a44099547bf87931a1054",
       "value": "<font size=3.5> <b>Threads Per Proc</b> <br> How many threads per process do you want to use? Note that SLURM currently only supports jobs which use the same number of processor per process. </font>"
      }
     },
     "b304fa757dad4126a095d5b2b5a5c86c": {
      "model_module": "@jupyter-widgets/base",
      "model_module_version": "1.2.0",
      "model_name": "LayoutModel",
      "state": {}
     },
     "b34a48b53eca4e55a4dfb220d791d790": {
      "model_module": "@jupyter-widgets/controls",
      "model_module_version": "1.5.0",
      "model_name": "HTMLModel",
      "state": {
       "layout": "IPY_MODEL_2ee4b935272644a18e75472b3eda44f6",
       "placeholder": "Some HTML",
       "style": "IPY_MODEL_684c973fb56e40f7a1f4a78c0e7682cc",
       "value": "<font size=3.5> <b>Procs Per Node</b> <br> How many processes, e.g. MPI ranks per node, do you want to use? </font>"
      }
     },
     "b3b7d3da9a5047e8ab4324221e507dc6": {
      "model_module": "@jupyter-widgets/controls",
      "model_module_version": "1.5.0",
      "model_name": "DescriptionStyleModel",
      "state": {
       "description_width": ""
      }
     },
     "b3f46a3cd8d742b4afd4419db3f7d61c": {
      "model_module": "@jupyter-widgets/base",
      "model_module_version": "1.2.0",
      "model_name": "LayoutModel",
      "state": {}
     },
     "b49f9b8415a14b14871881b6ef1da454": {
      "model_module": "@jupyter-widgets/base",
      "model_module_version": "1.2.0",
      "model_name": "LayoutModel",
      "state": {}
     },
     "b4d0ea46009e474eb30ca0e604a9d0d1": {
      "model_module": "@jupyter-widgets/base",
      "model_module_version": "1.2.0",
      "model_name": "LayoutModel",
      "state": {}
     },
     "b4d93e1e57fe4b10878a94a49746266d": {
      "model_module": "@jupyter-widgets/controls",
      "model_module_version": "1.5.0",
      "model_name": "HTMLModel",
      "state": {
       "layout": "IPY_MODEL_3bc60281e48041128651f0ef37405623",
       "placeholder": "Some HTML",
       "style": "IPY_MODEL_f6b448f3c9314bb3bda441ef96580ab0",
       "value": "<font size=3.5> <b>Procs Per Node</b> <br> How many processes, e.g. MPI ranks per node, do you want to use? </font>"
      }
     },
     "b5b2143d209946209e6c462669d22df4": {
      "model_module": "@jupyter-widgets/controls",
      "model_module_version": "1.5.0",
      "model_name": "DescriptionStyleModel",
      "state": {
       "description_width": ""
      }
     },
     "b645badced7b49ec8e57e25cace684b8": {
      "model_module": "@jupyter-widgets/controls",
      "model_module_version": "1.5.0",
      "model_name": "DescriptionStyleModel",
      "state": {
       "description_width": ""
      }
     },
     "b789a45bfa75495d8210414c4274a4f2": {
      "model_module": "@jupyter-widgets/controls",
      "model_module_version": "1.5.0",
      "model_name": "DescriptionStyleModel",
      "state": {
       "description_width": ""
      }
     },
     "b7b9ddd684194fdda4abb37f956ff29a": {
      "model_module": "@jupyter-widgets/controls",
      "model_module_version": "1.5.0",
      "model_name": "HTMLModel",
      "state": {
       "layout": "IPY_MODEL_d7109b8bac83484181f802c6b136e19e",
       "placeholder": "Some HTML",
       "style": "IPY_MODEL_b896716e6df94064acf5e15df620a5dd",
       "value": "<font size=3.5> <b>Nodes</b> <br> How many nodes are used? </font>"
      }
     },
     "b7f19a892cb44c75bab1640a8f68e048": {
      "model_module": "@jupyter-widgets/controls",
      "model_module_version": "1.5.0",
      "model_name": "DescriptionStyleModel",
      "state": {
       "description_width": ""
      }
     },
     "b86ff54101274324bc38aac045fbc032": {
      "model_module": "@jupyter-widgets/base",
      "model_module_version": "1.2.0",
      "model_name": "LayoutModel",
      "state": {}
     },
     "b871921d2423493e869d041b085b902c": {
      "model_module": "@jupyter-widgets/base",
      "model_module_version": "1.2.0",
      "model_name": "LayoutModel",
      "state": {}
     },
     "b88aee58e2d840d4a116da4d8446e7cc": {
      "model_module": "@jupyter-widgets/output",
      "model_module_version": "1.0.0",
      "model_name": "OutputModel",
      "state": {
       "layout": "IPY_MODEL_f921d827dea1439195bd4207208681ab",
       "outputs": [
        {
         "name": "stdout",
         "output_type": "stream",
         "text": "This is about to explode\nsrun -np 7 -nn 7 my_app.exe\n"
        }
       ]
      }
     },
     "b896716e6df94064acf5e15df620a5dd": {
      "model_module": "@jupyter-widgets/controls",
      "model_module_version": "1.5.0",
      "model_name": "DescriptionStyleModel",
      "state": {
       "description_width": ""
      }
     },
     "b91f3e08da644d66a6511eb6cc05cdbc": {
      "model_module": "@jupyter-widgets/controls",
      "model_module_version": "1.5.0",
      "model_name": "DescriptionStyleModel",
      "state": {
       "description_width": ""
      }
     },
     "b98c9f26eb7047059a20e9d92809f847": {
      "model_module": "@jupyter-widgets/controls",
      "model_module_version": "1.5.0",
      "model_name": "DescriptionStyleModel",
      "state": {
       "description_width": ""
      }
     },
     "ba17728246d1448b8f8b783c68b7c2fd": {
      "model_module": "@jupyter-widgets/controls",
      "model_module_version": "1.5.0",
      "model_name": "TextModel",
      "state": {
       "layout": "IPY_MODEL_09ec637597f54ebea18f2f39d8e44b88",
       "placeholder": "Type something",
       "style": "IPY_MODEL_526cc042b5a44fe4a532a02db6a778b8",
       "value": "my_app.exe"
      }
     },
     "bb057c5cb6ee4251b291c136f24b7a55": {
      "model_module": "@jupyter-widgets/controls",
      "model_module_version": "1.5.0",
      "model_name": "HTMLModel",
      "state": {
       "layout": "IPY_MODEL_ff4325aacefc4f3cbbb420009981779c",
       "placeholder": "Some HTML",
       "style": "IPY_MODEL_505f7a5c2a60495993afc779a6a66b5a",
       "value": "<font size=3.5> <b>Nodes</b> <br> How many nodes are used? </font>"
      }
     },
     "bb25cdd495594e3f91b0b7703a3e5825": {
      "model_module": "@jupyter-widgets/controls",
      "model_module_version": "1.5.0",
      "model_name": "DescriptionStyleModel",
      "state": {
       "description_width": ""
      }
     },
     "bc92986895bf497b93da3ac1bd6b0cc8": {
      "model_module": "@jupyter-widgets/controls",
      "model_module_version": "1.5.0",
      "model_name": "DescriptionStyleModel",
      "state": {
       "description_width": ""
      }
     },
     "bceb682cc04340be9ac277cdccd255c3": {
      "model_module": "@jupyter-widgets/controls",
      "model_module_version": "1.5.0",
      "model_name": "DescriptionStyleModel",
      "state": {
       "description_width": ""
      }
     },
     "bd15a5ce8d6e41de9e44c860209703e5": {
      "model_module": "@jupyter-widgets/controls",
      "model_module_version": "1.5.0",
      "model_name": "DescriptionStyleModel",
      "state": {
       "description_width": ""
      }
     },
     "bd9f4e0a195344e4b633ef35c52662ff": {
      "model_module": "@jupyter-widgets/controls",
      "model_module_version": "1.5.0",
      "model_name": "HTMLModel",
      "state": {
       "layout": "IPY_MODEL_130d4da528034f2e91fd68e6a50eb193",
       "placeholder": "Some HTML",
       "style": "IPY_MODEL_9e6a8f5392a74207843383b8b0ba1a77",
       "value": "<font size=3.5> <b>Threads Per Proc</b> <br> How many threads per process do you want to use? Note that SLURM currently only supports jobs which use the same number of processor per process. </font>"
      }
     },
     "bdc032a84efb44e288aa34a5d9d9a13f": {
      "model_module": "@jupyter-widgets/controls",
      "model_module_version": "1.5.0",
      "model_name": "DescriptionStyleModel",
      "state": {
       "description_width": ""
      }
     },
     "bdf541f1030a4aa49aefb90c7b5b264c": {
      "model_module": "@jupyter-widgets/controls",
      "model_module_version": "1.5.0",
      "model_name": "DropdownModel",
      "state": {
       "_options_labels": [
        "Frontier",
        "Summit",
        "Andes"
       ],
       "index": 0,
       "layout": "IPY_MODEL_0bea0b4d62e040a794125902997073d9",
       "style": "IPY_MODEL_ddbb07c28fb944c69586af81208b89d8"
      }
     },
     "be17885f70b546b5b0b77414d2fb0565": {
      "model_module": "@jupyter-widgets/controls",
      "model_module_version": "1.5.0",
      "model_name": "DescriptionStyleModel",
      "state": {
       "description_width": ""
      }
     },
     "be3ab5bae05c491aab9f3a505d15572e": {
      "model_module": "@jupyter-widgets/output",
      "model_module_version": "1.0.0",
      "model_name": "OutputModel",
      "state": {
       "layout": "IPY_MODEL_50e7dec457654c479023e1f41a512411",
       "outputs": [
        {
         "name": "stdout",
         "output_type": "stream",
         "text": "#!/bin/bash\n#SBATCH -N 7\n#SBATCH -q debug\n#SBATCH -J my_job\n#SBATCH --mail-user= my_email@address.com\n#SBATCH --mail-type=ALL\n#SBATCH -t 00:01:00\nsrun -n 7 -c 7 my_app.exe\n"
        }
       ]
      }
     },
     "be6c6f8edd7e43f7b036969a2b5d9229": {
      "model_module": "@jupyter-widgets/base",
      "model_module_version": "1.2.0",
      "model_name": "LayoutModel",
      "state": {}
     },
     "bf3735f804d3444d9ccbbc4f96561227": {
      "model_module": "@jupyter-widgets/controls",
      "model_module_version": "1.5.0",
      "model_name": "TextModel",
      "state": {
       "layout": "IPY_MODEL_b304fa757dad4126a095d5b2b5a5c86c",
       "placeholder": "Type something",
       "style": "IPY_MODEL_9550527669e1443ebc5317a6fbab2d3a",
       "value": "my_email@address.com"
      }
     },
     "bf6e34ff40584d5e88eb754fc63baef8": {
      "model_module": "@jupyter-widgets/base",
      "model_module_version": "1.2.0",
      "model_name": "LayoutModel",
      "state": {}
     },
     "bf8d8ec3e1a24211afcd1dbb42f9e751": {
      "model_module": "@jupyter-widgets/base",
      "model_module_version": "1.2.0",
      "model_name": "LayoutModel",
      "state": {}
     },
     "c05b698fabac4a1a9bf8b5fa791b2551": {
      "model_module": "@jupyter-widgets/controls",
      "model_module_version": "1.5.0",
      "model_name": "TextModel",
      "state": {
       "layout": "IPY_MODEL_fc97ba7ff7154d88bf95309a35e12fe5",
       "placeholder": "Type something",
       "style": "IPY_MODEL_56f7ecead0244daead7f5537329a7772",
       "value": "00:01:00"
      }
     },
     "c1115e2ee90f4fb192d0a708a21d7d2f": {
      "model_module": "@jupyter-widgets/base",
      "model_module_version": "1.2.0",
      "model_name": "LayoutModel",
      "state": {}
     },
     "c139ff0025eb4b63b01637718d821eed": {
      "model_module": "@jupyter-widgets/controls",
      "model_module_version": "1.5.0",
      "model_name": "TextModel",
      "state": {
       "layout": "IPY_MODEL_843373ac2d984de5873ff7db63b20559",
       "placeholder": "Type something",
       "style": "IPY_MODEL_a499a92232304116b0637573ac6820e6",
       "value": "my_app.exe"
      }
     },
     "c1e1cbc59a0f409aa5968f7fb95747e5": {
      "model_module": "@jupyter-widgets/base",
      "model_module_version": "1.2.0",
      "model_name": "LayoutModel",
      "state": {}
     },
     "c23e1a6b6012497da54fab417ae0e665": {
      "model_module": "@jupyter-widgets/controls",
      "model_module_version": "1.5.0",
      "model_name": "DescriptionStyleModel",
      "state": {
       "description_width": ""
      }
     },
     "c2fcc4a3a6254b64bf0482ef422f86c7": {
      "model_module": "@jupyter-widgets/base",
      "model_module_version": "1.2.0",
      "model_name": "LayoutModel",
      "state": {}
     },
     "c306faffbf7b4ec99e4d861c498a05b2": {
      "model_module": "@jupyter-widgets/base",
      "model_module_version": "1.2.0",
      "model_name": "LayoutModel",
      "state": {}
     },
     "c347391f4b094b42ac46b334c12f76b1": {
      "model_module": "@jupyter-widgets/controls",
      "model_module_version": "1.5.0",
      "model_name": "HTMLModel",
      "state": {
       "layout": "IPY_MODEL_89441e24781945a1b8f6ecdbce3c50a3",
       "placeholder": "Some HTML",
       "style": "IPY_MODEL_b91f3e08da644d66a6511eb6cc05cdbc",
       "value": "<font size=3.5> <b>Nodes</b> <br> How many nodes are used? </font>"
      }
     },
     "c34d65302072467495e43b6cac0e1fdd": {
      "model_module": "@jupyter-widgets/controls",
      "model_module_version": "1.5.0",
      "model_name": "HTMLModel",
      "state": {
       "layout": "IPY_MODEL_319086a574434fe4b8d28fb062c2e204",
       "placeholder": "Some HTML",
       "style": "IPY_MODEL_e610163b801a42a38061177cdb744c60",
       "value": "<font size=3.5> <b>Procs Per Node</b> <br> How many processes, e.g. MPI ranks per node, do you want to use? </font>"
      }
     },
     "c3bb0eba78b945388a67cc8101a8b55c": {
      "model_module": "@jupyter-widgets/base",
      "model_module_version": "1.2.0",
      "model_name": "LayoutModel",
      "state": {
       "border": "1px solid black"
      }
     },
     "c4637444775e4ff5a4a09ccd3e8786f7": {
      "model_module": "@jupyter-widgets/base",
      "model_module_version": "1.2.0",
      "model_name": "LayoutModel",
      "state": {}
     },
     "c5cc9716453f495386be75649de2eefd": {
      "model_module": "@jupyter-widgets/controls",
      "model_module_version": "1.5.0",
      "model_name": "HTMLModel",
      "state": {
       "layout": "IPY_MODEL_1a00f7be85f043eb89f773d6da290074",
       "placeholder": "Some HTML",
       "style": "IPY_MODEL_f076a76efc6c43c09bd47eb228118514",
       "value": "<font size=3.5> <b>Procs Per Node</b> <br> How many processes, e.g. MPI ranks per node, do you want to use? </font>"
      }
     },
     "c60510b1dc674a8fb0b7ff88f846a626": {
      "model_module": "@jupyter-widgets/controls",
      "model_module_version": "1.5.0",
      "model_name": "HTMLModel",
      "state": {
       "layout": "IPY_MODEL_f7fd5f5bfc2149c982164472943f6c0d",
       "placeholder": "Some HTML",
       "style": "IPY_MODEL_316ac926947f45199a0eefe211afaeef",
       "value": "<font size=3.5> <b>Nodes</b> <br> How many nodes are used? </font>"
      }
     },
     "c62db7f0b55e4c0998d7739aa13d44ab": {
      "model_module": "@jupyter-widgets/controls",
      "model_module_version": "1.5.0",
      "model_name": "ButtonStyleModel",
      "state": {}
     },
     "c64fa37f1c054bb1b5ba89fba163c09a": {
      "model_module": "@jupyter-widgets/base",
      "model_module_version": "1.2.0",
      "model_name": "LayoutModel",
      "state": {}
     },
     "c65e3e69006e44ab988dce226b8cfe42": {
      "model_module": "@jupyter-widgets/base",
      "model_module_version": "1.2.0",
      "model_name": "LayoutModel",
      "state": {}
     },
     "c697d601defd4101a34c6ba7582b5643": {
      "model_module": "@jupyter-widgets/base",
      "model_module_version": "1.2.0",
      "model_name": "LayoutModel",
      "state": {
       "width": "300px"
      }
     },
     "c757219020f345b98b4930613cea1727": {
      "model_module": "@jupyter-widgets/base",
      "model_module_version": "1.2.0",
      "model_name": "LayoutModel",
      "state": {}
     },
     "c7f1c258f025467bb886bb3abc9913be": {
      "model_module": "@jupyter-widgets/base",
      "model_module_version": "1.2.0",
      "model_name": "LayoutModel",
      "state": {}
     },
     "c83c80b9d5794bbdaf19b22f5ebe00f6": {
      "model_module": "@jupyter-widgets/base",
      "model_module_version": "1.2.0",
      "model_name": "LayoutModel",
      "state": {}
     },
     "c88b7384e9da4880bbf82a91c9fa029d": {
      "model_module": "@jupyter-widgets/base",
      "model_module_version": "1.2.0",
      "model_name": "LayoutModel",
      "state": {}
     },
     "ca4761690f454d54b36b38675cf43a41": {
      "model_module": "@jupyter-widgets/base",
      "model_module_version": "1.2.0",
      "model_name": "LayoutModel",
      "state": {}
     },
     "caaa12f5ee8c4a7498e50b12e2dd7e53": {
      "model_module": "@jupyter-widgets/base",
      "model_module_version": "1.2.0",
      "model_name": "LayoutModel",
      "state": {}
     },
     "cb687062af6d49e08cafaffb271c1162": {
      "model_module": "@jupyter-widgets/controls",
      "model_module_version": "1.5.0",
      "model_name": "HTMLModel",
      "state": {
       "layout": "IPY_MODEL_6ce94f1fd4474a6cb5531707ad813e4a",
       "placeholder": "Some HTML",
       "style": "IPY_MODEL_0a737e2895b74a0099b989d01415f3ec",
       "value": "<font size=3.5> <b>Threads Per Proc</b> <br> How many threads per process do you want to use? Note that SLURM currently only supports jobs which use the same number of processor per process. </font>"
      }
     },
     "cb9d3719b555485d8af472bc8ad892ac": {
      "model_module": "@jupyter-widgets/controls",
      "model_module_version": "1.5.0",
      "model_name": "HTMLModel",
      "state": {
       "layout": "IPY_MODEL_7d1c7b53d3884771a7702ba76397ace8",
       "placeholder": "Some HTML",
       "style": "IPY_MODEL_daa04fb76ec6402ab35c19ae3ccb573b",
       "value": "<font size=3.5> <b>Nodes</b> <br> How many nodes are used? </font>"
      }
     },
     "cc59aaa83ed84e7483a2075ed613acb7": {
      "model_module": "@jupyter-widgets/controls",
      "model_module_version": "1.5.0",
      "model_name": "DescriptionStyleModel",
      "state": {
       "description_width": ""
      }
     },
     "ccbedb41a95a497789cbecbe4c6d6e0b": {
      "model_module": "@jupyter-widgets/controls",
      "model_module_version": "1.5.0",
      "model_name": "DescriptionStyleModel",
      "state": {
       "description_width": ""
      }
     },
     "cccb255d3ab84ab7bbfd6030aecd2f1f": {
      "model_module": "@jupyter-widgets/controls",
      "model_module_version": "1.5.0",
      "model_name": "HTMLModel",
      "state": {
       "layout": "IPY_MODEL_7eb7447d8112479b9452e59fdbe49bd5",
       "placeholder": "Some HTML",
       "style": "IPY_MODEL_f34828ebfe5b4d4b99bf67e6500bc814",
       "value": "<font size=3.5> <b>Wall Clock Time</b> <br> Specify the duration of the job. </font>"
      }
     },
     "cd0384249c55440d94d2bac478a20148": {
      "model_module": "@jupyter-widgets/controls",
      "model_module_version": "1.5.0",
      "model_name": "DescriptionStyleModel",
      "state": {
       "description_width": ""
      }
     },
     "cd1a94e89c35499989d3d5236b2d814b": {
      "model_module": "@jupyter-widgets/controls",
      "model_module_version": "1.5.0",
      "model_name": "DescriptionStyleModel",
      "state": {
       "description_width": ""
      }
     },
     "cd5d5ee79b4547f7a9534159fa3b82b7": {
      "model_module": "@jupyter-widgets/controls",
      "model_module_version": "1.5.0",
      "model_name": "HTMLModel",
      "state": {
       "layout": "IPY_MODEL_bf8d8ec3e1a24211afcd1dbb42f9e751",
       "placeholder": "Some HTML",
       "style": "IPY_MODEL_e8ad9ec2104b4e9a9e4e77a5f58e8d50",
       "value": "<font size=3.5> <b>Application Name</b> <br> Specify your application including the full path. </font>"
      }
     },
     "ce01ca0644ae47929d87303de74f3edc": {
      "model_module": "@jupyter-widgets/base",
      "model_module_version": "1.2.0",
      "model_name": "LayoutModel",
      "state": {}
     },
     "ce3fec591d3e4af5b63085be22ebc729": {
      "model_module": "@jupyter-widgets/controls",
      "model_module_version": "1.5.0",
      "model_name": "DescriptionStyleModel",
      "state": {
       "description_width": ""
      }
     },
     "cf12576fba4540eaaa1dc1dd0679e27b": {
      "model_module": "@jupyter-widgets/base",
      "model_module_version": "1.2.0",
      "model_name": "LayoutModel",
      "state": {}
     },
     "cf69e8d4d75d4355be50939de81df288": {
      "model_module": "@jupyter-widgets/controls",
      "model_module_version": "1.5.0",
      "model_name": "DescriptionStyleModel",
      "state": {
       "description_width": ""
      }
     },
     "cfd63e9924aa4e09b51db815cd8a9ec6": {
      "model_module": "@jupyter-widgets/base",
      "model_module_version": "1.2.0",
      "model_name": "LayoutModel",
      "state": {}
     },
     "d01154b33e094a799152ac912f6a9c5b": {
      "model_module": "@jupyter-widgets/controls",
      "model_module_version": "1.5.0",
      "model_name": "DescriptionStyleModel",
      "state": {
       "description_width": ""
      }
     },
     "d01a9c64014f4e65a2bbab0e3e20fe66": {
      "model_module": "@jupyter-widgets/controls",
      "model_module_version": "1.5.0",
      "model_name": "HTMLModel",
      "state": {
       "layout": "IPY_MODEL_f0ae7c0a6015483e8e78c6113fd6090a",
       "placeholder": "Some HTML",
       "style": "IPY_MODEL_e0e2b6451e6a47f1a6c7cef6990501de",
       "value": "<font size=3.5> <b>System Name</b> <br> Select the system on which you want to submit your job. </font>"
      }
     },
     "d06903e6498f474ebd44dd566e29f986": {
      "model_module": "@jupyter-widgets/base",
      "model_module_version": "1.2.0",
      "model_name": "LayoutModel",
      "state": {}
     },
     "d098c91a6fe44501a9f6b802dfa721d1": {
      "model_module": "@jupyter-widgets/controls",
      "model_module_version": "1.5.0",
      "model_name": "TextModel",
      "state": {
       "layout": "IPY_MODEL_7c3eb7c186f949bdbf862c40b50203b6",
       "placeholder": "Type something",
       "style": "IPY_MODEL_be17885f70b546b5b0b77414d2fb0565",
       "value": "my_job"
      }
     },
     "d10d20f42fca47c99ff0ffe4c662412f": {
      "model_module": "@jupyter-widgets/controls",
      "model_module_version": "1.5.0",
      "model_name": "DescriptionStyleModel",
      "state": {
       "description_width": ""
      }
     },
     "d135d4afd2df4eb5a23cc99c7ea9e9ee": {
      "model_module": "@jupyter-widgets/base",
      "model_module_version": "1.2.0",
      "model_name": "LayoutModel",
      "state": {}
     },
     "d17698f9bf4542d8a6a18d41da0edab8": {
      "model_module": "@jupyter-widgets/controls",
      "model_module_version": "1.5.0",
      "model_name": "DescriptionStyleModel",
      "state": {
       "description_width": ""
      }
     },
     "d1b6dc453fc244538d2718d8d792d2f3": {
      "model_module": "@jupyter-widgets/base",
      "model_module_version": "1.2.0",
      "model_name": "LayoutModel",
      "state": {}
     },
     "d1d18369e53741f5b84a2fbb0adbac64": {
      "model_module": "@jupyter-widgets/controls",
      "model_module_version": "1.5.0",
      "model_name": "DescriptionStyleModel",
      "state": {
       "description_width": ""
      }
     },
     "d1e88bdfe8904e7ebb00932df9c65ffe": {
      "model_module": "@jupyter-widgets/base",
      "model_module_version": "1.2.0",
      "model_name": "LayoutModel",
      "state": {}
     },
     "d212b637f22546428382400e81d417ca": {
      "model_module": "@jupyter-widgets/controls",
      "model_module_version": "1.5.0",
      "model_name": "DescriptionStyleModel",
      "state": {
       "description_width": ""
      }
     },
     "d29fa864d3f841849e62424d296fa44c": {
      "model_module": "@jupyter-widgets/controls",
      "model_module_version": "1.5.0",
      "model_name": "DescriptionStyleModel",
      "state": {
       "description_width": ""
      }
     },
     "d303b6f91c2a4d919d817ddcee2c33ae": {
      "model_module": "@jupyter-widgets/controls",
      "model_module_version": "1.5.0",
      "model_name": "HTMLModel",
      "state": {
       "layout": "IPY_MODEL_2757e394f6b3433b8b115bb4b6b82e78",
       "placeholder": "Some HTML",
       "style": "IPY_MODEL_3b2a59660f7d4880b4a93c3ce928bcb8",
       "value": "<font size=3.5> <b>Email Address</b> <br> Specify your email address to get notified when the job enters a certain state. </font>"
      }
     },
     "d37b608bd6eb497ebf3413438ce4ebbd": {
      "model_module": "@jupyter-widgets/controls",
      "model_module_version": "1.5.0",
      "model_name": "HTMLModel",
      "state": {
       "layout": "IPY_MODEL_07a33dcb255647c3a7ec27ed73362727",
       "placeholder": "Some HTML",
       "style": "IPY_MODEL_5bea852d63e348268aa118f21a12e48b",
       "value": "<font size=3.5> <b>System Name</b> <br> Select the system on which you want to submit your job. </font>"
      }
     },
     "d3dde8aa16ea489fadfd9d5e452ab5dc": {
      "model_module": "@jupyter-widgets/controls",
      "model_module_version": "1.5.0",
      "model_name": "BoundedIntTextModel",
      "state": {
       "layout": "IPY_MODEL_9e2def1869a142c0b9bd6b700231870f",
       "max": 10,
       "style": "IPY_MODEL_339ae2f0a8d241659e7ae2704c8d7d9e",
       "value": 7
      }
     },
     "d3f7b53686c1478499b6fc23765cde11": {
      "model_module": "@jupyter-widgets/base",
      "model_module_version": "1.2.0",
      "model_name": "LayoutModel",
      "state": {}
     },
     "d435f84036924a48b70965be2af56b1b": {
      "model_module": "@jupyter-widgets/base",
      "model_module_version": "1.2.0",
      "model_name": "LayoutModel",
      "state": {}
     },
     "d4d1c89fe964455f875ee7ede74eebbf": {
      "model_module": "@jupyter-widgets/controls",
      "model_module_version": "1.5.0",
      "model_name": "HTMLModel",
      "state": {
       "layout": "IPY_MODEL_69b318fd7ea34d66b0eccf9e41bcd420",
       "placeholder": "Some HTML",
       "style": "IPY_MODEL_d904ca7826c24521a2342515b2f78e04",
       "value": "<font size=3.5> <b>Procs Per Node</b> <br> How many processes, e.g. MPI ranks per node, do you want to use? </font>"
      }
     },
     "d4dbd934cb09410a84f51f46a744b873": {
      "model_module": "@jupyter-widgets/controls",
      "model_module_version": "1.5.0",
      "model_name": "DescriptionStyleModel",
      "state": {
       "description_width": ""
      }
     },
     "d670508e2d6745a1a2c4fc16d99ff03a": {
      "model_module": "@jupyter-widgets/controls",
      "model_module_version": "1.5.0",
      "model_name": "DescriptionStyleModel",
      "state": {
       "description_width": ""
      }
     },
     "d67763b24e174c559ac76b195baa93ff": {
      "model_module": "@jupyter-widgets/controls",
      "model_module_version": "1.5.0",
      "model_name": "BoundedIntTextModel",
      "state": {
       "layout": "IPY_MODEL_cfd63e9924aa4e09b51db815cd8a9ec6",
       "max": 10,
       "style": "IPY_MODEL_af30dd0b40e84f18b3ab1981f5365d23",
       "value": 7
      }
     },
     "d690a203858642239e03b1ef4d9054c0": {
      "model_module": "@jupyter-widgets/base",
      "model_module_version": "1.2.0",
      "model_name": "LayoutModel",
      "state": {}
     },
     "d7109b8bac83484181f802c6b136e19e": {
      "model_module": "@jupyter-widgets/base",
      "model_module_version": "1.2.0",
      "model_name": "LayoutModel",
      "state": {}
     },
     "d727ed23963544f984d1c18b4006c4a2": {
      "model_module": "@jupyter-widgets/controls",
      "model_module_version": "1.5.0",
      "model_name": "HTMLModel",
      "state": {
       "layout": "IPY_MODEL_3068e8fff78e4506877640922b4f9770",
       "placeholder": "Some HTML",
       "style": "IPY_MODEL_8ecdbbb8c37642fa9a4cd3f541af0b5c",
       "value": "<font size=3.5> <b>Nodes</b> <br> How many nodes are used? </font>"
      }
     },
     "d764b620a26a468f8facc72c2c041379": {
      "model_module": "@jupyter-widgets/controls",
      "model_module_version": "1.5.0",
      "model_name": "DropdownModel",
      "state": {
       "_options_labels": [
        "Frontier",
        "Summit",
        "Andes"
       ],
       "index": 0,
       "layout": "IPY_MODEL_96d3782b041f48578a573a285ea757fc",
       "style": "IPY_MODEL_bceb682cc04340be9ac277cdccd255c3"
      }
     },
     "d7cef4c6f6ea4d97a404f5acb75d0cd7": {
      "model_module": "@jupyter-widgets/controls",
      "model_module_version": "1.5.0",
      "model_name": "DescriptionStyleModel",
      "state": {
       "description_width": ""
      }
     },
     "d7d574d7c3d64c5090950114442d657e": {
      "model_module": "@jupyter-widgets/controls",
      "model_module_version": "1.5.0",
      "model_name": "DescriptionStyleModel",
      "state": {
       "description_width": ""
      }
     },
     "d82a3fa0d0544f2688f389b37d2ea84d": {
      "model_module": "@jupyter-widgets/base",
      "model_module_version": "1.2.0",
      "model_name": "LayoutModel",
      "state": {
       "border": "1px solid black"
      }
     },
     "d8f0da292c34422c980f09e5ae45521d": {
      "model_module": "@jupyter-widgets/controls",
      "model_module_version": "1.5.0",
      "model_name": "DescriptionStyleModel",
      "state": {
       "description_width": ""
      }
     },
     "d904ca7826c24521a2342515b2f78e04": {
      "model_module": "@jupyter-widgets/controls",
      "model_module_version": "1.5.0",
      "model_name": "DescriptionStyleModel",
      "state": {
       "description_width": ""
      }
     },
     "daa04fb76ec6402ab35c19ae3ccb573b": {
      "model_module": "@jupyter-widgets/controls",
      "model_module_version": "1.5.0",
      "model_name": "DescriptionStyleModel",
      "state": {
       "description_width": ""
      }
     },
     "dae259846050455dba9696d19a4a6c97": {
      "model_module": "@jupyter-widgets/controls",
      "model_module_version": "1.5.0",
      "model_name": "DescriptionStyleModel",
      "state": {
       "description_width": ""
      }
     },
     "dbd4fe5b65594952aa67c0f4221b63a2": {
      "model_module": "@jupyter-widgets/controls",
      "model_module_version": "1.5.0",
      "model_name": "HTMLModel",
      "state": {
       "layout": "IPY_MODEL_b871921d2423493e869d041b085b902c",
       "placeholder": "Some HTML",
       "style": "IPY_MODEL_1669f2a68e9b427a8937644e9ed8809c",
       "value": "<font size=3.5> <b>Wall Clock Time</b> <br> Specify the duration of the job. </font>"
      }
     },
     "dbff7c05f8034ecfba3277abb40608ce": {
      "model_module": "@jupyter-widgets/base",
      "model_module_version": "1.2.0",
      "model_name": "LayoutModel",
      "state": {}
     },
     "dd0b2e5d8aff414eb354e90c2b824626": {
      "model_module": "@jupyter-widgets/controls",
      "model_module_version": "1.5.0",
      "model_name": "TextModel",
      "state": {
       "layout": "IPY_MODEL_53132e784a614d999124817127ccfb19",
       "placeholder": "Type something",
       "style": "IPY_MODEL_5d5c3b129a5647cf8ca9b9397e4f4a29",
       "value": "my_email@address.com"
      }
     },
     "dd3d74f023c84b1aa67aafe12d1c2142": {
      "model_module": "@jupyter-widgets/base",
      "model_module_version": "1.2.0",
      "model_name": "LayoutModel",
      "state": {}
     },
     "dd810041730d489ba730162cfafede0a": {
      "model_module": "@jupyter-widgets/base",
      "model_module_version": "1.2.0",
      "model_name": "LayoutModel",
      "state": {
       "width": "300px"
      }
     },
     "dda02721488e439da04d598d984389f5": {
      "model_module": "@jupyter-widgets/controls",
      "model_module_version": "1.5.0",
      "model_name": "DescriptionStyleModel",
      "state": {
       "description_width": ""
      }
     },
     "ddbb07c28fb944c69586af81208b89d8": {
      "model_module": "@jupyter-widgets/controls",
      "model_module_version": "1.5.0",
      "model_name": "DescriptionStyleModel",
      "state": {
       "description_width": ""
      }
     },
     "de7f5c7e50f64a4eac4192c161d5b47b": {
      "model_module": "@jupyter-widgets/controls",
      "model_module_version": "1.5.0",
      "model_name": "HTMLModel",
      "state": {
       "layout": "IPY_MODEL_bf6e34ff40584d5e88eb754fc63baef8",
       "placeholder": "Some HTML",
       "style": "IPY_MODEL_a04f636a891a4b178cd2dfaaaa283975",
       "value": "<font size=3.5> <b>Procs Per Node</b> <br> How many processes, e.g. MPI ranks per node, do you want to use? </font>"
      }
     },
     "dee2edd445814b6abaf1ea875bd36c84": {
      "model_module": "@jupyter-widgets/controls",
      "model_module_version": "1.5.0",
      "model_name": "TextModel",
      "state": {
       "layout": "IPY_MODEL_0405f37023994b84931283876356433f",
       "placeholder": "Type something",
       "style": "IPY_MODEL_d10d20f42fca47c99ff0ffe4c662412f",
       "value": "my_job"
      }
     },
     "df2fb4d13ee34085bb508000e553079d": {
      "model_module": "@jupyter-widgets/output",
      "model_module_version": "1.0.0",
      "model_name": "OutputModel",
      "state": {
       "layout": "IPY_MODEL_8b3ee7b6339741988bc93992090563bb"
      }
     },
     "df321cea08974ee3890328c52734cb10": {
      "model_module": "@jupyter-widgets/controls",
      "model_module_version": "1.5.0",
      "model_name": "DescriptionStyleModel",
      "state": {
       "description_width": ""
      }
     },
     "df9f39c48d8447ce82c2262ecc75b9b0": {
      "model_module": "@jupyter-widgets/controls",
      "model_module_version": "1.5.0",
      "model_name": "DescriptionStyleModel",
      "state": {
       "description_width": ""
      }
     },
     "e0851b45fa2b4b75b05424c98fddbba2": {
      "model_module": "@jupyter-widgets/controls",
      "model_module_version": "1.5.0",
      "model_name": "BoundedIntTextModel",
      "state": {
       "layout": "IPY_MODEL_0718fa552d2240dcba3c9f4c1848eb1b",
       "max": 10,
       "style": "IPY_MODEL_91a8915c043b4598a722c65425d98576",
       "value": 7
      }
     },
     "e0b1cf3c71354a74b92848e128423b5c": {
      "model_module": "@jupyter-widgets/controls",
      "model_module_version": "1.5.0",
      "model_name": "TextModel",
      "state": {
       "layout": "IPY_MODEL_f7e2494aaa014b5cbfc49fcb2c20254c",
       "placeholder": "Type something",
       "style": "IPY_MODEL_8859a4336b884559bb1ed160281c9c82",
       "value": "00:01:00"
      }
     },
     "e0e2b6451e6a47f1a6c7cef6990501de": {
      "model_module": "@jupyter-widgets/controls",
      "model_module_version": "1.5.0",
      "model_name": "DescriptionStyleModel",
      "state": {
       "description_width": ""
      }
     },
     "e21c9dd11fc84dbd9d0ce35273e02d1d": {
      "model_module": "@jupyter-widgets/base",
      "model_module_version": "1.2.0",
      "model_name": "LayoutModel",
      "state": {}
     },
     "e236e7fc2af74b079173eda184f5faec": {
      "model_module": "@jupyter-widgets/base",
      "model_module_version": "1.2.0",
      "model_name": "LayoutModel",
      "state": {}
     },
     "e263205e2f4444148e6968681d71a0f7": {
      "model_module": "@jupyter-widgets/base",
      "model_module_version": "1.2.0",
      "model_name": "LayoutModel",
      "state": {}
     },
     "e2b9cf88f2cf4e4bbb2ddeb02c0badda": {
      "model_module": "@jupyter-widgets/controls",
      "model_module_version": "1.5.0",
      "model_name": "TextModel",
      "state": {
       "layout": "IPY_MODEL_553ca1190e3f42429967b6674ee9b205",
       "placeholder": "Type something",
       "style": "IPY_MODEL_419e970414654e30abdca0f423865e06",
       "value": "00:01:00"
      }
     },
     "e358f1d80bd74f09a9350b023a8e82be": {
      "model_module": "@jupyter-widgets/base",
      "model_module_version": "1.2.0",
      "model_name": "LayoutModel",
      "state": {}
     },
     "e3782161f3bc4a7dba2e2544ec1a22ad": {
      "model_module": "@jupyter-widgets/controls",
      "model_module_version": "1.5.0",
      "model_name": "HTMLModel",
      "state": {
       "layout": "IPY_MODEL_9abe66b58d8b4b3f851c39a546dc6ca7",
       "placeholder": "Some HTML",
       "style": "IPY_MODEL_491c25c0f8e2467f89a7e63e1b993f3f",
       "value": "<font size=3.5> <b>Email Address</b> <br> Specify your email address to get notified when the job enters a certain state. </font>"
      }
     },
     "e3c0cdd8345e484fa39004ab9484d824": {
      "model_module": "@jupyter-widgets/controls",
      "model_module_version": "1.5.0",
      "model_name": "HTMLModel",
      "state": {
       "layout": "IPY_MODEL_967cfedc580c46b0b6cce28651bdce8a",
       "placeholder": "Some HTML",
       "style": "IPY_MODEL_7e92717e2d7e4153ab6da768b6cd8d89",
       "value": "<font size=3.5> <b>Job Name</b> <br> Specify a name for your job. </font>"
      }
     },
     "e4925efbf4ed4263a84aed5fb95fb7ad": {
      "model_module": "@jupyter-widgets/controls",
      "model_module_version": "1.5.0",
      "model_name": "DescriptionStyleModel",
      "state": {
       "description_width": ""
      }
     },
     "e4ba155f3a3b48b58a9684d22ccde62a": {
      "model_module": "@jupyter-widgets/controls",
      "model_module_version": "1.5.0",
      "model_name": "DescriptionStyleModel",
      "state": {
       "description_width": ""
      }
     },
     "e541a0698a3549e39c97c0e9ee4fb219": {
      "model_module": "@jupyter-widgets/base",
      "model_module_version": "1.2.0",
      "model_name": "LayoutModel",
      "state": {}
     },
     "e610163b801a42a38061177cdb744c60": {
      "model_module": "@jupyter-widgets/controls",
      "model_module_version": "1.5.0",
      "model_name": "DescriptionStyleModel",
      "state": {
       "description_width": ""
      }
     },
     "e668e0c231a0408399a8eea0e60c3dd5": {
      "model_module": "@jupyter-widgets/controls",
      "model_module_version": "1.5.0",
      "model_name": "DescriptionStyleModel",
      "state": {
       "description_width": ""
      }
     },
     "e7ae7341f94c4e4780174b155f4cb522": {
      "model_module": "@jupyter-widgets/controls",
      "model_module_version": "1.5.0",
      "model_name": "BoundedIntTextModel",
      "state": {
       "layout": "IPY_MODEL_d1e88bdfe8904e7ebb00932df9c65ffe",
       "max": 10,
       "style": "IPY_MODEL_fd69fd011cf04f6a96f10921656aeca0",
       "value": 7
      }
     },
     "e81aaa5736084c498021660515c99a2b": {
      "model_module": "@jupyter-widgets/base",
      "model_module_version": "1.2.0",
      "model_name": "LayoutModel",
      "state": {}
     },
     "e8413531f0b64e19beefcf2eb6fd2138": {
      "model_module": "@jupyter-widgets/controls",
      "model_module_version": "1.5.0",
      "model_name": "BoundedIntTextModel",
      "state": {
       "layout": "IPY_MODEL_07e1f7739d9a4e21b625cd76095e6048",
       "max": 10,
       "style": "IPY_MODEL_69d1575673974f1d916cbff672841983",
       "value": 1
      }
     },
     "e8ad9ec2104b4e9a9e4e77a5f58e8d50": {
      "model_module": "@jupyter-widgets/controls",
      "model_module_version": "1.5.0",
      "model_name": "DescriptionStyleModel",
      "state": {
       "description_width": ""
      }
     },
     "e954f97f20f74dff9222460b5604be21": {
      "model_module": "@jupyter-widgets/controls",
      "model_module_version": "1.5.0",
      "model_name": "DescriptionStyleModel",
      "state": {
       "description_width": ""
      }
     },
     "e9a94e448abc4c21949e381215fc1b4c": {
      "model_module": "@jupyter-widgets/controls",
      "model_module_version": "1.5.0",
      "model_name": "TextModel",
      "state": {
       "layout": "IPY_MODEL_9f8f076cf34b4aaf94bb229060711f56",
       "placeholder": "Type something",
       "style": "IPY_MODEL_9aa82c3c4b16475cb8515c6ee000bc22",
       "value": "my_job"
      }
     },
     "e9af9e40b56d43b0b71c95436e852723": {
      "model_module": "@jupyter-widgets/controls",
      "model_module_version": "1.5.0",
      "model_name": "TextModel",
      "state": {
       "layout": "IPY_MODEL_5ae60960f2d341da858c3bea57209e0b",
       "placeholder": "Type something",
       "style": "IPY_MODEL_289dc27a356749e684cef06023c743f9",
       "value": "00:01:00"
      }
     },
     "ea754aed25f847fa95c0f65f1577262a": {
      "model_module": "@jupyter-widgets/base",
      "model_module_version": "1.2.0",
      "model_name": "LayoutModel",
      "state": {}
     },
     "eac219fd81284ddc9f63120845ddd6db": {
      "model_module": "@jupyter-widgets/controls",
      "model_module_version": "1.5.0",
      "model_name": "DescriptionStyleModel",
      "state": {
       "description_width": ""
      }
     },
     "eb27d083caa346a68700d44d1be534ff": {
      "model_module": "@jupyter-widgets/controls",
      "model_module_version": "1.5.0",
      "model_name": "HTMLModel",
      "state": {
       "layout": "IPY_MODEL_1c389b98d9d94689aebd762399f043d9",
       "placeholder": "Some HTML",
       "style": "IPY_MODEL_1fb664c8977d455bbe631597e04cfc16",
       "value": "<font size=3.5> <b>Threads Per Proc</b> <br> How many threads per process do you want to use? Note that SLURM currently only supports jobs which use the same number of processor per process. </font>"
      }
     },
     "eb712f4e021b487eb796aed7526baaa6": {
      "model_module": "@jupyter-widgets/controls",
      "model_module_version": "1.5.0",
      "model_name": "TextModel",
      "state": {
       "layout": "IPY_MODEL_dbff7c05f8034ecfba3277abb40608ce",
       "placeholder": "Type something",
       "style": "IPY_MODEL_a6551d5682b348d698eca3ec9eca9358",
       "value": "my_app.exe"
      }
     },
     "ebb34007ba064e39af285c5317ff0922": {
      "model_module": "@jupyter-widgets/controls",
      "model_module_version": "1.5.0",
      "model_name": "BoundedIntTextModel",
      "state": {
       "layout": "IPY_MODEL_c83c80b9d5794bbdaf19b22f5ebe00f6",
       "max": 10,
       "style": "IPY_MODEL_957c0467ce174d67b6afb8748b5343bb",
       "value": 7
      }
     },
     "ebf73171173c4aee9c1baa61e4b8c458": {
      "model_module": "@jupyter-widgets/controls",
      "model_module_version": "1.5.0",
      "model_name": "DescriptionStyleModel",
      "state": {
       "description_width": ""
      }
     },
     "ec0b0627e5864b41a5de3e4a371d8928": {
      "model_module": "@jupyter-widgets/controls",
      "model_module_version": "1.5.0",
      "model_name": "BoundedIntTextModel",
      "state": {
       "layout": "IPY_MODEL_395f9dd95d084bb991c03955ab23071c",
       "max": 10,
       "style": "IPY_MODEL_0a4891ade0fc40ea98506771126990ff",
       "value": 7
      }
     },
     "ec55d48406ba4edba357a2111f70702d": {
      "model_module": "@jupyter-widgets/base",
      "model_module_version": "1.2.0",
      "model_name": "LayoutModel",
      "state": {}
     },
     "ecd01eeb749a44099547bf87931a1054": {
      "model_module": "@jupyter-widgets/controls",
      "model_module_version": "1.5.0",
      "model_name": "DescriptionStyleModel",
      "state": {
       "description_width": ""
      }
     },
     "ed3176fa1ebe47a196f6bcfc1d802dc1": {
      "model_module": "@jupyter-widgets/controls",
      "model_module_version": "1.5.0",
      "model_name": "BoundedIntTextModel",
      "state": {
       "layout": "IPY_MODEL_4428d279d4f440d7a8da79418c88e2fc",
       "max": 10,
       "style": "IPY_MODEL_53363896a6f643928418736c35663375",
       "value": 7
      }
     },
     "ed7fbc82159a4782bc66f4639cfbdb8c": {
      "model_module": "@jupyter-widgets/controls",
      "model_module_version": "1.5.0",
      "model_name": "TextModel",
      "state": {
       "layout": "IPY_MODEL_92461cdf5ac24385ab01c822fad81179",
       "placeholder": "Type something",
       "style": "IPY_MODEL_28cc9690e4d049e49cc0abf84c13627e",
       "value": "my_job"
      }
     },
     "eecc1c06f1d8461b89f4aac9390a2c75": {
      "model_module": "@jupyter-widgets/controls",
      "model_module_version": "1.5.0",
      "model_name": "DescriptionStyleModel",
      "state": {
       "description_width": ""
      }
     },
     "eed4517c6fca40e2a0206ad86b4df78f": {
      "model_module": "@jupyter-widgets/base",
      "model_module_version": "1.2.0",
      "model_name": "LayoutModel",
      "state": {}
     },
     "ef610d3aa89d4af592cff29d44c3bcb2": {
      "model_module": "@jupyter-widgets/controls",
      "model_module_version": "1.5.0",
      "model_name": "DescriptionStyleModel",
      "state": {
       "description_width": ""
      }
     },
     "f05f1d60163e426cb3d80fd11c84a342": {
      "model_module": "@jupyter-widgets/base",
      "model_module_version": "1.2.0",
      "model_name": "LayoutModel",
      "state": {}
     },
     "f076a76efc6c43c09bd47eb228118514": {
      "model_module": "@jupyter-widgets/controls",
      "model_module_version": "1.5.0",
      "model_name": "DescriptionStyleModel",
      "state": {
       "description_width": ""
      }
     },
     "f08af21ae12245598958f169976c1af3": {
      "model_module": "@jupyter-widgets/base",
      "model_module_version": "1.2.0",
      "model_name": "LayoutModel",
      "state": {}
     },
     "f0ae7c0a6015483e8e78c6113fd6090a": {
      "model_module": "@jupyter-widgets/base",
      "model_module_version": "1.2.0",
      "model_name": "LayoutModel",
      "state": {}
     },
     "f0cb5015b183473a93702d855e81185a": {
      "model_module": "@jupyter-widgets/base",
      "model_module_version": "1.2.0",
      "model_name": "LayoutModel",
      "state": {}
     },
     "f1847229a34d4d448be11dea361306b7": {
      "model_module": "@jupyter-widgets/controls",
      "model_module_version": "1.5.0",
      "model_name": "DescriptionStyleModel",
      "state": {
       "description_width": ""
      }
     },
     "f1f2c107bf5a4c5398712e6ce9aa92d0": {
      "model_module": "@jupyter-widgets/base",
      "model_module_version": "1.2.0",
      "model_name": "LayoutModel",
      "state": {}
     },
     "f2d9c4002a9944c6b4f2b755323c5268": {
      "model_module": "@jupyter-widgets/base",
      "model_module_version": "1.2.0",
      "model_name": "LayoutModel",
      "state": {}
     },
     "f34828ebfe5b4d4b99bf67e6500bc814": {
      "model_module": "@jupyter-widgets/controls",
      "model_module_version": "1.5.0",
      "model_name": "DescriptionStyleModel",
      "state": {
       "description_width": ""
      }
     },
     "f35577c48bae4c98adb023d35aa11753": {
      "model_module": "@jupyter-widgets/controls",
      "model_module_version": "1.5.0",
      "model_name": "TextModel",
      "state": {
       "layout": "IPY_MODEL_84405d4ca2ef4b5fb9423a758bdb7bfe",
       "placeholder": "Type something",
       "style": "IPY_MODEL_8783164dd14a43eda69322c6206082c9",
       "value": "my_email@address.com"
      }
     },
     "f42b41aa019b40f680b8a9a1b8395a1e": {
      "model_module": "@jupyter-widgets/base",
      "model_module_version": "1.2.0",
      "model_name": "LayoutModel",
      "state": {}
     },
     "f44c25a6c5854d728bc613a834e30847": {
      "model_module": "@jupyter-widgets/controls",
      "model_module_version": "1.5.0",
      "model_name": "DescriptionStyleModel",
      "state": {
       "description_width": ""
      }
     },
     "f4983df30bb24c4cb6c5a1e8b0c3fc7f": {
      "model_module": "@jupyter-widgets/controls",
      "model_module_version": "1.5.0",
      "model_name": "DescriptionStyleModel",
      "state": {
       "description_width": ""
      }
     },
     "f576b6aa6f7f41259f4c36429642d887": {
      "model_module": "@jupyter-widgets/controls",
      "model_module_version": "1.5.0",
      "model_name": "BoundedIntTextModel",
      "state": {
       "layout": "IPY_MODEL_722e5e2b08cb4388a28c6b0318935262",
       "max": 10,
       "style": "IPY_MODEL_01a472875a85418a9bf04bf4be5b08be",
       "value": 7
      }
     },
     "f5c850b3d02b4b3ab5287cce37506f1a": {
      "model_module": "@jupyter-widgets/controls",
      "model_module_version": "1.5.0",
      "model_name": "TextModel",
      "state": {
       "layout": "IPY_MODEL_5b28e36aaa294fbc87f348e0681a519b",
       "placeholder": "Type something",
       "style": "IPY_MODEL_31b9376df2d346148adda011cc72c42b",
       "value": "my_job"
      }
     },
     "f5ccc6f8afd74d6cbbb35c3513d07c36": {
      "model_module": "@jupyter-widgets/controls",
      "model_module_version": "1.5.0",
      "model_name": "DescriptionStyleModel",
      "state": {
       "description_width": ""
      }
     },
     "f679f52e48914993b7c7dd030d627042": {
      "model_module": "@jupyter-widgets/controls",
      "model_module_version": "1.5.0",
      "model_name": "DescriptionStyleModel",
      "state": {
       "description_width": ""
      }
     },
     "f6b448f3c9314bb3bda441ef96580ab0": {
      "model_module": "@jupyter-widgets/controls",
      "model_module_version": "1.5.0",
      "model_name": "DescriptionStyleModel",
      "state": {
       "description_width": ""
      }
     },
     "f6c8dcc8cab8405abed3bca5aceec42f": {
      "model_module": "@jupyter-widgets/controls",
      "model_module_version": "1.5.0",
      "model_name": "ToggleButtonModel",
      "state": {
       "description": "Click me",
       "icon": "check",
       "layout": "IPY_MODEL_09365435c51949509c0f87348e9f1017",
       "style": "IPY_MODEL_9a6aebbd95f8455abe6b4f5a49fb378f",
       "tooltip": "Description"
      }
     },
     "f7acec783bf648839ac84e746dfccd5d": {
      "model_module": "@jupyter-widgets/base",
      "model_module_version": "1.2.0",
      "model_name": "LayoutModel",
      "state": {}
     },
     "f7c4c3ceb8164c0a9fc2d348e3eb606a": {
      "model_module": "@jupyter-widgets/controls",
      "model_module_version": "1.5.0",
      "model_name": "HTMLModel",
      "state": {
       "layout": "IPY_MODEL_4ff82757335c4b77be18898e7537a57e",
       "placeholder": "Some HTML",
       "style": "IPY_MODEL_7defadc1a7db41abb8dd42428af35fa0",
       "value": "<font size=3.5> <b>Email Address</b> <br> Specify your email address to get notified when the job enters a certain state. </font>"
      }
     },
     "f7e2494aaa014b5cbfc49fcb2c20254c": {
      "model_module": "@jupyter-widgets/base",
      "model_module_version": "1.2.0",
      "model_name": "LayoutModel",
      "state": {}
     },
     "f7fd5f5bfc2149c982164472943f6c0d": {
      "model_module": "@jupyter-widgets/base",
      "model_module_version": "1.2.0",
      "model_name": "LayoutModel",
      "state": {}
     },
     "f801baee800542e7a69a644f1c656409": {
      "model_module": "@jupyter-widgets/controls",
      "model_module_version": "1.5.0",
      "model_name": "HTMLModel",
      "state": {
       "layout": "IPY_MODEL_0591efe616ce461fa975398d8692afa9",
       "placeholder": "Some HTML",
       "style": "IPY_MODEL_eecc1c06f1d8461b89f4aac9390a2c75",
       "value": "<font size=3.5> <b>System Name</b> <br> Select the system on which you want to submit your job. </font>"
      }
     },
     "f80f2e7ff21a4ce4bfa981b51960750d": {
      "model_module": "@jupyter-widgets/controls",
      "model_module_version": "1.5.0",
      "model_name": "HTMLModel",
      "state": {
       "layout": "IPY_MODEL_f1f2c107bf5a4c5398712e6ce9aa92d0",
       "placeholder": "Some HTML",
       "style": "IPY_MODEL_add45b9c2d114a4b8a031407dedcc3c6",
       "value": "<font size=3.5> <b>Wall Clock Time</b> <br> Specify the duration of the job. </font>"
      }
     },
     "f87efc046bc24178bf6d127dafedde28": {
      "model_module": "@jupyter-widgets/controls",
      "model_module_version": "1.5.0",
      "model_name": "TextModel",
      "state": {
       "layout": "IPY_MODEL_59d292c19c87428fbbee660c4df165c5",
       "placeholder": "Type something",
       "style": "IPY_MODEL_cd1a94e89c35499989d3d5236b2d814b",
       "value": "my_app.exe"
      }
     },
     "f921d827dea1439195bd4207208681ab": {
      "model_module": "@jupyter-widgets/base",
      "model_module_version": "1.2.0",
      "model_name": "LayoutModel",
      "state": {
       "border": "1px solid black"
      }
     },
     "f960584291224893b6b5ef397978f21e": {
      "model_module": "@jupyter-widgets/controls",
      "model_module_version": "1.5.0",
      "model_name": "DescriptionStyleModel",
      "state": {
       "description_width": ""
      }
     },
     "fa77fd3333084bdbb29f46282981d775": {
      "model_module": "@jupyter-widgets/base",
      "model_module_version": "1.2.0",
      "model_name": "LayoutModel",
      "state": {}
     },
     "fba0408b6fb847eb806b3025249b438a": {
      "model_module": "@jupyter-widgets/controls",
      "model_module_version": "1.5.0",
      "model_name": "DescriptionStyleModel",
      "state": {
       "description_width": ""
      }
     },
     "fc0161ffb0df4b649e70aa4687df1016": {
      "model_module": "@jupyter-widgets/controls",
      "model_module_version": "1.5.0",
      "model_name": "HTMLModel",
      "state": {
       "layout": "IPY_MODEL_ffa734f94cc74cf3b40c2041d6f6bda3",
       "placeholder": "Some HTML",
       "style": "IPY_MODEL_0c86c234f26c45329ed11a3b3de98664",
       "value": "<font size=3.5> <b>Procs Per Node</b> <br> How many processes, e.g. MPI ranks per node, do you want to use? </font>"
      }
     },
     "fc97ba7ff7154d88bf95309a35e12fe5": {
      "model_module": "@jupyter-widgets/base",
      "model_module_version": "1.2.0",
      "model_name": "LayoutModel",
      "state": {}
     },
     "fd36ade82e334c8793e0b908f98b6358": {
      "model_module": "@jupyter-widgets/controls",
      "model_module_version": "1.5.0",
      "model_name": "TextModel",
      "state": {
       "layout": "IPY_MODEL_16058de52b1c478e93f0f848a83fdbad",
       "placeholder": "Type something",
       "style": "IPY_MODEL_41011aa859804c378bc1cf937c37a05f",
       "value": "my_email@address.com"
      }
     },
     "fd56d915930841fba1e4e9ed73b5b773": {
      "model_module": "@jupyter-widgets/controls",
      "model_module_version": "1.5.0",
      "model_name": "ButtonModel",
      "state": {
       "description": "Generate Script",
       "layout": "IPY_MODEL_9663e62ab5cc475db8540884a9e2aebe",
       "style": "IPY_MODEL_23d45c81a3ed4f7d9bd1bbcb3085fd8e"
      }
     },
     "fd69fd011cf04f6a96f10921656aeca0": {
      "model_module": "@jupyter-widgets/controls",
      "model_module_version": "1.5.0",
      "model_name": "DescriptionStyleModel",
      "state": {
       "description_width": ""
      }
     },
     "fdd3aaeb0a97488c9588d6227ab01899": {
      "model_module": "@jupyter-widgets/controls",
      "model_module_version": "1.5.0",
      "model_name": "ButtonStyleModel",
      "state": {}
     },
     "fe62c6959fc34f5498dfc06a568ff08e": {
      "model_module": "@jupyter-widgets/controls",
      "model_module_version": "1.5.0",
      "model_name": "DescriptionStyleModel",
      "state": {
       "description_width": ""
      }
     },
     "fedf7f7749b8421aa2e49a2eba6776c0": {
      "model_module": "@jupyter-widgets/controls",
      "model_module_version": "1.5.0",
      "model_name": "ButtonModel",
      "state": {
       "description": "click me to raise an exception",
       "layout": "IPY_MODEL_c697d601defd4101a34c6ba7582b5643",
       "style": "IPY_MODEL_415bf2cba38548608d79b332a04c8791"
      }
     },
     "ff4325aacefc4f3cbbb420009981779c": {
      "model_module": "@jupyter-widgets/base",
      "model_module_version": "1.2.0",
      "model_name": "LayoutModel",
      "state": {}
     },
     "ffa734f94cc74cf3b40c2041d6f6bda3": {
      "model_module": "@jupyter-widgets/base",
      "model_module_version": "1.2.0",
      "model_name": "LayoutModel",
      "state": {}
     },
     "ffd19155669743cb815e1a729883d37e": {
      "model_module": "@jupyter-widgets/base",
      "model_module_version": "1.2.0",
      "model_name": "LayoutModel",
      "state": {}
     }
    },
    "version_major": 2,
    "version_minor": 0
   }
  }
 },
 "nbformat": 4,
 "nbformat_minor": 5
}
